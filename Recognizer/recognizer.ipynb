{
 "cells": [
  {
   "cell_type": "code",
   "execution_count": 629,
   "metadata": {},
   "outputs": [],
   "source": [
    "import numpy as np\n",
    "from sklearn.model_selection import train_test_split\n",
    "from sklearn.model_selection import GridSearchCV\n",
    "from sklearn.datasets import fetch_lfw_people\n",
    "from sklearn.metrics import classification_report\n",
    "from sklearn.metrics import confusion_matrix\n",
    "from sklearn.decomposition import PCA\n",
    "from sklearn.svm import SVC\n",
    "import matplotlib.pyplot as plt\n",
    "import random"
   ]
  },
  {
   "cell_type": "code",
   "execution_count": 630,
   "metadata": {},
   "outputs": [],
   "source": [
    "# this command will download the LFW_people's dataset to hard disk.\n",
    "lfw_people = fetch_lfw_people(data_home='D:\\Senior II\\Image Processing\\Project\\LFW Dataset',\n",
    "min_faces_per_person = 70, resize = 0.4)"
   ]
  },
  {
   "cell_type": "code",
   "execution_count": 631,
   "metadata": {},
   "outputs": [
    {
     "name": "stdout",
     "output_type": "stream",
     "text": [
      "Images shape: (1288, 50, 37)\n",
      "Each image has size: 50 x 37\n",
      "M = Number of examples =  1288\n",
      "M_test = Number of test examples =  0\n",
      "Train images shape: (1288, 50, 37)\n",
      "Test images shape: (0, 50, 37)\n",
      "N^2 = n_features = h x w = 1850\n",
      "y has shape: (1288,)\n",
      "y_train has shape: (1288,)\n",
      "y_test has shape: (0,)\n",
      "Number of people = 7\n"
     ]
    }
   ],
   "source": [
    "images = lfw_people.images\n",
    "print('Images shape:',images.shape)\n",
    "\n",
    "\n",
    "total_images, h, w = images.shape\n",
    "print(f'Each image has size: {h} x {w}')\n",
    "\n",
    "m = int(total_images * 1)\n",
    "print('M = Number of examples = ', m)\n",
    "\n",
    "m_test = total_images - m\n",
    "print('M_test = Number of test examples = ', m_test)\n",
    "\n",
    "train_images = images[:int(m)]\n",
    "print('Train images shape:', train_images.shape)\n",
    "\n",
    "\n",
    "test_images = images[int(m):]\n",
    "print('Test images shape:', test_images.shape)\n",
    "\n",
    "n_features = h*w\n",
    "print(f'N^2 = n_features = h x w = {n_features}')\n",
    "\n",
    "y = lfw_people.target\n",
    "print('y has shape:', y.shape)\n",
    "\n",
    "y_train = y[:int(m)]\n",
    "print('y_train has shape:', y_train.shape)\n",
    "\n",
    "y_test = y[int(m):]\n",
    "print('y_test has shape:', y_test.shape)\n",
    "\n",
    "\n",
    "target_names = lfw_people.target_names\n",
    "num_people = target_names.shape[0]\n",
    "print('Number of people =', num_people)"
   ]
  },
  {
   "cell_type": "code",
   "execution_count": 632,
   "metadata": {},
   "outputs": [
    {
     "name": "stdout",
     "output_type": "stream",
     "text": [
      "['Ariel Sharon' 'Colin Powell' 'Donald Rumsfeld' 'George W Bush'\n",
      " 'Gerhard Schroeder' 'Hugo Chavez' 'Tony Blair']\n"
     ]
    }
   ],
   "source": [
    "print(target_names)"
   ]
  },
  {
   "cell_type": "code",
   "execution_count": 633,
   "metadata": {},
   "outputs": [],
   "source": [
    "#Key: person ID\n",
    "#Value: person image index\n",
    "person_image_dict = dict()\n",
    "for image_index in range(m):\n",
    "    if (y_train[image_index] not in person_image_dict.keys()):\n",
    "        person_image_dict[y_train[image_index]] = [image_index]\n",
    "    else:\n",
    "        person_image_dict[y_train[image_index]].append(image_index)"
   ]
  },
  {
   "cell_type": "code",
   "execution_count": 634,
   "metadata": {},
   "outputs": [
    {
     "name": "stdout",
     "output_type": "stream",
     "text": [
      "George W Bush\n"
     ]
    },
    {
     "data": {
      "image/png": "[encoded data removed]",
      "text/plain": [
       "<Figure size 432x288 with 1 Axes>"
      ]
     },
     "metadata": {
      "needs_background": "light"
     },
     "output_type": "display_data"
    }
   ],
   "source": [
    "#View an image\n",
    "index = int(random.random() * m)\n",
    "name = target_names[y[index]]\n",
    "print(name)\n",
    "plt.imshow(images[index,:,:])\n",
    "plt.show()"
   ]
  },
  {
   "cell_type": "code",
   "execution_count": 635,
   "metadata": {},
   "outputs": [
    {
     "ename": "ValueError",
     "evalue": "cannot reshape array of size 0 into shape (0,newaxis)",
     "output_type": "error",
     "traceback": [
      "\u001b[1;31m---------------------------------------------------------------------------\u001b[0m",
      "\u001b[1;31mValueError\u001b[0m                                Traceback (most recent call last)",
      "\u001b[1;32md:\\Senior II\\Image Processing\\Project\\FaceDetection-Recognition\\Recognizer\\recognizer.ipynb Cell 7\u001b[0m in \u001b[0;36m<cell line: 3>\u001b[1;34m()\u001b[0m\n\u001b[0;32m      <a href='vscode-notebook-cell:/d%3A/Senior%20II/Image%20Processing/Project/FaceDetection-Recognition/Recognizer/recognizer.ipynb#W5sZmlsZQ%3D%3D?line=0'>1</a>\u001b[0m \u001b[39m#Flatten images array\u001b[39;00m\n\u001b[0;32m      <a href='vscode-notebook-cell:/d%3A/Senior%20II/Image%20Processing/Project/FaceDetection-Recognition/Recognizer/recognizer.ipynb#W5sZmlsZQ%3D%3D?line=1'>2</a>\u001b[0m flattened_images \u001b[39m=\u001b[39m train_images\u001b[39m.\u001b[39mreshape(m, \u001b[39m-\u001b[39m\u001b[39m1\u001b[39m)\u001b[39m.\u001b[39mT\n\u001b[1;32m----> <a href='vscode-notebook-cell:/d%3A/Senior%20II/Image%20Processing/Project/FaceDetection-Recognition/Recognizer/recognizer.ipynb#W5sZmlsZQ%3D%3D?line=2'>3</a>\u001b[0m flattened_test_images \u001b[39m=\u001b[39m test_images\u001b[39m.\u001b[39;49mreshape(m_test, \u001b[39m-\u001b[39;49m\u001b[39m1\u001b[39;49m)\u001b[39m.\u001b[39mT\n\u001b[0;32m      <a href='vscode-notebook-cell:/d%3A/Senior%20II/Image%20Processing/Project/FaceDetection-Recognition/Recognizer/recognizer.ipynb#W5sZmlsZQ%3D%3D?line=3'>4</a>\u001b[0m \u001b[39m# N^2 * M\u001b[39;00m\n\u001b[0;32m      <a href='vscode-notebook-cell:/d%3A/Senior%20II/Image%20Processing/Project/FaceDetection-Recognition/Recognizer/recognizer.ipynb#W5sZmlsZQ%3D%3D?line=4'>5</a>\u001b[0m \u001b[39m# Each column is an image\u001b[39;00m\n\u001b[0;32m      <a href='vscode-notebook-cell:/d%3A/Senior%20II/Image%20Processing/Project/FaceDetection-Recognition/Recognizer/recognizer.ipynb#W5sZmlsZQ%3D%3D?line=5'>6</a>\u001b[0m \u001b[39mprint\u001b[39m(\u001b[39mf\u001b[39m\u001b[39m'\u001b[39m\u001b[39mShape after flattening: \u001b[39m\u001b[39m{\u001b[39;00mflattened_images\u001b[39m.\u001b[39mshape\u001b[39m}\u001b[39;00m\u001b[39m'\u001b[39m)\n",
      "\u001b[1;31mValueError\u001b[0m: cannot reshape array of size 0 into shape (0,newaxis)"
     ]
    }
   ],
   "source": [
    "#Flatten images array\n",
    "flattened_images = train_images.reshape(m, -1).T\n",
    "# flattened_test_images = test_images.reshape(m_test, -1).T\n",
    "# N^2 * M\n",
    "# Each column is an image\n",
    "print(f'Shape after flattening: {flattened_images.shape}')"
   ]
  },
  {
   "cell_type": "code",
   "execution_count": null,
   "metadata": {},
   "outputs": [
    {
     "name": "stdout",
     "output_type": "stream",
     "text": [
      "Flattened Average image has shape: (1850, 1)\n",
      "Average Face\n"
     ]
    },
    {
     "data": {
      "image/png": "[encoded data removed]",
      "text/plain": [
       "<Figure size 432x288 with 1 Axes>"
      ]
     },
     "metadata": {
      "needs_background": "light"
     },
     "output_type": "display_data"
    }
   ],
   "source": [
    "# In all corresponding pixels in all images, we calculate the average\n",
    "average_image = np.mean(flattened_images, axis = 1)\n",
    "average_image = average_image.reshape(h, w)\n",
    "flattened_average_image = average_image.reshape(-1, 1)\n",
    "print(f'Flattened Average image has shape: {flattened_average_image.shape}')\n",
    "print('Average Face')\n",
    "plt.imshow(average_image)\n",
    "plt.show()"
   ]
  },
  {
   "cell_type": "code",
   "execution_count": null,
   "metadata": {},
   "outputs": [
    {
     "name": "stdout",
     "output_type": "stream",
     "text": [
      "Shape after subtracting average face: (1850, 1159)\n",
      "Tony Blair\n"
     ]
    },
    {
     "data": {
      "image/png": "[encoded data removed]",
      "text/plain": [
       "<Figure size 432x288 with 1 Axes>"
      ]
     },
     "metadata": {
      "needs_background": "light"
     },
     "output_type": "display_data"
    },
    {
     "data": {
      "image/png": "[encoded data removed]",
      "text/plain": [
       "<Figure size 432x288 with 1 Axes>"
      ]
     },
     "metadata": {
      "needs_background": "light"
     },
     "output_type": "display_data"
    }
   ],
   "source": [
    "# Subtract the average image from all images\n",
    "# This is done to remove the average face from all images\n",
    "# N^2 * M\n",
    "difference_images = flattened_images - average_image.reshape(-1, 1)\n",
    "print(f'Shape after subtracting average face: {flattened_images.shape}')\n",
    "\n",
    "# Show one of the difference images\n",
    "index = int(random.random() * m)\n",
    "name = target_names[y_train[index]]\n",
    "print(name)\n",
    "plt.imshow(difference_images[:,index].reshape(h, w))\n",
    "plt.show()\n",
    "# Print original image\n",
    "plt.imshow(images[index,:,:])\n",
    "plt.show()"
   ]
  },
  {
   "cell_type": "code",
   "execution_count": null,
   "metadata": {},
   "outputs": [
    {
     "name": "stdout",
     "output_type": "stream",
     "text": [
      "Shape of A: (1850, 1159)\n",
      "Shape of covariance matrix: (1850, 1850)\n"
     ]
    }
   ],
   "source": [
    "# Get the covariance matrix C \n",
    "# C = A * A^T where A = [difference_images[0], difference_images[1], ..., difference_images[M-1]]\n",
    "\n",
    "A = difference_images\n",
    "print('Shape of A:', A.shape)\n",
    "\n",
    "covariance_matrix = np.matmul(difference_images, difference_images.T)\n",
    "# N^2 * N^2\n",
    "print('Shape of covariance matrix:', covariance_matrix.shape)"
   ]
  },
  {
   "cell_type": "code",
   "execution_count": null,
   "metadata": {},
   "outputs": [
    {
     "name": "stdout",
     "output_type": "stream",
     "text": [
      "Shape of L: (1159, 1159)\n",
      "Shape of eigenvalues: (1159,)\n",
      "Shape of eigenvectors: (1159, 1159)\n"
     ]
    }
   ],
   "source": [
    "# Calculate the eigenvalues and eigenvectors of L\n",
    "# where L = A^T * A\n",
    "\n",
    "L = np.matmul(A.T, A)\n",
    "# M * M\n",
    "print('Shape of L:', L.shape)\n",
    "\n",
    "# M eigenvalues and M eigenvectors\n",
    "# where M is the number of examples\n",
    "\n",
    "eigenvalues, eigenvectors = np.linalg.eig(L)\n",
    "print('Shape of eigenvalues:', eigenvalues.shape)\n",
    "print('Shape of eigenvectors:', eigenvectors.shape)\n"
   ]
  },
  {
   "cell_type": "code",
   "execution_count": null,
   "metadata": {},
   "outputs": [
    {
     "name": "stdout",
     "output_type": "stream",
     "text": [
      "Shape of eigenfaces: (1850, 1159)\n"
     ]
    }
   ],
   "source": [
    "# Those Eigenvectors detdetermine linear combinations of the M training set face images \n",
    "# to form the eigenfaces U\n",
    "\n",
    "# differences: N^2 * M\n",
    "# differences[:, i, np.newaxis]: N^2 * 1\n",
    "# eigenvectors: M * M\n",
    "# eigenvectors[:, i, np.newaxis]: M * 1\n",
    "# eigenvectors[:, i, np.newaxis].T: 1 * M\n",
    "\n",
    "eigenfaces = np.zeros((n_features, m))\n",
    "# TODO optimize the for loop\n",
    "for i in range(m):\n",
    "    eigenfaces += np.matmul(difference_images[:, i, np.newaxis], eigenvectors[:, i, np.newaxis].T)\n",
    "\n",
    "\n",
    "# N^2 * M\n",
    "print('Shape of eigenfaces:', eigenfaces.shape)\n"
   ]
  },
  {
   "cell_type": "code",
   "execution_count": null,
   "metadata": {},
   "outputs": [],
   "source": [
    "# Alternative way of calculating the eigenfaces\n",
    "# eigenfaces = eigenvectors of the covariance matrix C\n",
    "\n",
    "# _, eigenfaces = np.linalg.eig(covariance_matrix)"
   ]
  },
  {
   "cell_type": "code",
   "execution_count": null,
   "metadata": {},
   "outputs": [
    {
     "name": "stdout",
     "output_type": "stream",
     "text": [
      "Gerhard Schroeder\n"
     ]
    },
    {
     "data": {
      "image/png": "[encoded data removed]",
      "text/plain": [
       "<Figure size 432x288 with 1 Axes>"
      ]
     },
     "metadata": {
      "needs_background": "light"
     },
     "output_type": "display_data"
    }
   ],
   "source": [
    "# Show one of the eigenfaces\n",
    "index = int(random.random() * m)\n",
    "name = target_names[y_train[index]]\n",
    "print(name)\n",
    "plt.imshow(eigenfaces[:,index].reshape(h, w))\n",
    "plt.show()\n"
   ]
  },
  {
   "cell_type": "code",
   "execution_count": null,
   "metadata": {},
   "outputs": [],
   "source": [
    "# For each person, get one image from flattened_images\n",
    "# Calculate the weigths w\n",
    "omegas = np.zeros((num_people, m))\n",
    "\n",
    "for person in range(num_people):\n",
    "    \n",
    "    #get 10 image of the person\n",
    "    image = np.zeros((n_features, 1))\n",
    "    \n",
    "    # for i in range(10):\n",
    "    #     image_index = person_image_dict[person][i]\n",
    "    #     image += flattened_images[:, image_index, np.newaxis]\n",
    "    # image /= 10\n",
    "\n",
    "    # averaged_eigenfaces = np.zeros((n_features,1))\n",
    "    # for i in person_image_dict[person]:\n",
    "    #     averaged_eigenfaces += eigenfaces[:, i, np.newaxis]\n",
    "    # averaged_eigenfaces /= len(person_image_dict[person])\n",
    "\n",
    "\n",
    "    image_index = person_image_dict[person][0]\n",
    "    image = flattened_images[:, image_index, np.newaxis]\n",
    "\n",
    "    \n",
    "    # calculate the weights\n",
    "    for i in range(m):\n",
    "        omegas[person, i] += np.matmul(eigenfaces[:, i, np.newaxis].T , image - flattened_average_image)\n"
   ]
  },
  {
   "cell_type": "code",
   "execution_count": null,
   "metadata": {},
   "outputs": [],
   "source": [
    "omegas = np.zeros((m,m))\n",
    "\n",
    "for i in range(m):\n",
    "    # Calculate the weigths w\n",
    "    #get image i\n",
    "    image = flattened_images[:,i, np.newaxis]\n",
    "    w = np.zeros((m,))\n",
    "    for j in range(m):\n",
    "        w[j] = np.matmul(eigenfaces[:,j, np.newaxis].T, image - flattened_average_image)\n",
    "    omegas[:,i] = w\n",
    "    "
   ]
  },
  {
   "attachments": {},
   "cell_type": "markdown",
   "metadata": {},
   "source": [
    "## Testing"
   ]
  },
  {
   "cell_type": "code",
   "execution_count": null,
   "metadata": {},
   "outputs": [
    {
     "name": "stdout",
     "output_type": "stream",
     "text": [
      "Accuracy: 31.7%\n"
     ]
    }
   ],
   "source": [
    "# Accuracy calculation\n",
    "count = 0\n",
    "trials = 1000\n",
    "for trial in range(trials):\n",
    "    # New test image\n",
    "    index = int(random.random() * m_test)\n",
    "    #take on image from A randomly\n",
    "    test_image = flattened_images[:,index, np.newaxis]\n",
    "\n",
    "    # Calculate the weigths w\n",
    "    w = np.zeros((m,))\n",
    "    for i in range(m):\n",
    "        w[i] = np.matmul(eigenfaces[:,i, np.newaxis].T, test_image - flattened_average_image)\n",
    "\n",
    "    min_distance = float('inf')\n",
    "    nearest_person = -1\n",
    "\n",
    "    for image_index in range(m):\n",
    "        distance = np.linalg.norm(w - omegas[:, image_index])\n",
    "        if(distance < min_distance):\n",
    "            min_distance = distance\n",
    "            nearest_person = y_train[image_index]\n",
    "\n",
    "    threshold = float('inf')\n",
    "    if (min_distance < threshold):\n",
    "        if(nearest_person == y_train[index]):\n",
    "            count += 1\n",
    "print(f'Accuracy: {count/trials*100}%')"
   ]
  },
  {
   "cell_type": "code",
   "execution_count": null,
   "metadata": {},
   "outputs": [
    {
     "name": "stdout",
     "output_type": "stream",
     "text": [
      "Test image has shape: (1850, 1)\n"
     ]
    }
   ],
   "source": [
    "# New test image\n",
    "# index = int(random.random() * images.shape[0])\n",
    "index = 506\n",
    "#take on image from A randomly\n",
    "test_image = flattened_images[:,index, np.newaxis]\n",
    "print(f'Test image has shape: {test_image.shape}')"
   ]
  },
  {
   "cell_type": "code",
   "execution_count": null,
   "metadata": {},
   "outputs": [],
   "source": [
    "# Calculate the weigths w\n",
    "w = np.zeros((m,))\n",
    "for i in range(m):\n",
    "    w[i] = np.matmul(eigenfaces[:,i, np.newaxis].T, test_image - flattened_average_image)"
   ]
  },
  {
   "cell_type": "code",
   "execution_count": null,
   "metadata": {},
   "outputs": [
    {
     "name": "stdout",
     "output_type": "stream",
     "text": [
      "The nearest person is Donald Rumsfeld\n",
      "True person: Donald Rumsfeld\n"
     ]
    }
   ],
   "source": [
    "min_distance = float('inf')\n",
    "nearest_person = -1\n",
    "\n",
    "for image_index in range(m):\n",
    "    distance = np.linalg.norm(w - omegas[:, image_index])\n",
    "    if(distance < min_distance):\n",
    "        min_distance = distance\n",
    "        nearest_person = y[image_index]\n",
    "    # print(f'Distance between test image and {target_names[person]} is {distance}')\n",
    "\n",
    "threshold = float('inf')\n",
    "if (min_distance < threshold):\n",
    "    print(f'The nearest person is {target_names[nearest_person]}')\n",
    "    print(f'True person: {target_names[y[index]]}')\n",
    "else:\n",
    "    print('No person found')"
   ]
  },
  {
   "cell_type": "code",
   "execution_count": null,
   "metadata": {},
   "outputs": [],
   "source": [
    "# # Calculate the distance between the test image and the image of the person\n",
    "# # The person with the smallest distance is the person in the test image\n",
    "\n",
    "# min_distance = float('inf')\n",
    "# nearest_person = -1\n",
    "\n",
    "# for person in range(num_people):\n",
    "#     distance = np.linalg.norm(w - omegas[person, :])\n",
    "#     if(distance < min_distance):\n",
    "#         min_distance = distance\n",
    "#         nearest_person = person\n",
    "#     print(f'Distance between test image and {target_names[person]} is {distance}')\n",
    "\n",
    "# threshold = float('inf')\n",
    "# if (min_distance < threshold):\n",
    "#     print(f'The nearest person is {target_names[nearest_person]}')\n",
    "#     print(f'True person: {target_names[y[index]]}')\n",
    "# else:\n",
    "#     print('No person found')\n"
   ]
  }
 ],
 "metadata": {
  "kernelspec": {
   "display_name": "Python 3",
   "language": "python",
   "name": "python3"
  },
  "language_info": {
   "codemirror_mode": {
    "name": "ipython",
    "version": 3
   },
   "file_extension": ".py",
   "mimetype": "text/x-python",
   "name": "python",
   "nbconvert_exporter": "python",
   "pygments_lexer": "ipython3",
   "version": "3.9.5"
  },
  "orig_nbformat": 4,
  "vscode": {
   "interpreter": {
    "hash": "20aebf7f160902ad9dd8cbfe460d54a7c92755b430d8a2756048c9f24f1ce0aa"
   }
  }
 },
 "nbformat": 4,
 "nbformat_minor": 2
}
