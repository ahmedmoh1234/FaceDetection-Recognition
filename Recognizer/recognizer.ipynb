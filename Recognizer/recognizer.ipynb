{
 "cells": [
  {
   "cell_type": "code",
   "execution_count": 36,
   "metadata": {},
   "outputs": [],
   "source": [
    "import numpy as np\n",
    "from sklearn.model_selection import train_test_split\n",
    "from sklearn.model_selection import GridSearchCV\n",
    "from sklearn.datasets import fetch_lfw_people\n",
    "from sklearn.metrics import classification_report\n",
    "from sklearn.metrics import confusion_matrix\n",
    "from sklearn.decomposition import PCA\n",
    "from sklearn.svm import SVC\n",
    "import matplotlib.pyplot as plt\n",
    "import random"
   ]
  },
  {
   "cell_type": "code",
   "execution_count": 37,
   "metadata": {},
   "outputs": [],
   "source": [
    "# this command will download the LFW_people's dataset to hard disk.\n",
    "# lfw_people = fetch_lfw_people(data_home='D:\\Senior II\\Image Processing\\Project\\LFW Dataset',\n",
    "lfw_people = fetch_lfw_people(data_home='D:\\Work\\CCE\\Year 4 - Senior 2\\Semester 1\\Senior-2-Semester-1\\Image Processing\\Project',\n",
    "min_faces_per_person = 70, resize = 0.4)"
   ]
  },
  {
   "cell_type": "code",
   "execution_count": 38,
   "metadata": {},
   "outputs": [
    {
     "name": "stdout",
     "output_type": "stream",
     "text": [
      "Images shape: (1288, 50, 37)\n",
      "Each image has size: 50 x 37\n",
      "----------------------------------------------------------------------\n",
      "M = Number of examples =  1030\n",
      "M_test = Number of test examples =  258\n",
      "Train images shape: (1030, 50, 37)\n",
      "Test images shape: (258, 50, 37)\n",
      "N^2 = n_features = h x w = 1850\n",
      "----------------------------------------------------------------------\n",
      "y has shape: (1288,)\n",
      "y_train has shape: (1030,)\n",
      "y_test has shape: (258,)\n",
      "Number of people = 7\n"
     ]
    }
   ],
   "source": [
    "images = lfw_people.images\n",
    "print('Images shape:',images.shape)\n",
    "\n",
    "total_images, h, w = images.shape\n",
    "print(f'Each image has size: {h} x {w}')\n",
    "\n",
    "print(70* '-')\n",
    "\n",
    "m = int(total_images * 0.8)\n",
    "print('M = Number of examples = ', m)\n",
    "\n",
    "m_test = total_images - m\n",
    "print('M_test = Number of test examples = ', m_test)\n",
    "\n",
    "train_images = images[:int(m)]\n",
    "print('Train images shape:', train_images.shape)\n",
    "\n",
    "test_images = images[int(m):]\n",
    "print('Test images shape:', test_images.shape)\n",
    "\n",
    "n_features = h*w\n",
    "print(f'N^2 = n_features = h x w = {n_features}')\n",
    "\n",
    "print(70* '-')\n",
    "\n",
    "y = lfw_people.target\n",
    "print('y has shape:', y.shape)\n",
    "\n",
    "y_train = y[:int(m)]\n",
    "print('y_train has shape:', y_train.shape)\n",
    "\n",
    "y_test = y[int(m):]\n",
    "print('y_test has shape:', y_test.shape)\n",
    "\n",
    "target_names = lfw_people.target_names\n",
    "num_people = target_names.shape[0]\n",
    "print('Number of people =', num_people)"
   ]
  },
  {
   "cell_type": "code",
   "execution_count": 39,
   "metadata": {},
   "outputs": [
    {
     "name": "stdout",
     "output_type": "stream",
     "text": [
      "['Ariel Sharon' 'Colin Powell' 'Donald Rumsfeld' 'George W Bush'\n",
      " 'Gerhard Schroeder' 'Hugo Chavez' 'Tony Blair']\n"
     ]
    }
   ],
   "source": [
    "print(target_names)"
   ]
  },
  {
   "cell_type": "code",
   "execution_count": 40,
   "metadata": {},
   "outputs": [],
   "source": [
    "#----------------------- CREATE PEOPLE DICTIONARY -----------------------#\n",
    "\n",
    "# Key: person ID\n",
    "# Value: List of all person images indices\n",
    "person_image_dict = dict()\n",
    "for image_index in range(m):\n",
    "    if (y_train[image_index] not in person_image_dict.keys()):\n",
    "        person_image_dict[y_train[image_index]] = [image_index]\n",
    "    else:\n",
    "        person_image_dict[y_train[image_index]].append(image_index)"
   ]
  },
  {
   "cell_type": "code",
   "execution_count": 41,
   "metadata": {},
   "outputs": [
    {
     "name": "stdout",
     "output_type": "stream",
     "text": [
      "Gerhard Schroeder\n"
     ]
    },
    {
     "data": {
      "image/png": "[encoded data removed]",
      "text/plain": [
       "<Figure size 432x288 with 1 Axes>"
      ]
     },
     "metadata": {
      "needs_background": "light"
     },
     "output_type": "display_data"
    }
   ],
   "source": [
    "# ------------------ VIEW RANDOM IMAGE ------------------ #\n",
    "index = int(random.random() * m)\n",
    "image = images[index,:,:]\n",
    "name = target_names[y[index]]\n",
    "\n",
    "print(name)\n",
    "plt.imshow(image, cmap='gray')\n",
    "plt.show()"
   ]
  },
  {
   "cell_type": "code",
   "execution_count": 42,
   "metadata": {},
   "outputs": [
    {
     "name": "stdout",
     "output_type": "stream",
     "text": [
      "Shape of training images after flattening: (1850, 1030)\n",
      "Shape of test images after flattening: (1850, 258)\n"
     ]
    }
   ],
   "source": [
    "# --------------------- GET FLATTEN IMAGES --------------------- #\n",
    "\n",
    "# Flatten images array\n",
    "# Each column is an image\n",
    "\n",
    "# N^2 * M\n",
    "flattened_images = train_images.reshape(m, -1).T\n",
    "\n",
    "# N^2 * M_test\n",
    "flattened_test_images = test_images.reshape(m_test, -1).T\n",
    "\n",
    "print(f'Shape of training images after flattening: {flattened_images.shape}')\n",
    "print(f'Shape of test images after flattening: {flattened_test_images.shape}')"
   ]
  },
  {
   "cell_type": "code",
   "execution_count": 68,
   "metadata": {},
   "outputs": [
    {
     "name": "stdout",
     "output_type": "stream",
     "text": [
      "Average image has shape: (1850, 1)\n"
     ]
    },
    {
     "data": {
      "image/png": "[encoded data removed]",
      "text/plain": [
       "<Figure size 432x288 with 1 Axes>"
      ]
     },
     "metadata": {
      "needs_background": "light"
     },
     "output_type": "display_data"
    }
   ],
   "source": [
    "# ----------------- CALCULATE AVERAGE IMAGE ----------------- #\n",
    "\n",
    "# In all corresponding pixels in all images, we calculate the average\n",
    "\n",
    "# N^2 * 1\n",
    "average_image = np.mean(flattened_images, axis = 1)[:,np.newaxis]\n",
    "\n",
    "print(f'Average image has shape: {average_image.shape}')\n",
    "plt.imshow(average_image.reshape(h,w), cmap='gray')\n",
    "plt.show()"
   ]
  },
  {
   "cell_type": "code",
   "execution_count": 69,
   "metadata": {},
   "outputs": [
    {
     "name": "stdout",
     "output_type": "stream",
     "text": [
      "Shape after subtracting average face: (1850, 1030)\n"
     ]
    }
   ],
   "source": [
    "#-------------------------------- GET DIFFERENCE IMAGES --------------------------------#\n",
    "\n",
    "# Subtract the average image from all images\n",
    "# This is done to remove the average face from all images\n",
    "# N^2 * M\n",
    "difference_images = flattened_images - average_image\n",
    "\n",
    "print(f'Shape after subtracting average face: {difference_images.shape}')\n"
   ]
  },
  {
   "cell_type": "code",
   "execution_count": 70,
   "metadata": {},
   "outputs": [
    {
     "name": "stdout",
     "output_type": "stream",
     "text": [
      "Colin Powell\n"
     ]
    },
    {
     "data": {
      "image/png": "[encoded data removed]",
      "text/plain": [
       "<Figure size 432x288 with 1 Axes>"
      ]
     },
     "metadata": {
      "needs_background": "light"
     },
     "output_type": "display_data"
    },
    {
     "data": {
      "image/png": "[encoded data removed]",
      "text/plain": [
       "<Figure size 432x288 with 1 Axes>"
      ]
     },
     "metadata": {
      "needs_background": "light"
     },
     "output_type": "display_data"
    }
   ],
   "source": [
    "# --------------------- SHOW ONE DIFFERENCE IMAGE AND COMPARE TO ORIGINAL --------------------- #\n",
    "index = int(random.random() * m)\n",
    "name = target_names[y_train[index]]\n",
    "\n",
    "print(name)\n",
    "plt.imshow(difference_images[:,index].reshape(h, w))\n",
    "plt.show()\n",
    "\n",
    "# Print original image\n",
    "plt.imshow(images[index,:,:])\n",
    "plt.show()"
   ]
  },
  {
   "cell_type": "code",
   "execution_count": 71,
   "metadata": {},
   "outputs": [
    {
     "name": "stdout",
     "output_type": "stream",
     "text": [
      "Shape of covariance matrix: (1850, 1850)\n"
     ]
    }
   ],
   "source": [
    "#--------------------- GET COVARIANCE MATRIX --------------------- #\n",
    "\n",
    "# C = A * A^T where A = difference_images\n",
    "\n",
    "A = difference_images\n",
    "\n",
    "# N^2 * N^2\n",
    "covariance_matrix = np.matmul(difference_images, difference_images.T)\n",
    "\n",
    "print('Shape of covariance matrix:', covariance_matrix.shape)"
   ]
  },
  {
   "cell_type": "code",
   "execution_count": 72,
   "metadata": {},
   "outputs": [
    {
     "name": "stdout",
     "output_type": "stream",
     "text": [
      "Shape of L: (1030, 1030)\n",
      "Shape of eigenvalues: (1030,)\n",
      "Shape of eigenvectors: (1030, 1030)\n"
     ]
    }
   ],
   "source": [
    "# --------------------------------- GET EIGENVALUES AND EIGENVECTORS --------------------------------- #\n",
    "\n",
    "# Calculate the eigenvalues and eigenvectors of L\n",
    "# where L = A^T * A\n",
    "\n",
    "# M * M\n",
    "L = np.matmul(A.T, A)\n",
    "\n",
    "print('Shape of L:', L.shape)\n",
    "\n",
    "# M eigenvalues and M eigenvectors\n",
    "# where M is the number of examples\n",
    "\n",
    "eigenvalues, eigenvectors = np.linalg.eig(L)\n",
    "print('Shape of eigenvalues:', eigenvalues.shape)\n",
    "print('Shape of eigenvectors:', eigenvectors.shape)\n"
   ]
  },
  {
   "cell_type": "code",
   "execution_count": 73,
   "metadata": {},
   "outputs": [
    {
     "name": "stdout",
     "output_type": "stream",
     "text": [
      "Shape of eigenfaces: (1850, 1030)\n"
     ]
    }
   ],
   "source": [
    "# ------------------------ GET EIGENFACES ------------------------ #\n",
    "\n",
    "\n",
    "# Those Eigenvectors determine linear combinations of the M training set face images \n",
    "# to form the eigenfaces U\n",
    "\n",
    "# difference_images: N^2 * M\n",
    "# difference_images[:, i, np.newaxis]: N^2 * 1\n",
    "\n",
    "# eigenvectors: M * M\n",
    "# eigenvectors[:, i, np.newaxis]: M * 1\n",
    "\n",
    "# N^2 * M\n",
    "eigenfaces = np.zeros((n_features, m))\n",
    "\n",
    "# TODO optimize the for loop\n",
    "for i in range(m):\n",
    "    eigenfaces += np.matmul(difference_images[:, i, np.newaxis], eigenvectors[:, i, np.newaxis].T)\n",
    "\n",
    "print('Shape of eigenfaces:', eigenfaces.shape)\n"
   ]
  },
  {
   "cell_type": "code",
   "execution_count": 74,
   "metadata": {},
   "outputs": [
    {
     "name": "stdout",
     "output_type": "stream",
     "text": [
      "George W Bush\n"
     ]
    },
    {
     "data": {
      "image/png": "[encoded data removed]",
      "text/plain": [
       "<Figure size 432x288 with 1 Axes>"
      ]
     },
     "metadata": {
      "needs_background": "light"
     },
     "output_type": "display_data"
    }
   ],
   "source": [
    "# ------------------------ SHOW A RANDOM EIGENFACE ------------------------ #\n",
    "\n",
    "index = int(random.random() * m)\n",
    "name = target_names[y_train[index]]\n",
    "\n",
    "print(name)\n",
    "plt.imshow(eigenfaces[:,index].reshape(h, w))\n",
    "plt.show()\n"
   ]
  },
  {
   "cell_type": "code",
   "execution_count": 693,
   "metadata": {},
   "outputs": [],
   "source": [
    "# For each person, get one image from flattened_images\n",
    "# Calculate the weigths w\n",
    "omegas = np.zeros((num_people, m))\n",
    "\n",
    "for person in range(num_people):\n",
    "    \n",
    "    #get 10 image of the person\n",
    "    image = np.zeros((n_features, 1))\n",
    "    \n",
    "    # for i in range(10):\n",
    "    #     image_index = person_image_dict[person][i]\n",
    "    #     image += flattened_images[:, image_index, np.newaxis]\n",
    "    # image /= 10\n",
    "\n",
    "    # averaged_eigenfaces = np.zeros((n_features,1))\n",
    "    # for i in person_image_dict[person]:\n",
    "    #     averaged_eigenfaces += eigenfaces[:, i, np.newaxis]\n",
    "    # averaged_eigenfaces /= len(person_image_dict[person])\n",
    "\n",
    "\n",
    "    image_index = person_image_dict[person][0]\n",
    "    image = flattened_images[:, image_index, np.newaxis]\n",
    "\n",
    "    \n",
    "    # calculate the weights\n",
    "    for i in range(m):\n",
    "        omegas[person, i] += np.matmul(eigenfaces[:, i, np.newaxis].T , image - flattened_average_image)\n"
   ]
  },
  {
   "cell_type": "code",
   "execution_count": 695,
   "metadata": {},
   "outputs": [],
   "source": [
    "omegas = np.zeros((num_people, m))\n",
    "\n",
    "for i in range(m):\n",
    "    # Calculate the weigths w\n",
    "    #get image i\n",
    "    image = flattened_images[:,i, np.newaxis]\n",
    "    w = np.zeros((m,))\n",
    "    for j in range(m):\n",
    "        w[j] = np.matmul(eigenfaces[:,j, np.newaxis].T, image - flattened_average_image)\n",
    "    omegas[y_train[i], :] += w\n",
    "\n",
    "for i in range(num_people):\n",
    "    omegas[i] /= len(person_image_dict[i])"
   ]
  },
  {
   "attachments": {},
   "cell_type": "markdown",
   "metadata": {},
   "source": [
    "## Testing"
   ]
  },
  {
   "cell_type": "code",
   "execution_count": 696,
   "metadata": {},
   "outputs": [
    {
     "ename": "ValueError",
     "evalue": "operands could not be broadcast together with shapes (1030,) (7,) ",
     "output_type": "error",
     "traceback": [
      "\u001b[1;31m---------------------------------------------------------------------------\u001b[0m",
      "\u001b[1;31mValueError\u001b[0m                                Traceback (most recent call last)",
      "\u001b[1;32md:\\Senior II\\Image Processing\\Project\\FaceDetection-Recognition\\Recognizer\\recognizer.ipynb Cell 18\u001b[0m in \u001b[0;36m<cell line: 4>\u001b[1;34m()\u001b[0m\n\u001b[0;32m     <a href='vscode-notebook-cell:/d%3A/Senior%20II/Image%20Processing/Project/FaceDetection-Recognition/Recognizer/recognizer.ipynb#X44sZmlsZQ%3D%3D?line=15'>16</a>\u001b[0m nearest_person \u001b[39m=\u001b[39m \u001b[39m-\u001b[39m\u001b[39m1\u001b[39m\n\u001b[0;32m     <a href='vscode-notebook-cell:/d%3A/Senior%20II/Image%20Processing/Project/FaceDetection-Recognition/Recognizer/recognizer.ipynb#X44sZmlsZQ%3D%3D?line=17'>18</a>\u001b[0m \u001b[39mfor\u001b[39;00m image_index \u001b[39min\u001b[39;00m \u001b[39mrange\u001b[39m(m):\n\u001b[1;32m---> <a href='vscode-notebook-cell:/d%3A/Senior%20II/Image%20Processing/Project/FaceDetection-Recognition/Recognizer/recognizer.ipynb#X44sZmlsZQ%3D%3D?line=18'>19</a>\u001b[0m     distance \u001b[39m=\u001b[39m np\u001b[39m.\u001b[39mlinalg\u001b[39m.\u001b[39mnorm(w \u001b[39m-\u001b[39;49m omegas[:, image_index])\n\u001b[0;32m     <a href='vscode-notebook-cell:/d%3A/Senior%20II/Image%20Processing/Project/FaceDetection-Recognition/Recognizer/recognizer.ipynb#X44sZmlsZQ%3D%3D?line=19'>20</a>\u001b[0m     \u001b[39mif\u001b[39;00m(distance \u001b[39m<\u001b[39m min_distance):\n\u001b[0;32m     <a href='vscode-notebook-cell:/d%3A/Senior%20II/Image%20Processing/Project/FaceDetection-Recognition/Recognizer/recognizer.ipynb#X44sZmlsZQ%3D%3D?line=20'>21</a>\u001b[0m         min_distance \u001b[39m=\u001b[39m distance\n",
      "\u001b[1;31mValueError\u001b[0m: operands could not be broadcast together with shapes (1030,) (7,) "
     ]
    }
   ],
   "source": [
    "# Accuracy calculation\n",
    "count = 0\n",
    "trials = 1000\n",
    "for trial in range(trials):\n",
    "    # New test image\n",
    "    index = int(random.random() * m_test)\n",
    "    #take on image from A randomly\n",
    "    test_image = flattened_test_images[:,index, np.newaxis]\n",
    "\n",
    "    # Calculate the weigths w\n",
    "    w = np.zeros((m,))\n",
    "    for i in range(m):\n",
    "        w[i] = np.matmul(eigenfaces[:,i, np.newaxis].T, test_image - flattened_average_image)\n",
    "\n",
    "    min_distance = float('inf')\n",
    "    nearest_person = -1\n",
    "\n",
    "    for person in range(num_people):\n",
    "        distance = np.linalg.norm(w - omegas[person,:])\n",
    "        if(distance < min_distance):\n",
    "            min_distance = distance\n",
    "            nearest_person = person\n",
    "\n",
    "    threshold = float('inf')\n",
    "    if (min_distance < threshold):\n",
    "        if(nearest_person == y_train[index]):\n",
    "            count += 1\n",
    "print(f'Accuracy: {count/trials*100}%')"
   ]
  },
  {
   "cell_type": "code",
   "execution_count": null,
   "metadata": {},
   "outputs": [
    {
     "name": "stdout",
     "output_type": "stream",
     "text": [
      "Test image has shape: (1850, 1)\n"
     ]
    }
   ],
   "source": [
    "# New test image\n",
    "# index = int(random.random() * images.shape[0])\n",
    "index = 506\n",
    "#take on image from A randomly\n",
    "test_image = flattened_images[:,index, np.newaxis]\n",
    "print(f'Test image has shape: {test_image.shape}')"
   ]
  },
  {
   "cell_type": "code",
   "execution_count": null,
   "metadata": {},
   "outputs": [],
   "source": [
    "# Calculate the weigths w\n",
    "w = np.zeros((m,))\n",
    "for i in range(m):\n",
    "    w[i] = np.matmul(eigenfaces[:,i, np.newaxis].T, test_image - flattened_average_image)"
   ]
  },
  {
   "cell_type": "code",
   "execution_count": null,
   "metadata": {},
   "outputs": [
    {
     "name": "stdout",
     "output_type": "stream",
     "text": [
      "The nearest person is Donald Rumsfeld\n",
      "True person: Donald Rumsfeld\n"
     ]
    }
   ],
   "source": [
    "min_distance = float('inf')\n",
    "nearest_person = -1\n",
    "\n",
    "for image_index in range(m):\n",
    "    distance = np.linalg.norm(w - omegas[:, image_index])\n",
    "    if(distance < min_distance):\n",
    "        min_distance = distance\n",
    "        nearest_person = y[image_index]\n",
    "    # print(f'Distance between test image and {target_names[person]} is {distance}')\n",
    "\n",
    "threshold = float('inf')\n",
    "if (min_distance < threshold):\n",
    "    print(f'The nearest person is {target_names[nearest_person]}')\n",
    "    print(f'True person: {target_names[y[index]]}')\n",
    "else:\n",
    "    print('No person found')"
   ]
  },
  {
   "cell_type": "code",
   "execution_count": null,
   "metadata": {},
   "outputs": [],
   "source": [
    "# # Calculate the distance between the test image and the image of the person\n",
    "# # The person with the smallest distance is the person in the test image\n",
    "\n",
    "# min_distance = float('inf')\n",
    "# nearest_person = -1\n",
    "\n",
    "# for person in range(num_people):\n",
    "#     distance = np.linalg.norm(w - omegas[person, :])\n",
    "#     if(distance < min_distance):\n",
    "#         min_distance = distance\n",
    "#         nearest_person = person\n",
    "#     print(f'Distance between test image and {target_names[person]} is {distance}')\n",
    "\n",
    "# threshold = float('inf')\n",
    "# if (min_distance < threshold):\n",
    "#     print(f'The nearest person is {target_names[nearest_person]}')\n",
    "#     print(f'True person: {target_names[y[index]]}')\n",
    "# else:\n",
    "#     print('No person found')\n"
   ]
  }
 ],
 "metadata": {
  "kernelspec": {
   "display_name": "Python 3.9.12 ('base')",
   "language": "python",
   "name": "python3"
  },
  "language_info": {
   "codemirror_mode": {
    "name": "ipython",
    "version": 3
   },
   "file_extension": ".py",
   "mimetype": "text/x-python",
   "name": "python",
   "nbconvert_exporter": "python",
   "pygments_lexer": "ipython3",
   "version": "3.9.12"
  },
  "orig_nbformat": 4,
  "vscode": {
   "interpreter": {
    "hash": "ad2bdc8ecc057115af97d19610ffacc2b4e99fae6737bb82f5d7fb13d2f2c186"
   }
  }
 },
 "nbformat": 4,
 "nbformat_minor": 2
}
