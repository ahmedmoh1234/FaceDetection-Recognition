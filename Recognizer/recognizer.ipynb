{
 "cells": [
  {
   "cell_type": "code",
   "execution_count": 375,
   "metadata": {},
   "outputs": [],
   "source": [
    "import numpy as np\n",
    "from sklearn.model_selection import train_test_split\n",
    "from sklearn.model_selection import GridSearchCV\n",
    "from sklearn.datasets import fetch_lfw_people\n",
    "from sklearn.metrics import classification_report\n",
    "from sklearn.metrics import confusion_matrix\n",
    "from sklearn.decomposition import PCA\n",
    "from sklearn.svm import SVC\n",
    "import matplotlib.pyplot as plt\n",
    "import random"
   ]
  },
  {
   "cell_type": "code",
   "execution_count": 376,
   "metadata": {},
   "outputs": [],
   "source": [
    "# ---------------------------- LOAD DATASET ---------------------------- #\n",
    "\n",
    "# this command will download the LFW_people's dataset to hard disk.\n",
    "\n",
    "# lfw_people = fetch_lfw_people(data_home='D:\\Senior II\\Image Processing\\Project\\LFW Dataset',\n",
    "lfw_people = fetch_lfw_people(data_home='D:\\Work\\CCE\\Year 4 - Senior 2\\Semester 1\\Senior-2-Semester-1\\Image Processing\\Project',\n",
    "min_faces_per_person = 70, resize = 0.4)"
   ]
  },
  {
   "cell_type": "code",
   "execution_count": 377,
   "metadata": {},
   "outputs": [
    {
     "name": "stdout",
     "output_type": "stream",
     "text": [
      "Images shape: (1288, 50, 37)\n",
      "Each image has size: 50 x 37\n",
      "----------------------------------------------------------------------\n",
      "M = Number of examples =  1030\n",
      "M_test = Number of test examples =  258\n",
      "Train images shape: (1030, 50, 37)\n",
      "Test images shape: (258, 50, 37)\n",
      "N^2 = n_features = h x w = 1850\n",
      "----------------------------------------------------------------------\n",
      "y has shape: (1288,)\n",
      "y_train has shape: (1030,)\n",
      "y_test has shape: (258,)\n",
      "Number of people = 7\n"
     ]
    }
   ],
   "source": [
    "images = lfw_people.images\n",
    "print('Images shape:',images.shape)\n",
    "\n",
    "total_images, h, w = images.shape\n",
    "print(f'Each image has size: {h} x {w}')\n",
    "\n",
    "print(70* '-')\n",
    "\n",
    "m = int(total_images * 0.8)\n",
    "print('M = Number of examples = ', m)\n",
    "\n",
    "m_test = total_images - m\n",
    "print('M_test = Number of test examples = ', m_test)\n",
    "\n",
    "train_images = images[:int(m)]\n",
    "print('Train images shape:', train_images.shape)\n",
    "\n",
    "test_images = images[int(m):]\n",
    "print('Test images shape:', test_images.shape)\n",
    "\n",
    "n_features = h*w\n",
    "print(f'N^2 = n_features = h x w = {n_features}')\n",
    "\n",
    "print(70* '-')\n",
    "\n",
    "y = lfw_people.target\n",
    "print('y has shape:', y.shape)\n",
    "\n",
    "y_train = y[:int(m)]\n",
    "print('y_train has shape:', y_train.shape)\n",
    "\n",
    "y_test = y[int(m):]\n",
    "print('y_test has shape:', y_test.shape)\n",
    "\n",
    "target_names = lfw_people.target_names\n",
    "num_people = target_names.shape[0]\n",
    "print('Number of people =', num_people)"
   ]
  },
  {
   "cell_type": "code",
   "execution_count": 378,
   "metadata": {},
   "outputs": [
    {
     "name": "stdout",
     "output_type": "stream",
     "text": [
      "['Ariel Sharon' 'Colin Powell' 'Donald Rumsfeld' 'George W Bush'\n",
      " 'Gerhard Schroeder' 'Hugo Chavez' 'Tony Blair']\n"
     ]
    }
   ],
   "source": [
    "print(target_names)"
   ]
  },
  {
   "cell_type": "code",
   "execution_count": 379,
   "metadata": {},
   "outputs": [],
   "source": [
    "#----------------------- CREATE PEOPLE DICTIONARY -----------------------#\n",
    "\n",
    "# Key: person ID\n",
    "# Value: List of all person images indices\n",
    "person_image_dict = dict()\n",
    "\n",
    "for image_index in range(m):\n",
    "    if (y_train[image_index] not in person_image_dict.keys()):\n",
    "        person_image_dict[y_train[image_index]] = [image_index]\n",
    "    else:\n",
    "        person_image_dict[y_train[image_index]].append(image_index)"
   ]
  },
  {
   "cell_type": "code",
   "execution_count": 380,
   "metadata": {},
   "outputs": [
    {
     "name": "stdout",
     "output_type": "stream",
     "text": [
      "George W Bush\n"
     ]
    },
    {
     "data": {
      "image/png": "[encoded data removed]",
      "text/plain": [
       "<Figure size 432x288 with 1 Axes>"
      ]
     },
     "metadata": {
      "needs_background": "light"
     },
     "output_type": "display_data"
    }
   ],
   "source": [
    "# ------------------ VIEW RANDOM IMAGE ------------------ #\n",
    "index = int(random.random() * m)\n",
    "image = images[index,:,:]\n",
    "name = target_names[y[index]]\n",
    "\n",
    "print(name)\n",
    "plt.imshow(image, cmap='gray')\n",
    "plt.show()"
   ]
  },
  {
   "cell_type": "code",
   "execution_count": 381,
   "metadata": {},
   "outputs": [
    {
     "name": "stdout",
     "output_type": "stream",
     "text": [
      "Shape of training images after flattening: (1850, 1030)\n",
      "Shape of test images after flattening: (1850, 258)\n"
     ]
    }
   ],
   "source": [
    "# --------------------- GET FLATTEN IMAGES --------------------- #\n",
    "\n",
    "# Flatten images array\n",
    "# Each column is an image\n",
    "\n",
    "# N^2 * M\n",
    "flattened_images = train_images.reshape(m, -1).T\n",
    "\n",
    "# N^2 * M_test\n",
    "flattened_test_images = test_images.reshape(m_test, -1).T\n",
    "\n",
    "print(f'Shape of training images after flattening: {flattened_images.shape}')\n",
    "print(f'Shape of test images after flattening: {flattened_test_images.shape}')"
   ]
  },
  {
   "cell_type": "code",
   "execution_count": 382,
   "metadata": {},
   "outputs": [
    {
     "name": "stdout",
     "output_type": "stream",
     "text": [
      "Average image has shape: (1850, 1)\n"
     ]
    },
    {
     "data": {
      "image/png": "[encoded data removed]",
      "text/plain": [
       "<Figure size 432x288 with 1 Axes>"
      ]
     },
     "metadata": {
      "needs_background": "light"
     },
     "output_type": "display_data"
    }
   ],
   "source": [
    "# ----------------- CALCULATE AVERAGE IMAGE ----------------- #\n",
    "\n",
    "# In all corresponding pixels in all images, we calculate the average\n",
    "\n",
    "# N^2 * 1\n",
    "average_image = np.mean(flattened_images, axis = 1)[:,np.newaxis]\n",
    "\n",
    "print(f'Average image has shape: {average_image.shape}')\n",
    "plt.imshow(average_image.reshape(h,w), cmap='gray')\n",
    "plt.show()"
   ]
  },
  {
   "cell_type": "code",
   "execution_count": 383,
   "metadata": {},
   "outputs": [
    {
     "name": "stdout",
     "output_type": "stream",
     "text": [
      "Shape after subtracting average face: (1850, 1030)\n"
     ]
    }
   ],
   "source": [
    "#-------------------------------- GET DIFFERENCE IMAGES --------------------------------#\n",
    "\n",
    "# Subtract the average image from all images\n",
    "# This is done to remove the average face from all images\n",
    "# N^2 * M\n",
    "difference_images = flattened_images - average_image\n",
    "\n",
    "print(f'Shape after subtracting average face: {difference_images.shape}')\n"
   ]
  },
  {
   "cell_type": "code",
   "execution_count": 384,
   "metadata": {},
   "outputs": [
    {
     "name": "stdout",
     "output_type": "stream",
     "text": [
      "Colin Powell\n"
     ]
    },
    {
     "data": {
      "image/png": "[encoded data removed]",
      "text/plain": [
       "<Figure size 432x288 with 1 Axes>"
      ]
     },
     "metadata": {
      "needs_background": "light"
     },
     "output_type": "display_data"
    },
    {
     "data": {
      "image/png": "[encoded data removed]",
      "text/plain": [
       "<Figure size 432x288 with 1 Axes>"
      ]
     },
     "metadata": {
      "needs_background": "light"
     },
     "output_type": "display_data"
    }
   ],
   "source": [
    "# --------------------- SHOW ONE DIFFERENCE IMAGE AND COMPARE TO ORIGINAL --------------------- #\n",
    "\n",
    "index = int(random.random() * m)\n",
    "name = target_names[y_train[index]]\n",
    "\n",
    "print(name)\n",
    "plt.imshow(difference_images[:,index].reshape(h, w), cmap='gray')\n",
    "plt.show()\n",
    "\n",
    "# Print original image\n",
    "plt.imshow(images[index,:,:], cmap='gray')\n",
    "plt.show()"
   ]
  },
  {
   "cell_type": "code",
   "execution_count": 385,
   "metadata": {},
   "outputs": [
    {
     "name": "stdout",
     "output_type": "stream",
     "text": [
      "Shape of covariance matrix: (1850, 1850)\n"
     ]
    }
   ],
   "source": [
    "#--------------------- GET COVARIANCE MATRIX --------------------- #\n",
    "\n",
    "# C = A * A^T where A = difference_images\n",
    "\n",
    "A = difference_images\n",
    "\n",
    "# N^2 * N^2\n",
    "covariance_matrix = np.matmul(difference_images, difference_images.T)\n",
    "\n",
    "print('Shape of covariance matrix:', covariance_matrix.shape)"
   ]
  },
  {
   "cell_type": "code",
   "execution_count": 386,
   "metadata": {},
   "outputs": [
    {
     "name": "stdout",
     "output_type": "stream",
     "text": [
      "Shape of L: (1030, 1030)\n",
      "Shape of eigenvalues: (1030,)\n",
      "Shape of eigenvectors: (1030, 1030)\n"
     ]
    }
   ],
   "source": [
    "# --------------------------------- GET EIGENVALUES AND EIGENVECTORS --------------------------------- #\n",
    "\n",
    "# Calculate the eigenvalues and eigenvectors of L\n",
    "# where L = A^T * A\n",
    "\n",
    "# M * M\n",
    "L = np.matmul(A.T, A)\n",
    "\n",
    "print('Shape of L:', L.shape)\n",
    "\n",
    "# M eigenvalues and M eigenvectors\n",
    "# where M is the number of examples\n",
    "\n",
    "eigenvalues, eigenvectors = np.linalg.eig(L)\n",
    "print('Shape of eigenvalues:', eigenvalues.shape)\n",
    "print('Shape of eigenvectors:', eigenvectors.shape)\n"
   ]
  },
  {
   "cell_type": "code",
   "execution_count": 387,
   "metadata": {},
   "outputs": [
    {
     "name": "stdout",
     "output_type": "stream",
     "text": [
      "Shape of eigenfaces: (1850, 1030)\n"
     ]
    }
   ],
   "source": [
    "# ------------------------ GET EIGENFACES FOR ALL IMAGES ------------------------ #\n",
    "\n",
    "# Those Eigenvectors determine linear combinations of the M training set face images \n",
    "# to form the eigenfaces U\n",
    "\n",
    "# difference_images: N^2 * M\n",
    "# difference_images[:, i, np.newaxis]: N^2 * 1\n",
    "\n",
    "# eigenvectors: M * M\n",
    "# eigenvectors[:, i, np.newaxis]: M * 1\n",
    "\n",
    "# N^2 * M\n",
    "eigenfaces = np.zeros((n_features, m))\n",
    "\n",
    "# TODO optimize the for loop\n",
    "for i in range(m):\n",
    "    eigenfaces += np.matmul(difference_images[:, i, np.newaxis], eigenvectors[:, i, np.newaxis].T)\n",
    "\n",
    "print('Shape of eigenfaces:', eigenfaces.shape)\n"
   ]
  },
  {
   "cell_type": "code",
   "execution_count": 388,
   "metadata": {},
   "outputs": [
    {
     "name": "stdout",
     "output_type": "stream",
     "text": [
      "Top eigenfaces shape: (1850, 100)\n"
     ]
    }
   ],
   "source": [
    "# ------------------------ GET TOP EIGENFACES ------------------------ #\n",
    "\n",
    "num_eigenfaces = 100\n",
    "\n",
    "# Top eigenvalues indices\n",
    "top_eigenvalues_indices = np.argsort(eigenvalues)[-num_eigenfaces:]\n",
    "\n",
    "#  N^2 * num_eigenfaces\n",
    "top_eigenfaces = np.zeros((n_features, num_eigenfaces))\n",
    "\n",
    "i=0\n",
    "for index in top_eigenvalues_indices:\n",
    "    top_eigenfaces[:, i] = eigenfaces[:, index]\n",
    "    i += 1\n",
    "\n",
    "print(f\"Top eigenfaces shape: {top_eigenfaces.shape}\")"
   ]
  },
  {
   "cell_type": "code",
   "execution_count": 389,
   "metadata": {},
   "outputs": [
    {
     "name": "stdout",
     "output_type": "stream",
     "text": [
      "George W Bush\n"
     ]
    },
    {
     "data": {
      "image/png": "[encoded data removed]",
      "text/plain": [
       "<Figure size 432x288 with 1 Axes>"
      ]
     },
     "metadata": {
      "needs_background": "light"
     },
     "output_type": "display_data"
    }
   ],
   "source": [
    "# ------------------------ SHOW A RANDOM EIGENFACE ------------------------ #\n",
    "\n",
    "index = int(random.random() * m)\n",
    "name = target_names[y_train[index]]\n",
    "\n",
    "print(name)\n",
    "plt.imshow(eigenfaces[:,index].reshape(h, w), cmap='gray')\n",
    "plt.show()\n"
   ]
  },
  {
   "cell_type": "code",
   "execution_count": 390,
   "metadata": {},
   "outputs": [
    {
     "name": "stdout",
     "output_type": "stream",
     "text": [
      "George W Bush\n"
     ]
    },
    {
     "data": {
      "image/png": "[encoded data removed]",
      "text/plain": [
       "<Figure size 432x288 with 1 Axes>"
      ]
     },
     "metadata": {
      "needs_background": "light"
     },
     "output_type": "display_data"
    }
   ],
   "source": [
    "# ------------------------ SHOW A RANDOM EIGENFACE FROM TOP   ------------------------ #\n",
    "\n",
    "index = int(random.random() * num_eigenfaces)\n",
    "name = target_names[y_train[index]]\n",
    "\n",
    "print(name)\n",
    "plt.imshow(top_eigenfaces[:,index].reshape(h, w), cmap='gray')\n",
    "plt.show()\n"
   ]
  },
  {
   "cell_type": "code",
   "execution_count": 391,
   "metadata": {},
   "outputs": [
    {
     "name": "stdout",
     "output_type": "stream",
     "text": [
      "Omegas shape: (7, 100)\n"
     ]
    }
   ],
   "source": [
    "# ------------------------ CALCULATING OMEGAS (OMEGA FOR EACH PERSON) ------------------------ #\n",
    "\n",
    "# For each person, take a small number of face images (Here we took all), then calculate the eigenface representation of each image, then average it\n",
    "# The result is the omega for that person omega is a vector of size num_eigenfaces with weight for each eigenface\n",
    "\n",
    "# num_people * num_eigenfaces\n",
    "omegas = np.zeros((num_people, num_eigenfaces))\n",
    "\n",
    "for person in range(num_people):\n",
    "    \n",
    "    image = np.zeros((n_features, 1))\n",
    "    \n",
    "    image_indices = person_image_dict[person]\n",
    "    \n",
    "    # Loop over all images of a person\n",
    "    for img in image_indices:\n",
    "        # Get current Image of this person\n",
    "        image = flattened_images[:, img, np.newaxis]\n",
    "        # Get difference between current image and average image\n",
    "        diff = image - average_image\n",
    "        # Loop over all the top eigenfaces\n",
    "        for i in range(num_eigenfaces):\n",
    "            # Sum up the dot product of the difference image and the top eigenface\n",
    "            omegas[person, i] += np.matmul(top_eigenfaces[:, i, np.newaxis].T , diff)\n",
    "            \n",
    "    omegas[person,:] = omegas[person,:] / len(image_indices)\n",
    "    \n",
    "print(f\"Omegas shape: {omegas.shape}\")"
   ]
  },
  {
   "attachments": {},
   "cell_type": "markdown",
   "metadata": {},
   "source": [
    "## Testing"
   ]
  },
  {
   "cell_type": "code",
   "execution_count": 392,
   "metadata": {},
   "outputs": [
    {
     "name": "stdout",
     "output_type": "stream",
     "text": [
      "Test image has shape: (1850, 1)\n",
      "shape of w: (100,)\n",
      "Distance between test image and Ariel Sharon is 11096494.818022966\n",
      "Distance between test image and Colin Powell is 11181179.421247382\n",
      "Distance between test image and Donald Rumsfeld is 11175221.72796304\n",
      "Distance between test image and George W Bush is 10844266.678727012\n",
      "Distance between test image and Gerhard Schroeder is 11025859.504759545\n",
      "Distance between test image and Hugo Chavez is 11030345.078624502\n",
      "Distance between test image and Tony Blair is 11256444.377297727\n",
      "The nearest person is George W Bush\n",
      "True person: George W Bush\n"
     ]
    }
   ],
   "source": [
    "# -------------------------------------- TESTING SINGLE IMAGE -------------------------------------- #\n",
    "\n",
    "index = int(random.random() * test_images.shape[0])\n",
    "\n",
    "test_image = flattened_test_images[:,index, np.newaxis]\n",
    "print(f'Test image has shape: {test_image.shape}')\n",
    "\n",
    "w = np.zeros((num_eigenfaces,))\n",
    "diff = test_image - average_image\n",
    "\n",
    "for i in range(num_eigenfaces):\n",
    "    w[i] = np.matmul(eigenfaces[:,i, np.newaxis].T,diff)\n",
    "    \n",
    "print(f\"shape of w: {w.shape}\")\n",
    "\n",
    "# Calculate the distance between w of the test image and omegas of all people\n",
    "# The person with the smallest distance is the person in the test image\n",
    "\n",
    "min_distance = float('inf')\n",
    "nearest_person = -1\n",
    "\n",
    "for person in range(num_people):\n",
    "    distance = np.linalg.norm(w - omegas[person, :])\n",
    "    if(distance < min_distance):\n",
    "        min_distance = distance\n",
    "        nearest_person = person\n",
    "    print(f'Distance between test image and {target_names[person]} is {distance}')\n",
    "\n",
    "threshold = float('inf')\n",
    "if (min_distance < threshold):\n",
    "    print(f'The nearest person is {target_names[nearest_person]}')\n",
    "    print(f'True person: {target_names[y[index]]}')\n",
    "else:\n",
    "    print('No person found')"
   ]
  },
  {
   "cell_type": "code",
   "execution_count": 393,
   "metadata": {},
   "outputs": [
    {
     "name": "stdout",
     "output_type": "stream",
     "text": [
      "Accuracy: 16.900000000000002%\n"
     ]
    }
   ],
   "source": [
    "# ---------------------------- TESTING ACCURACY ---------------------------- #\n",
    "\n",
    "count = 0\n",
    "trials = 1000\n",
    "for trial in range(trials):\n",
    "    # Get test image index randomly\n",
    "    index = int(random.random() * m_test)\n",
    "    \n",
    "    # Get image\n",
    "    test_image = flattened_test_images[:,index, np.newaxis]\n",
    "\n",
    "    # Calculate the image weight\n",
    "    w = np.zeros((num_eigenfaces,))\n",
    "    for i in range(num_eigenfaces):\n",
    "        w[i] = np.matmul(eigenfaces[:,i, np.newaxis].T, test_image - average_image)\n",
    "\n",
    "    min_distance = float('inf')\n",
    "    nearest_person = -1\n",
    "\n",
    "    for person in range(num_people):\n",
    "        distance = np.linalg.norm(w - omegas[person,:])\n",
    "        if(distance < min_distance):\n",
    "            min_distance = distance\n",
    "            nearest_person = person\n",
    "\n",
    "    threshold = float('inf')\n",
    "    if (min_distance < threshold):\n",
    "        if(nearest_person == y_test[index]):\n",
    "            count += 1\n",
    "print(f'Accuracy: {count/trials*100}%')"
   ]
  }
 ],
 "metadata": {
  "kernelspec": {
   "display_name": "Python 3.9.12 ('base')",
   "language": "python",
   "name": "python3"
  },
  "language_info": {
   "codemirror_mode": {
    "name": "ipython",
    "version": 3
   },
   "file_extension": ".py",
   "mimetype": "text/x-python",
   "name": "python",
   "nbconvert_exporter": "python",
   "pygments_lexer": "ipython3",
   "version": "3.9.12"
  },
  "orig_nbformat": 4,
  "vscode": {
   "interpreter": {
    "hash": "ad2bdc8ecc057115af97d19610ffacc2b4e99fae6737bb82f5d7fb13d2f2c186"
   }
  }
 },
 "nbformat": 4,
 "nbformat_minor": 2
}
