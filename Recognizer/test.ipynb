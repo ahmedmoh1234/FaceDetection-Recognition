{
 "cells": [
  {
   "cell_type": "code",
   "execution_count": 1,
   "metadata": {},
   "outputs": [],
   "source": [
    "import numpy as np"
   ]
  },
  {
   "cell_type": "code",
   "execution_count": null,
   "metadata": {},
   "outputs": [],
   "source": [
    "x = dict()\n",
    "x = {1: 'a', 2: 'b'}\n"
   ]
  },
  {
   "cell_type": "code",
   "execution_count": 34,
   "metadata": {},
   "outputs": [
    {
     "name": "stdout",
     "output_type": "stream",
     "text": [
      "Eigenvalues: [5. 4.]\n",
      "Eigenvectors:\n",
      " [[0.70710678 0.4472136 ]\n",
      " [0.70710678 0.89442719]]\n"
     ]
    }
   ],
   "source": [
    "x = np.array([\n",
    "    [6, -1],\n",
    "    [2, 3]\n",
    "])\n",
    "\n",
    "eigenvalues, eigenvectors = np.linalg.eig(x)\n",
    "print(f'Eigenvalues: {eigenvalues}')\n",
    "print(f'Eigenvectors:\\n {eigenvectors}')"
   ]
  },
  {
   "cell_type": "code",
   "execution_count": 3,
   "metadata": {},
   "outputs": [
    {
     "name": "stdout",
     "output_type": "stream",
     "text": [
      "7\n"
     ]
    }
   ],
   "source": [
    "count = 0\n",
    "x = np.zeros((7,5))\n",
    "for i in x:\n",
    "    count = count + 1\n",
    "print(count)"
   ]
  },
  {
   "cell_type": "code",
   "execution_count": 45,
   "metadata": {},
   "outputs": [
    {
     "name": "stdout",
     "output_type": "stream",
     "text": [
      "[ 5 12  2  4  3]\n",
      "[5 6 7 9 8]\n"
     ]
    }
   ],
   "source": [
    "            #   0  1  2  3  4  5  6  7  8  9 10 11 12  \n",
    "x = np.array([1, 4, 7, 8, 9, 5, 1, 0, 2, 3, 4, 5, 6])\n",
    "#get indices of 5 largest elements in x\n",
    "indices = np.argpartition(x, -5)[-5:]\n",
    "print(indices)\n",
    "print(x[indices])"
   ]
  }
 ],
 "metadata": {
  "kernelspec": {
   "display_name": "Python 3",
   "language": "python",
   "name": "python3"
  },
  "language_info": {
   "codemirror_mode": {
    "name": "ipython",
    "version": 3
   },
   "file_extension": ".py",
   "mimetype": "text/x-python",
   "name": "python",
   "nbconvert_exporter": "python",
   "pygments_lexer": "ipython3",
   "version": "3.9.5"
  },
  "orig_nbformat": 4,
  "vscode": {
   "interpreter": {
    "hash": "20aebf7f160902ad9dd8cbfe460d54a7c92755b430d8a2756048c9f24f1ce0aa"
   }
  }
 },
 "nbformat": 4,
 "nbformat_minor": 2
}
