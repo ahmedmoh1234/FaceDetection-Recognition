{
 "cells": [
  {
   "cell_type": "code",
   "execution_count": 1,
   "metadata": {},
   "outputs": [
    {
     "ename": "ModuleNotFoundError",
     "evalue": "No module named 'cv2'",
     "output_type": "error",
     "traceback": [
      "\u001b[1;31m---------------------------------------------------------------------------\u001b[0m",
      "\u001b[1;31mModuleNotFoundError\u001b[0m                       Traceback (most recent call last)",
      "\u001b[1;32md:\\Work\\CCE\\Year 4 - Senior 2\\Semester 1\\Senior-2-Semester-1\\Image Processing\\Project\\FaceDetection-Recognition\\Recognizer\\Eigenfaces\\main_recognizer.ipynb Cell 1\u001b[0m in \u001b[0;36m<cell line: 8>\u001b[1;34m()\u001b[0m\n\u001b[0;32m      <a href='vscode-notebook-cell:/d%3A/Work/CCE/Year%204%20-%20Senior%202/Semester%201/Senior-2-Semester-1/Image%20Processing/Project/FaceDetection-Recognition/Recognizer/Eigenfaces/main_recognizer.ipynb#W0sZmlsZQ%3D%3D?line=5'>6</a>\u001b[0m \u001b[39mimport\u001b[39;00m \u001b[39mskimage\u001b[39;00m\u001b[39m.\u001b[39;00m\u001b[39mio\u001b[39;00m \u001b[39mas\u001b[39;00m \u001b[39mio\u001b[39;00m\n\u001b[0;32m      <a href='vscode-notebook-cell:/d%3A/Work/CCE/Year%204%20-%20Senior%202/Semester%201/Senior-2-Semester-1/Image%20Processing/Project/FaceDetection-Recognition/Recognizer/Eigenfaces/main_recognizer.ipynb#W0sZmlsZQ%3D%3D?line=6'>7</a>\u001b[0m \u001b[39mfrom\u001b[39;00m \u001b[39mskimage\u001b[39;00m\u001b[39m.\u001b[39;00m\u001b[39mcolor\u001b[39;00m \u001b[39mimport\u001b[39;00m rgb2gray\n\u001b[1;32m----> <a href='vscode-notebook-cell:/d%3A/Work/CCE/Year%204%20-%20Senior%202/Semester%201/Senior-2-Semester-1/Image%20Processing/Project/FaceDetection-Recognition/Recognizer/Eigenfaces/main_recognizer.ipynb#W0sZmlsZQ%3D%3D?line=7'>8</a>\u001b[0m \u001b[39mimport\u001b[39;00m \u001b[39mcv2\u001b[39;00m\n\u001b[0;32m      <a href='vscode-notebook-cell:/d%3A/Work/CCE/Year%204%20-%20Senior%202/Semester%201/Senior-2-Semester-1/Image%20Processing/Project/FaceDetection-Recognition/Recognizer/Eigenfaces/main_recognizer.ipynb#W0sZmlsZQ%3D%3D?line=8'>9</a>\u001b[0m \u001b[39mimport\u001b[39;00m \u001b[39mos\u001b[39;00m\n",
      "\u001b[1;31mModuleNotFoundError\u001b[0m: No module named 'cv2'"
     ]
    }
   ],
   "source": [
    "# ------------------------- IMPORTS -------------------------\n",
    "import numpy as np\n",
    "from sklearn.datasets import fetch_olivetti_faces\n",
    "import matplotlib.pyplot as plt\n",
    "import random\n",
    "import skimage.io as io\n",
    "from skimage.color import rgb2gray\n",
    "import cv2\n",
    "import os"
   ]
  },
  {
   "cell_type": "code",
   "execution_count": null,
   "metadata": {},
   "outputs": [],
   "source": [
    "# ------------------------------ GET CURRENT PATH ------------------------------\n",
    "dirname = os.path.abspath(os.getcwd())\n",
    "dataset_path = os.path.join(dirname, 'Datasets')\n",
    "test_images_path = os.path.join(dirname, 'Test Images')\n",
    "training_result_path = os.path.join(dirname, 'Training Result Data')\n",
    "omegas_path = os.path.join(training_result_path, 'omegas.npy')\n",
    "average_image_path = os.path.join(training_result_path, 'average_image.npy')\n",
    "eigenfaces_path = os.path.join(training_result_path, 'eigenfaces.npy')\n",
    "\n"
   ]
  },
  {
   "cell_type": "code",
   "execution_count": null,
   "metadata": {},
   "outputs": [],
   "source": [
    "# ---------------------------- LOAD OLIVIETTA DATASET ---------------------------- #\n",
    "\n",
    "def load_dataset():\n",
    "    print(dataset_path)\n",
    "    dataset = fetch_olivetti_faces(data_home=dataset_path, shuffle=True)\n",
    "    return dataset"
   ]
  },
  {
   "cell_type": "code",
   "execution_count": null,
   "metadata": {},
   "outputs": [],
   "source": [
    "#  ---------------------------- CONVERT IMAGE TO GRAY SCALE AND SAME SHAPE OF TRAINED IMAGES ---------------------------- #\n",
    "\n",
    "def convert_image(image, width, height):\n",
    "    plt.imshow(image, cmap='gray', label='Input image')\n",
    "    plt.show()\n",
    "    # if image is RGB, convert to grayscale\n",
    "    if len(image.shape) > 2:\n",
    "        image = rgb2gray(image)\n",
    "    # resize image to width*height\n",
    "    image = cv2.resize(image, (width, height))\n",
    "    if (np.max(image) > 1):\n",
    "        image = image / 255.0\n",
    "    image = image.reshape((width*height, 1))\n",
    "    # Show image\n",
    "    plt.imshow(image.reshape(height, width), cmap='gray', label='Input image')\n",
    "    plt.show()\n",
    "\n",
    "    return image"
   ]
  },
  {
   "cell_type": "code",
   "execution_count": null,
   "metadata": {},
   "outputs": [],
   "source": [
    "# ---------------------------- EXTRACT INFO FROM DATASET ---------------------------- #\n",
    "\n",
    "def extract_info_from_dataset(dataset, verbose=False):\n",
    "    '''\n",
    "    Returns: \n",
    "        - images: ndarray(m, height, width): the images of the dataset\n",
    "        - m: int: the number of images in the dataset\n",
    "        - height: int: the height of each image\n",
    "        - width: int: the width of each image\n",
    "        - total_images: int:  the total number of images in the dataset\n",
    "        - n_features: int: the number of features of each image = height * width\n",
    "        - y: ndarray(m,): the labels of the images\n",
    "        - num_people: int the number of people in the dataset\n",
    "    '''\n",
    "\n",
    "    images = dataset.images\n",
    "\n",
    "    m = images.shape[0]\n",
    "    if(verbose):\n",
    "        print('Images shape:', images.shape)\n",
    "\n",
    "    total_images, height, width = images.shape\n",
    "    if(verbose):\n",
    "        print(f'Each image has size: {height} x {width}')\n",
    "        print(70 * '-')\n",
    "\n",
    "    n_features = height*width\n",
    "    if(verbose):\n",
    "        print(f'N^2 = n_features = h x w = {n_features}')\n",
    "        print(70 * '-')\n",
    "\n",
    "    y = dataset.target\n",
    "    if(verbose):\n",
    "        print('y has shape:', y.shape)\n",
    "\n",
    "    num_people = np.max(y) + 1\n",
    "    if(verbose):\n",
    "        print('Number of people =', num_people)\n",
    "\n",
    "    return images, m, height, width, total_images, n_features, y, num_people\n"
   ]
  },
  {
   "cell_type": "code",
   "execution_count": null,
   "metadata": {},
   "outputs": [],
   "source": [
    "#----------------------- CREATE PEOPLE DICTIONARY -----------------------#\n",
    "\n",
    "\n",
    "def create_people_dict(total_images, num_people, y):\n",
    "    # Key: person ID\n",
    "    # Value: List of all person images indices\n",
    "    person_image_dict = dict()\n",
    "\n",
    "    for image_index in range(total_images):\n",
    "        if (y[image_index] not in person_image_dict.keys()):\n",
    "            person_image_dict[y[image_index]] = [image_index]\n",
    "        else:\n",
    "            person_image_dict[y[image_index]].append(image_index)\n",
    "    return person_image_dict\n"
   ]
  },
  {
   "cell_type": "code",
   "execution_count": null,
   "metadata": {},
   "outputs": [],
   "source": [
    "# ------------------ VIEW RANDOM IMAGE ------------------ #\n",
    "\n",
    "def view_rand_image(images, m):\n",
    "    index = int(random.random() * m)\n",
    "    index = 0\n",
    "    image = images[index, :, :]\n",
    "    # name = target_names[y[index]]\n",
    "\n",
    "    # print(name)\n",
    "    plt.imshow(image, cmap='gray')\n",
    "    plt.show()\n"
   ]
  },
  {
   "cell_type": "code",
   "execution_count": null,
   "metadata": {},
   "outputs": [],
   "source": [
    "# --------------------- GET FLATTEN IMAGES --------------------- #\n",
    "\n",
    "def get_flattened_images(images, m, height, width, verbose=False):\n",
    "    # Flatten images array\n",
    "    # Each column is an image\n",
    "\n",
    "    # N^2 * M\n",
    "    flattened_images = images.reshape(m, -1).T\n",
    "\n",
    "    if(verbose):\n",
    "        print(\n",
    "            f'Shape of training images after flattening: {flattened_images.shape}')\n",
    "\n",
    "    return flattened_images\n"
   ]
  },
  {
   "cell_type": "code",
   "execution_count": null,
   "metadata": {},
   "outputs": [],
   "source": [
    "# ----------------- CALCULATE AVERAGE IMAGE ----------------- #\n",
    "\n",
    "def get_average_image(flattened_images, height, width, verbose=False):\n",
    "    # In all corresponding pixels in all images, we calculate the average\n",
    "\n",
    "    # N^2 * 1\n",
    "    average_image = np.mean(flattened_images, axis=1)[:, np.newaxis]\n",
    "    if(verbose):\n",
    "        print(f'Average image has shape: {average_image.shape}')\n",
    "        plt.imshow(average_image.reshape(height, width),\n",
    "                   cmap='gray', title='Average Image')\n",
    "        plt.show()\n",
    "    return average_image\n"
   ]
  },
  {
   "cell_type": "code",
   "execution_count": null,
   "metadata": {},
   "outputs": [],
   "source": [
    "#-------------------------------- GET DIFFERENCE IMAGES --------------------------------#\n",
    "\n",
    "def get_difference_images(flattened_images, average_image, verbose=False):\n",
    "    # Subtract the average image from all images\n",
    "    # This is done to remove the average face from all images\n",
    "    # N^2 * M\n",
    "    difference_images = flattened_images - average_image\n",
    "    if(verbose):\n",
    "        print(\n",
    "            f'Shape after subtracting average face: {difference_images.shape}')\n",
    "    return difference_images\n",
    "\n"
   ]
  },
  {
   "cell_type": "code",
   "execution_count": null,
   "metadata": {},
   "outputs": [],
   "source": [
    "# --------------------- SHOW ONE DIFFERENCE IMAGE AND COMPARE TO ORIGINAL --------------------- #\n",
    "\n",
    "def show_difference_image(difference_images, train_images, height, width, m):\n",
    "    # Show one difference image and compare to original\n",
    "    index = int(random.random() * m)\n",
    "\n",
    "    plt.imshow(difference_images[:, index].reshape(height, width), cmap='gray')\n",
    "    plt.show()\n",
    "\n",
    "    # Print original image\n",
    "    plt.imshow(train_images[index, :, :], cmap='gray')\n",
    "    plt.show()"
   ]
  },
  {
   "cell_type": "code",
   "execution_count": null,
   "metadata": {},
   "outputs": [],
   "source": [
    "#--------------------- GET COVARIANCE MATRIX --------------------- #\n",
    "\n",
    "def get_covariance_matrix(m, n_features, difference_images, verbose=False):\n",
    "    # C = A * A^T where A = difference_images\n",
    "    # N^2 * M\n",
    "    A = difference_images\n",
    "\n",
    "    if (m > n_features):\n",
    "        # N^2 * N^2\n",
    "        covariance_matrix = np.matmul(difference_images, difference_images.T)\n",
    "        if(verbose):\n",
    "            print('Shape of covariance matrix = N^2 * N^2 = ',\n",
    "                  covariance_matrix.shape)\n",
    "        return covariance_matrix\n",
    "\n",
    "    else:\n",
    "        # M * M\n",
    "        covariance_matrix = np.matmul(difference_images.T, difference_images)\n",
    "        if(verbose):\n",
    "            print('Shape of covariance matrix = M * M = ',\n",
    "                  covariance_matrix.shape)\n",
    "        return covariance_matrix\n"
   ]
  },
  {
   "cell_type": "code",
   "execution_count": null,
   "metadata": {},
   "outputs": [],
   "source": [
    "# --------------------------------- GET EIGENVALUES AND EIGENVECTORS --------------------------------- #\n",
    "\n",
    "def eigenvalues_eigenfaces(covariance_matrix, difference_images, verbose=False):\n",
    "    # M eigenvalues and M eigenvectors\n",
    "    # where M is the number of examples\n",
    "\n",
    "    eigenvalues, eigenvectors = np.linalg.eigh(covariance_matrix)\n",
    "\n",
    "    if(verbose):\n",
    "        print('Shape of eigenvalues:', eigenvalues.shape)\n",
    "        print('Shape of eigenvectors before matrix multiplication:',\n",
    "              eigenvectors.shape)\n",
    "\n",
    "    # Try to remove\n",
    "    eigenfaces = np.matmul(difference_images, eigenvectors)\n",
    "\n",
    "    if(verbose):\n",
    "        print('Shape of eigenfaces after matrix multiplication:', eigenfaces.shape)\n",
    "\n",
    "    return eigenvalues, eigenfaces\n",
    "\n"
   ]
  },
  {
   "cell_type": "code",
   "execution_count": null,
   "metadata": {},
   "outputs": [],
   "source": [
    "# --------------------------------- NORMALIZE eigenfaces --------------------------------- #\n",
    "\n",
    "def normalize_eigenfaces(eigenfaces, verbose=False):\n",
    "    eigenfaces = eigenfaces / np.linalg.norm(eigenfaces, axis=0)\n",
    "    if(verbose):\n",
    "        print('Shape of eigenfaces after normalization:', eigenfaces.shape)\n",
    "    return eigenfaces"
   ]
  },
  {
   "cell_type": "code",
   "execution_count": null,
   "metadata": {},
   "outputs": [],
   "source": [
    "# ------------------------ SORT eigenfaces ------------------------ #\n",
    "\n",
    "def sort_eigenvalues_eigenfaces(eigenvalues, eigenfaces):\n",
    "    # Get top K eigenfaces\n",
    "    indices_of_top_eigenvalues = np.argsort(-eigenvalues)\n",
    "    eigenvalues = eigenvalues[indices_of_top_eigenvalues]\n",
    "    eigenfaces = eigenfaces[:, indices_of_top_eigenvalues]\n",
    "    return eigenvalues, eigenfaces"
   ]
  },
  {
   "cell_type": "code",
   "execution_count": null,
   "metadata": {},
   "outputs": [],
   "source": [
    "# --------------------------------- CALCULATE K --------------------------------- #\n",
    "\n",
    "def calculate_K(eigenvalues, m, variance=0.8, verbose=False):\n",
    "    # Calculate the number of components to preserve specified variance\n",
    "    K = m\n",
    "    for ii, eigen_value_cumsum in enumerate(np.cumsum(eigenvalues) / np.sum(eigenvalues)):\n",
    "        if eigen_value_cumsum > variance:\n",
    "            K = ii\n",
    "            break\n",
    "\n",
    "    if(verbose):\n",
    "        print(\n",
    "            f'Number of components to preserve {variance*100}% of the variance = {K}')\n"
   ]
  },
  {
   "cell_type": "code",
   "execution_count": null,
   "metadata": {},
   "outputs": [],
   "source": [
    "# --------------------------------- SELECT K TOP eigenfaces --------------------------------- #\n",
    "\n",
    "def select_K_top_eigenfaces(eigenvalues, eigenfaces, K, verbose=False):\n",
    "    # Select only K eigenfaces\n",
    "    eigenvalues = eigenvalues[:K].copy()\n",
    "    eigenfaces = eigenfaces[:, :K].copy()\n",
    "\n",
    "    if(verbose):\n",
    "        print('Shape of eigenvalues after selecting top K:', eigenvalues.shape)\n",
    "        # N^2 * K\n",
    "        print('Shape of eigenfaces after selecting top K:', eigenfaces.shape)\n",
    "    return eigenvalues, eigenfaces"
   ]
  },
  {
   "cell_type": "code",
   "execution_count": null,
   "metadata": {},
   "outputs": [],
   "source": [
    "# ------------------------ SHOW EIGENFACES ------------------------ #\n",
    "\n",
    "def show_eigenfaces(eigenfaces, height, width, K, num_show=16):\n",
    "    # Show eigenfaces\n",
    "    for i in range(min(K, num_show)):\n",
    "        plt.subplot(4, 4, i+1)\n",
    "        plt.imshow(eigenfaces[:, i].reshape(height, width), cmap='gray')\n",
    "        plt.title(f'Eigenface {i+1}')\n",
    "        plt.axis('off')"
   ]
  },
  {
   "cell_type": "code",
   "execution_count": null,
   "metadata": {},
   "outputs": [],
   "source": [
    "# ------------------------ SHOW A RANDOM EIGENFACE ------------------------ #\n",
    "\n",
    "def show_random_eigenface(eigenfaces, height, width, m):\n",
    "    index = int(random.random() * m)\n",
    "    plt.imshow(eigenfaces[:, index].reshape(height, width), cmap='gray')\n",
    "    plt.show()"
   ]
  },
  {
   "cell_type": "code",
   "execution_count": null,
   "metadata": {},
   "outputs": [],
   "source": [
    "# ------------------------ CALCULATE OMEGAS ------------------------ #\n",
    "\n",
    "def get_omegas(difference_images, eigenfaces, verbose=False):\n",
    "    omegas = []\n",
    "    for image in difference_images.T:\n",
    "        omegas.append(np.dot(image, eigenfaces))\n",
    "    omegas = np.array(omegas)\n",
    "    if(verbose):\n",
    "        print('Shape of omegas:', omegas.shape)\n",
    "    return omegas"
   ]
  },
  {
   "cell_type": "code",
   "execution_count": null,
   "metadata": {},
   "outputs": [],
   "source": [
    "# ------------------------ SAVE DATA TO DISK ------------------------ #\n",
    "\n",
    "def save_data_to_disk(omegas, eigenfaces, average_image):\n",
    "    np.save(omegas_path, omegas)\n",
    "    np.save(eigenfaces_path, eigenfaces)\n",
    "    np.save(average_image_path, average_image)"
   ]
  },
  {
   "cell_type": "code",
   "execution_count": null,
   "metadata": {},
   "outputs": [],
   "source": [
    "# ------------------------------ LOAD DATA FROM DISK ------------------------------ #\n",
    "def load_data():\n",
    "    omegas = np.load(omegas_path)\n",
    "    eigenfaces = np.load(eigenfaces_path)\n",
    "    average_image = np.load(average_image_path)\n",
    "    return omegas, eigenfaces, average_image\n"
   ]
  },
  {
   "attachments": {},
   "cell_type": "markdown",
   "metadata": {},
   "source": [
    "## Testing"
   ]
  },
  {
   "cell_type": "code",
   "execution_count": null,
   "metadata": {},
   "outputs": [],
   "source": [
    "# ----------------------------- PREDICT AN INPUT IMAGE ----------------------------- #\n",
    "\n",
    "def predict(omegas, test_image, average_image, eigenfaces, height, width, threshold=7):\n",
    "    # Predict the class of a test image\n",
    "    # Calculate omega for test image\n",
    "    omega = np.matmul((test_image - average_image).T, eigenfaces)\n",
    "\n",
    "    # Calculate distance between omega and all omegas\n",
    "    distances = np.linalg.norm(omegas - omega, axis=1)\n",
    "\n",
    "    # Get the index of the minimum distance\n",
    "    index = np.argmin(distances)\n",
    "\n",
    "    # Get min distance\n",
    "    min_distance = distances[index]\n",
    "    # print('Min distance:', min_distance)\n",
    "    if(min_distance < threshold):\n",
    "        return index\n",
    "    else:\n",
    "        return -1  # Unknown"
   ]
  },
  {
   "cell_type": "code",
   "execution_count": null,
   "metadata": {},
   "outputs": [
    {
     "name": "stdout",
     "output_type": "stream",
     "text": [
      "d:\\Work\\CCE\\Year 4 - Senior 2\\Semester 1\\Senior-2-Semester-1\\Image Processing\\Project\\FaceDetection-Recognition\\Recognizer\\Eigenfaces\\Datasets\n"
     ]
    },
    {
     "data": {
      "image/png": "[encoded data removed]",
      "text/plain": [
       "<Figure size 432x288 with 16 Axes>"
      ]
     },
     "metadata": {
      "needs_background": "light"
     },
     "output_type": "display_data"
    },
    {
     "ename": "NameError",
     "evalue": "name 'cv2' is not defined",
     "output_type": "error",
     "traceback": [
      "\u001b[1;31m---------------------------------------------------------------------------\u001b[0m",
      "\u001b[1;31mNameError\u001b[0m                                 Traceback (most recent call last)",
      "\u001b[1;32md:\\Work\\CCE\\Year 4 - Senior 2\\Semester 1\\Senior-2-Semester-1\\Image Processing\\Project\\FaceDetection-Recognition\\Recognizer\\Eigenfaces\\main_recognizer.ipynb Cell 25\u001b[0m in \u001b[0;36m<cell line: 21>\u001b[1;34m()\u001b[0m\n\u001b[0;32m     <a href='vscode-notebook-cell:/d%3A/Work/CCE/Year%204%20-%20Senior%202/Semester%201/Senior-2-Semester-1/Image%20Processing/Project/FaceDetection-Recognition/Recognizer/Eigenfaces/main_recognizer.ipynb#X31sZmlsZQ%3D%3D?line=18'>19</a>\u001b[0m         plt\u001b[39m.\u001b[39mshow()\n\u001b[0;32m     <a href='vscode-notebook-cell:/d%3A/Work/CCE/Year%204%20-%20Senior%202/Semester%201/Senior-2-Semester-1/Image%20Processing/Project/FaceDetection-Recognition/Recognizer/Eigenfaces/main_recognizer.ipynb#X31sZmlsZQ%3D%3D?line=19'>20</a>\u001b[0m input_img \u001b[39m=\u001b[39m io\u001b[39m.\u001b[39mimread(dirname\u001b[39m+\u001b[39m \u001b[39m'\u001b[39m\u001b[39m/Test Images/moazTest.jpg\u001b[39m\u001b[39m'\u001b[39m)\n\u001b[1;32m---> <a href='vscode-notebook-cell:/d%3A/Work/CCE/Year%204%20-%20Senior%202/Semester%201/Senior-2-Semester-1/Image%20Processing/Project/FaceDetection-Recognition/Recognizer/Eigenfaces/main_recognizer.ipynb#X31sZmlsZQ%3D%3D?line=20'>21</a>\u001b[0m recognizer_main(input_img)\n",
      "\u001b[1;32md:\\Work\\CCE\\Year 4 - Senior 2\\Semester 1\\Senior-2-Semester-1\\Image Processing\\Project\\FaceDetection-Recognition\\Recognizer\\Eigenfaces\\main_recognizer.ipynb Cell 25\u001b[0m in \u001b[0;36mrecognizer_main\u001b[1;34m(input_image)\u001b[0m\n\u001b[0;32m      <a href='vscode-notebook-cell:/d%3A/Work/CCE/Year%204%20-%20Senior%202/Semester%201/Senior-2-Semester-1/Image%20Processing/Project/FaceDetection-Recognition/Recognizer/Eigenfaces/main_recognizer.ipynb#X31sZmlsZQ%3D%3D?line=5'>6</a>\u001b[0m omegas, eigenfaces, average_image \u001b[39m=\u001b[39m load_data()\n\u001b[0;32m      <a href='vscode-notebook-cell:/d%3A/Work/CCE/Year%204%20-%20Senior%202/Semester%201/Senior-2-Semester-1/Image%20Processing/Project/FaceDetection-Recognition/Recognizer/Eigenfaces/main_recognizer.ipynb#X31sZmlsZQ%3D%3D?line=6'>7</a>\u001b[0m show_eigenfaces(eigenfaces, height, width, \u001b[39m320\u001b[39m)\n\u001b[1;32m----> <a href='vscode-notebook-cell:/d%3A/Work/CCE/Year%204%20-%20Senior%202/Semester%201/Senior-2-Semester-1/Image%20Processing/Project/FaceDetection-Recognition/Recognizer/Eigenfaces/main_recognizer.ipynb#X31sZmlsZQ%3D%3D?line=7'>8</a>\u001b[0m input_image \u001b[39m=\u001b[39m convert_image(input_image, width, height)\n\u001b[0;32m     <a href='vscode-notebook-cell:/d%3A/Work/CCE/Year%204%20-%20Senior%202/Semester%201/Senior-2-Semester-1/Image%20Processing/Project/FaceDetection-Recognition/Recognizer/Eigenfaces/main_recognizer.ipynb#X31sZmlsZQ%3D%3D?line=9'>10</a>\u001b[0m predicted_index \u001b[39m=\u001b[39m predict(\n\u001b[0;32m     <a href='vscode-notebook-cell:/d%3A/Work/CCE/Year%204%20-%20Senior%202/Semester%201/Senior-2-Semester-1/Image%20Processing/Project/FaceDetection-Recognition/Recognizer/Eigenfaces/main_recognizer.ipynb#X31sZmlsZQ%3D%3D?line=10'>11</a>\u001b[0m     omegas, input_image, average_image, eigenfaces, height, width, \u001b[39m7\u001b[39m)\n\u001b[0;32m     <a href='vscode-notebook-cell:/d%3A/Work/CCE/Year%204%20-%20Senior%202/Semester%201/Senior-2-Semester-1/Image%20Processing/Project/FaceDetection-Recognition/Recognizer/Eigenfaces/main_recognizer.ipynb#X31sZmlsZQ%3D%3D?line=11'>12</a>\u001b[0m \u001b[39mif\u001b[39;00m (predicted_index \u001b[39m==\u001b[39m \u001b[39m-\u001b[39m\u001b[39m1\u001b[39m):\n",
      "\u001b[1;32md:\\Work\\CCE\\Year 4 - Senior 2\\Semester 1\\Senior-2-Semester-1\\Image Processing\\Project\\FaceDetection-Recognition\\Recognizer\\Eigenfaces\\main_recognizer.ipynb Cell 25\u001b[0m in \u001b[0;36mconvert_image\u001b[1;34m(image, width, height)\u001b[0m\n\u001b[0;32m      <a href='vscode-notebook-cell:/d%3A/Work/CCE/Year%204%20-%20Senior%202/Semester%201/Senior-2-Semester-1/Image%20Processing/Project/FaceDetection-Recognition/Recognizer/Eigenfaces/main_recognizer.ipynb#X31sZmlsZQ%3D%3D?line=7'>8</a>\u001b[0m     image \u001b[39m=\u001b[39m rgb2gray(image)\n\u001b[0;32m      <a href='vscode-notebook-cell:/d%3A/Work/CCE/Year%204%20-%20Senior%202/Semester%201/Senior-2-Semester-1/Image%20Processing/Project/FaceDetection-Recognition/Recognizer/Eigenfaces/main_recognizer.ipynb#X31sZmlsZQ%3D%3D?line=8'>9</a>\u001b[0m \u001b[39m# resize image to width*height\u001b[39;00m\n\u001b[1;32m---> <a href='vscode-notebook-cell:/d%3A/Work/CCE/Year%204%20-%20Senior%202/Semester%201/Senior-2-Semester-1/Image%20Processing/Project/FaceDetection-Recognition/Recognizer/Eigenfaces/main_recognizer.ipynb#X31sZmlsZQ%3D%3D?line=9'>10</a>\u001b[0m image \u001b[39m=\u001b[39m cv2\u001b[39m.\u001b[39mresize(image, (width, height))\n\u001b[0;32m     <a href='vscode-notebook-cell:/d%3A/Work/CCE/Year%204%20-%20Senior%202/Semester%201/Senior-2-Semester-1/Image%20Processing/Project/FaceDetection-Recognition/Recognizer/Eigenfaces/main_recognizer.ipynb#X31sZmlsZQ%3D%3D?line=10'>11</a>\u001b[0m \u001b[39mif\u001b[39;00m (np\u001b[39m.\u001b[39mmax(image) \u001b[39m>\u001b[39m \u001b[39m1\u001b[39m):\n\u001b[0;32m     <a href='vscode-notebook-cell:/d%3A/Work/CCE/Year%204%20-%20Senior%202/Semester%201/Senior-2-Semester-1/Image%20Processing/Project/FaceDetection-Recognition/Recognizer/Eigenfaces/main_recognizer.ipynb#X31sZmlsZQ%3D%3D?line=11'>12</a>\u001b[0m     image \u001b[39m=\u001b[39m image \u001b[39m/\u001b[39m \u001b[39m255.0\u001b[39m\n",
      "\u001b[1;31mNameError\u001b[0m: name 'cv2' is not defined"
     ]
    }
   ],
   "source": [
    "# -------------------------------- MAIN FUNCTION FOR RECOGNIZER -------------------------------- #\n",
    "\n",
    "def recognizer_main(input_image):\n",
    "    dataset = load_dataset()\n",
    "    images, _, height, width, _, _, _, _ = extract_info_from_dataset(dataset)\n",
    "    omegas, eigenfaces, average_image = load_data()\n",
    "    show_eigenfaces(eigenfaces, height, width, 320)\n",
    "    input_image = convert_image(input_image, width, height)\n",
    "\n",
    "    predicted_index = predict(\n",
    "        omegas, input_image, average_image, eigenfaces, height, width, 7)\n",
    "    if (predicted_index == -1):\n",
    "        print('Unknown face')\n",
    "    else:\n",
    "        print('Known face')\n",
    "        # show predicted image\n",
    "        plt.imshow(images[predicted_index],\n",
    "                   cmap='gray', label='Predicted image')\n",
    "        plt.show()\n",
    "input_img = io.imread(dirname+ '/Test Images/moazTest.jpg')\n",
    "recognizer_main(input_img)\n"
   ]
  },
  {
   "cell_type": "code",
   "execution_count": null,
   "metadata": {},
   "outputs": [],
   "source": [
    "def train():\n",
    "    dataset = load_dataset()\n",
    "    images, m, height, width, total_images, n_features, y, num_people = extract_info_from_dataset(\n",
    "        dataset)\n",
    "    flattened_images = get_flattened_images(images, m, height, width)\n",
    "    average_image = get_average_image(flattened_images, height, width)\n",
    "    difference_images = get_difference_images(flattened_images, average_image)\n",
    "    covariance_matrix = get_covariance_matrix(m, n_features, difference_images)\n",
    "    eigenvalues, eigenfaces = eigenvalues_eigenfaces(\n",
    "        covariance_matrix, difference_images)\n",
    "    eigenfaces = normalize_eigenfaces(eigenfaces)\n",
    "    eigenvalues, eigenfaces = sort_eigenvalues_eigenfaces(eigenvalues, eigenfaces)\n",
    "    K = calculate_K(eigenvalues, m)\n",
    "    eigenvalues, eigenfaces = select_K_top_eigenfaces(eigenvalues, eigenfaces, K)\n",
    "    omegas = get_omegas(difference_images, eigenfaces)\n",
    "    save_data_to_disk(omegas, eigenfaces, average_image)"
   ]
  }
 ],
 "metadata": {
  "kernelspec": {
   "display_name": "Python 3.9.12 ('base')",
   "language": "python",
   "name": "python3"
  },
  "language_info": {
   "codemirror_mode": {
    "name": "ipython",
    "version": 3
   },
   "file_extension": ".py",
   "mimetype": "text/x-python",
   "name": "python",
   "nbconvert_exporter": "python",
   "pygments_lexer": "ipython3",
   "version": "3.9.12"
  },
  "orig_nbformat": 4,
  "vscode": {
   "interpreter": {
    "hash": "ad2bdc8ecc057115af97d19610ffacc2b4e99fae6737bb82f5d7fb13d2f2c186"
   }
  }
 },
 "nbformat": 4,
 "nbformat_minor": 2
}
