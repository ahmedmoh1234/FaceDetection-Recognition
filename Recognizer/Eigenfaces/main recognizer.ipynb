{
 "cells": [
  {
   "cell_type": "code",
   "execution_count": 28,
   "metadata": {},
   "outputs": [],
   "source": [
    "import numpy as np\n",
    "from sklearn.model_selection import train_test_split\n",
    "from sklearn.model_selection import GridSearchCV\n",
    "from sklearn.datasets import fetch_lfw_people\n",
    "from sklearn.datasets import fetch_olivetti_faces\n",
    "from sklearn.metrics import classification_report\n",
    "from sklearn.metrics import confusion_matrix\n",
    "from sklearn.decomposition import PCA\n",
    "from sklearn.svm import SVC\n",
    "import matplotlib.pyplot as plt\n",
    "import random"
   ]
  },
  {
   "cell_type": "code",
   "execution_count": 29,
   "metadata": {},
   "outputs": [],
   "source": [
    "# ---------------------------- LOAD OLIVIETTA DATASET ---------------------------- #\n",
    "\n",
    "def load_dataset():\n",
    "    dataset = fetch_olivetti_faces(data_home='D:\\Senior II\\Image Processing\\Project\\Datasets/Olivietta Dataset', shuffle=True, random_state=47)\n",
    "    return dataset"
   ]
  },
  {
   "cell_type": "code",
   "execution_count": 30,
   "metadata": {},
   "outputs": [],
   "source": [
    "def extract_info_from_dataset(dataset, print=False):\n",
    "    \n",
    "    '''\n",
    "    Returns: \n",
    "        - images: ndarray(m, height, width): the images of the dataset\n",
    "        - m: int: the number of images in the dataset\n",
    "        - height: int: the height of each image\n",
    "        - width: int: the width of each image\n",
    "        - total_images: int:  the total number of images in the dataset\n",
    "        - n_features: int: the number of features of each image = height * width\n",
    "        - y: ndarray(m,): the labels of the images\n",
    "        - num_people: int the number of people in the dataset\n",
    "    '''\n",
    "    \n",
    "    images = dataset.images\n",
    "\n",
    "    m = images.shape[0]\n",
    "    if(print):\n",
    "        print('Images shape:',images.shape)\n",
    "\n",
    "    total_images, height, width = images.shape\n",
    "    if(print):\n",
    "        print(f'Each image has size: {height} x {width}')\n",
    "        print(70* '-')\n",
    "\n",
    "    n_features = height*width\n",
    "    if(print):\n",
    "        print(f'N^2 = n_features = h x w = {n_features}')\n",
    "        print(70* '-')\n",
    "\n",
    "    y = dataset.target\n",
    "    if(print):\n",
    "        print('y has shape:', y.shape)\n",
    "\n",
    "    num_people = np.max(y) + 1\n",
    "    if(print):\n",
    "        print('Number of people =', num_people)\n",
    "\n",
    "    return images, m, height, width, total_images, n_features, y, num_people"
   ]
  },
  {
   "cell_type": "code",
   "execution_count": 31,
   "metadata": {},
   "outputs": [],
   "source": [
    "#----------------------- CREATE PEOPLE DICTIONARY -----------------------#\n",
    "\n",
    "\n",
    "def create_people_dict(total_images, num_people, y):\n",
    "    # Key: person ID\n",
    "    # Value: List of all person images indices\n",
    "    person_image_dict = dict()\n",
    "\n",
    "    for image_index in range(total_images):\n",
    "        if (y[image_index] not in person_image_dict.keys()):\n",
    "            person_image_dict[y[image_index]] = [image_index]\n",
    "        else:\n",
    "            person_image_dict[y[image_index]].append(image_index)\n",
    "    return person_image_dict"
   ]
  },
  {
   "cell_type": "code",
   "execution_count": 32,
   "metadata": {},
   "outputs": [],
   "source": [
    "# ------------------ VIEW RANDOM IMAGE ------------------ #\n",
    "\n",
    "def view_rand_image(images, m):\n",
    "    index = int(random.random() * m)\n",
    "    index = 0\n",
    "    image = images[index,:,:]\n",
    "    # name = target_names[y[index]]\n",
    "\n",
    "    # print(name)\n",
    "    plt.imshow(image, cmap='gray')\n",
    "    plt.show()"
   ]
  },
  {
   "cell_type": "code",
   "execution_count": 33,
   "metadata": {},
   "outputs": [],
   "source": [
    "# --------------------- GET FLATTEN IMAGES --------------------- #\n",
    "\n",
    "def flattened_images(images, m, height, width, print=False):\n",
    "    # Flatten images array\n",
    "    # Each column is an image\n",
    "\n",
    "    # N^2 * M\n",
    "    flattened_images = images.reshape(m, -1).T\n",
    "\n",
    "    if(print):\n",
    "        print(f'Shape of training images after flattening: {flattened_images.shape}')\n",
    "    \n",
    "    return flattened_images\n"
   ]
  },
  {
   "cell_type": "code",
   "execution_count": 34,
   "metadata": {},
   "outputs": [],
   "source": [
    "# ----------------- CALCULATE AVERAGE IMAGE ----------------- #\n",
    "\n",
    "def average_image(flattened_images, height, width, print=False):\n",
    "    # In all corresponding pixels in all images, we calculate the average\n",
    "\n",
    "    # N^2 * 1\n",
    "    average_image = np.mean(flattened_images, axis = 1)[:,np.newaxis]\n",
    "\n",
    "    if(print):\n",
    "        print(f'Average image has shape: {average_image.shape}')\n",
    "        plt.imshow(average_image.reshape(height,width), cmap='gray', title='Average Image')\n",
    "        plt.show()\n",
    "    return average_image"
   ]
  },
  {
   "cell_type": "code",
   "execution_count": 35,
   "metadata": {},
   "outputs": [],
   "source": [
    "#-------------------------------- GET DIFFERENCE IMAGES --------------------------------#\n",
    "\n",
    "def difference_images(flattened_images, average_image, print=False):\n",
    "    # Subtract the average image from all images\n",
    "    # This is done to remove the average face from all images\n",
    "    # N^2 * M\n",
    "    difference_images = flattened_images - average_image\n",
    "    if(print):\n",
    "        print(f'Shape after subtracting average face: {difference_images.shape}')\n"
   ]
  },
  {
   "cell_type": "code",
   "execution_count": 36,
   "metadata": {},
   "outputs": [],
   "source": [
    "# --------------------- SHOW ONE DIFFERENCE IMAGE AND COMPARE TO ORIGINAL --------------------- #\n",
    "\n",
    "def show_difference_image(difference_images, train_images, height, width, m):\n",
    "    # Show one difference image and compare to original\n",
    "    index = int(random.random() * m)\n",
    "\n",
    "    plt.imshow(difference_images[:,index].reshape(height, width), cmap='gray')\n",
    "    plt.show()\n",
    "\n",
    "    # Print original image\n",
    "    plt.imshow(train_images[index,:,:], cmap='gray')\n",
    "    plt.show()"
   ]
  },
  {
   "cell_type": "code",
   "execution_count": 37,
   "metadata": {},
   "outputs": [],
   "source": [
    "#--------------------- GET COVARIANCE MATRIX --------------------- #\n",
    "\n",
    "def covariance_matrix(m, n_features, difference_images, print=False):\n",
    "    # C = A * A^T where A = difference_images\n",
    "\n",
    "    # N^2 * M\n",
    "    A = difference_images\n",
    "\n",
    "    if (m > n_features):\n",
    "        # N^2 * N^2\n",
    "        covariance_matrix = np.matmul(difference_images, difference_images.T)\n",
    "        if(print):\n",
    "            print('Shape of covariance matrix = N^2 * N^2 = ', covariance_matrix.shape)\n",
    "        \n",
    "    else:\n",
    "        # M * M\n",
    "        covariance_matrix = np.matmul(difference_images.T, difference_images)\n",
    "        if(print):\n",
    "            print('Shape of covariance matrix = M * M = ', covariance_matrix.shape)"
   ]
  },
  {
   "cell_type": "code",
   "execution_count": 38,
   "metadata": {},
   "outputs": [],
   "source": [
    "# --------------------------------- GET EIGENVALUES AND EIGENVECTORS --------------------------------- #\n",
    "\n",
    "def eigenvalues_eigenfaces(covariance_matrix, difference_images, print=False):\n",
    "    # M eigenvalues and M eigenvectors\n",
    "    # where M is the number of examples\n",
    "\n",
    "    eigenvalues, eigenvectors = np.linalg.eigh(covariance_matrix)\n",
    "    \n",
    "    if(print):\n",
    "        print('Shape of eigenvalues:', eigenvalues.shape)\n",
    "        print('Shape of eigenvectors before matrix multiplication:', eigenvectors.shape)\n",
    "\n",
    "    # Try to remove\n",
    "    eigenfaces = np.matmul(difference_images, eigenvectors)\n",
    "\n",
    "    if(print):\n",
    "        print('Shape of eigenfaces after matrix multiplication:', eigenfaces.shape)\n",
    "\n",
    "    return eigenvalues, eigenfaces"
   ]
  },
  {
   "cell_type": "code",
   "execution_count": 39,
   "metadata": {},
   "outputs": [],
   "source": [
    "# --------------------------------- NORMALIZE eigenfaces --------------------------------- #\n",
    "\n",
    "def normalize_eigenfaces(eigenfaces, print=False):\n",
    "    eigenfaces = eigenfaces / np.linalg.norm(eigenfaces, axis=0)\n",
    "    if(print):\n",
    "        print('Shape of eigenfaces after normalization:', eigenfaces.shape)\n",
    "    return eigenfaces"
   ]
  },
  {
   "cell_type": "code",
   "execution_count": 40,
   "metadata": {},
   "outputs": [],
   "source": [
    "# ------------------------ SORT eigenfaces ------------------------ #\n",
    "\n",
    "def sort_eigenvalues_eigenfaces(eigenvalues, eigenfaces, print=False):\n",
    "    # Get top K eigenfaces\n",
    "    indices_of_top_eigenvalues = np.argsort(-eigenvalues)\n",
    "    eigenvalues = eigenvalues[indices_of_top_eigenvalues]\n",
    "    eigenfaces = eigenfaces[:, indices_of_top_eigenvalues]\n",
    "    return eigenvalues, eigenfaces"
   ]
  },
  {
   "cell_type": "code",
   "execution_count": 41,
   "metadata": {},
   "outputs": [],
   "source": [
    "# --------------------------------- CALCULATE K --------------------------------- #\n",
    "\n",
    "def calculate_K(eigenvalues, m, variance = 0.8, print = False):\n",
    "    #Calculate the number of components to preserve specified variance\n",
    "    K = m\n",
    "    for ii, eigen_value_cumsum in enumerate(np.cumsum(eigenvalues) / np.sum(eigenvalues)):\n",
    "        if eigen_value_cumsum > variance:\n",
    "            K = ii\n",
    "            break\n",
    "\n",
    "    if(print):\n",
    "        print(f'Number of components to preserve {variance*100}% of the variance = {K}')"
   ]
  },
  {
   "cell_type": "code",
   "execution_count": 42,
   "metadata": {},
   "outputs": [],
   "source": [
    "# --------------------------------- SELECT K TOP eigenfaces --------------------------------- #\n",
    "\n",
    "\n",
    "def select_K_top_eigenfaces(eigenvalues, eigenfaces, K, print=False):\n",
    "    # Select only K eigenfaces\n",
    "    eigenvalues = eigenvalues[:K].copy()\n",
    "    eigenfaces = eigenfaces[:, :K].copy()\n",
    "\n",
    "    if(print):\n",
    "        print('Shape of eigenvalues after selecting top K:', eigenvalues.shape)\n",
    "        # N^2 * K\n",
    "        print('Shape of eigenfaces after selecting top K:', eigenfaces.shape)\n",
    "    return eigenvalues,eigenfaces"
   ]
  },
  {
   "cell_type": "code",
   "execution_count": 43,
   "metadata": {},
   "outputs": [],
   "source": [
    "\n",
    "# ------------------------ SHOW EIGENFACES ------------------------ #\n",
    "\n",
    "def show_eigenfaces(eigenfaces, height, width, K, num_show=16):\n",
    "    # Show eigenfaces\n",
    "    for i in range(min(K, num_show)):\n",
    "        plt.subplot(4, 4, i+1)\n",
    "        plt.imshow(eigenfaces[:,i].reshape(height, width), cmap='gray')\n",
    "        plt.title(f'Eigenface {i+1}')\n",
    "        plt.axis('off')"
   ]
  },
  {
   "cell_type": "code",
   "execution_count": 44,
   "metadata": {},
   "outputs": [],
   "source": [
    "# ------------------------ SHOW A RANDOM EIGENFACE ------------------------ #\n",
    "\n",
    "def show_random_eigenface(eigenfaces, height, width, m):\n",
    "    index = int(random.random() * m)\n",
    "    plt.imshow(eigenfaces[:,index].reshape(height, width), cmap='gray')\n",
    "    plt.show()"
   ]
  },
  {
   "cell_type": "code",
   "execution_count": 45,
   "metadata": {},
   "outputs": [],
   "source": [
    "# ------------------------ CALCULATE OMEGAS ------------------------ #\n",
    "\n",
    "def omegas(difference_images, eigenfaces, print=False):\n",
    "    omegas = []\n",
    "    for image in difference_images.T:\n",
    "        omegas.append(np.dot(image, eigenfaces))\n",
    "    omegas = np.array(omegas)\n",
    "    if(print):\n",
    "        print('Shape of omegas:', omegas.shape)\n",
    "    return omegas"
   ]
  },
  {
   "attachments": {},
   "cell_type": "markdown",
   "metadata": {},
   "source": [
    "## Testing"
   ]
  },
  {
   "cell_type": "code",
   "execution_count": 46,
   "metadata": {},
   "outputs": [],
   "source": [
    "def predict(omegas, test_image, average_image, eigenfaces, height, width, print=False):\n",
    "    # Predict the class of a test image\n",
    "    # Calculate omega for test image\n",
    "    omega = np.dot(test_image - average_image, eigenfaces)\n",
    "\n",
    "    # Calculate distance between omega and all omegas\n",
    "    distances = np.linalg.norm(omegas - omega, axis=1)\n",
    "\n",
    "    # Get the index of the minimum distance\n",
    "    index = np.argmin(distances)\n",
    "\n",
    "    return index"
   ]
  },
  {
   "cell_type": "code",
   "execution_count": 47,
   "metadata": {},
   "outputs": [],
   "source": [
    "def recognizer_main(input_image):\n",
    "    dataset = load_dataset()\n",
    "    images, m, height, width, total_images, n_features, y, num_people = extract_info_from_dataset(dataset)\n",
    "    #people_dict = create_people_dict(total_images, num_people, y)\n",
    "    flattened_images = flattened_images(images, m, height, width)\n",
    "    average_image = average_image(flattened_images, m, height, width)\n",
    "    difference_images = difference_images(flattened_images, average_image)\n",
    "    covariance_matrix = covariance_matrix(m, n_features, difference_images)\n",
    "    eigenvalues, eigenfaces = eigenvalues_eigenfaces(covariance_matrix, difference_images)\n",
    "    eigenfaces = normalize_eigenfaces(eigenfaces)\n",
    "    eigenvalues, eigenfaces = sort_eigenvalues_eigenfaces(eigenvalues, eigenfaces)\n",
    "    K = calculate_K(eigenvalues, m)\n",
    "    eigenvalues, eigenfaces = select_K_top_eigenfaces(eigenvalues, eigenfaces, K)\n",
    "    omegas = omegas(difference_images, eigenfaces)\n",
    "    predicted_index = predict(omegas, input_image, average_image, eigenfaces, height, width)\n",
    "    print('Predicted index:', predicted_index)\n"
   ]
  }
 ],
 "metadata": {
  "kernelspec": {
   "display_name": "Python 3",
   "language": "python",
   "name": "python3"
  },
  "language_info": {
   "codemirror_mode": {
    "name": "ipython",
    "version": 3
   },
   "file_extension": ".py",
   "mimetype": "text/x-python",
   "name": "python",
   "nbconvert_exporter": "python",
   "pygments_lexer": "ipython3",
   "version": "3.9.5"
  },
  "orig_nbformat": 4,
  "vscode": {
   "interpreter": {
    "hash": "20aebf7f160902ad9dd8cbfe460d54a7c92755b430d8a2756048c9f24f1ce0aa"
   }
  }
 },
 "nbformat": 4,
 "nbformat_minor": 2
}
