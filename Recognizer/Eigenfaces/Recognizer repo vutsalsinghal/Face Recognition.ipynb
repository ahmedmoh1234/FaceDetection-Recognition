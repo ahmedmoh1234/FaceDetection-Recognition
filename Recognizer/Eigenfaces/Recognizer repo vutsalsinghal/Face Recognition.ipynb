{
 "cells": [
  {
   "cell_type": "markdown",
   "metadata": {},
   "source": [
    "# Face Recognition\n",
    "---\n",
    "\n",
    "**Project description** <br>\n",
    "Design a face recognition system using the eigenface method you have learned in\n",
    "class. You will be given a set of M training images and another set of test images. Use the training\n",
    "images to produce a set of eigenfaces. Then recognize the face in the input image using the eigenface\n",
    "method. Use Euclidean distance as distance measure for computing $d_i$ , for i = 0 to M. You can\n",
    "manually choose the thresholds $T_0$ and $T_1$ that produce the best results.\n",
    "\n",
    "What to hand in:\n",
    "+ An **MS Words file** that contains your **source code** (with full comments and documentation), the **language and  compiler** used, **instructions on how to compile and run** your program, and the following: \n",
    "    - The manually chosen thresholds $T_0$ and $T_1$ , the mean face m, and the M eigenfaces. The eigenfaces are contained in the matrix U, with each column represents an eigenface. You can output each eigenface as an N $\\times$ N image.\n",
    "    - The PCA coefficients ($Ω_i$) for each training image. \n",
    "    - For each test image: the image after subtracting the mean face I, its PCA coefficients ($Ω_i$), the reconstructed face image ($I_R$), distances $d_i$ for i = 0 to M, and classification result (non-face, unknown face, or identify of face.)\n",
    "\n",
    "+ **Your executable code**, the original **output image** files as described in (a) above as individual files.\n",
    "\n",
    "<hr>\n",
    "**Dataset Description:**<br>\n",
    "- It consists of a set of 17 grayscale face images (in JPG format). Each image is of dimension 195 x 231 (width x height) pixels and each pixel uses 8 bits for grayscale. \n",
    "- Use the following 8 images as training images: subject01.normal, subject02.normal, subject03.normal, subject07.normal, subject10.normal, subject11.normal, subject14.normal and subject15.normal. Use all 17 images (including the 8 training images) in the dataset as test images. \n",
    "- Non-face image: A non-face image (apple1) in JPG format is attached. This image is also of dimension 195 x 231. In addition to the 17 face images,  test your algorithm on this non-face image. \n",
    "\n",
    "Note: In the lecture slides, the training and test images are of size N X N (same horizontal and vertical dimensions.) The face images in the above dataset have different horizontal and vertical dimensions, but the Eigenface method works the same way and with no changes to the formulas. "
   ]
  },
  {
   "cell_type": "code",
   "execution_count": 130,
   "metadata": {
    "ExecuteTime": {
     "end_time": "2017-12-17T00:05:30.692953Z",
     "start_time": "2017-12-17T00:05:30.689066Z"
    }
   },
   "outputs": [],
   "source": [
    "# https://github.com/vutsalsinghal/EigenFace/blob/master/Face%20Recognition.ipynb\n",
    "# Import libraries\n",
    "from matplotlib import pyplot as plt\n",
    "from matplotlib.image import imread\n",
    "import numpy as np\n",
    "import os\n",
    "from sklearn.datasets import fetch_lfw_people #Dataset\n",
    "import random"
   ]
  },
  {
   "cell_type": "markdown",
   "metadata": {
    "ExecuteTime": {
     "end_time": "2017-12-04T01:48:03.153809Z",
     "start_time": "2017-12-04T01:48:03.148382Z"
    }
   },
   "source": [
    "## Read Images"
   ]
  },
  {
   "cell_type": "code",
   "execution_count": 131,
   "metadata": {},
   "outputs": [],
   "source": [
    "# ---------------------------- LOAD DATASET ---------------------------- #\n",
    "\n",
    "# this command will download the LFW_people's dataset to hard disk.\n",
    "\n",
    "lfw_people = fetch_lfw_people(data_home='D:\\Senior II\\Image Processing\\Project\\LFW Dataset',\n",
    "# lfw_people = fetch_lfw_people(data_home='D:\\Work\\CCE\\Year 4 - Senior 2\\Semester 1\\Senior-2-Semester-1\\Image Processing\\Project',\n",
    "min_faces_per_person = 70, resize = 0.4)"
   ]
  },
  {
   "cell_type": "code",
   "execution_count": 132,
   "metadata": {},
   "outputs": [
    {
     "name": "stdout",
     "output_type": "stream",
     "text": [
      "Images shape: (1288, 50, 37)\n",
      "Each image has size: 50 x 37\n",
      "----------------------------------------------------------------------\n",
      "M = Number of examples =  1030\n",
      "M_test = Number of test examples =  258\n",
      "Train images shape: (1030, 50, 37)\n",
      "Test images shape: (258, 50, 37)\n",
      "N^2 = n_features = h x w = 1850\n",
      "----------------------------------------------------------------------\n",
      "y has shape: (1288,)\n",
      "y_train has shape: (1030,)\n",
      "y_test has shape: (258,)\n",
      "Number of people = 7\n"
     ]
    }
   ],
   "source": [
    "images = lfw_people.images\n",
    "print('Images shape:',images.shape)\n",
    "\n",
    "total_images, height, width = images.shape\n",
    "print(f'Each image has size: {height} x {width}')\n",
    "\n",
    "print(70* '-')\n",
    "\n",
    "m = int(total_images * 0.8)\n",
    "print('M = Number of examples = ', m)\n",
    "\n",
    "m_test = total_images - m\n",
    "print('M_test = Number of test examples = ', m_test)\n",
    "\n",
    "train_images = images[:int(m)]\n",
    "print('Train images shape:', train_images.shape)\n",
    "\n",
    "test_images = images[int(m):]\n",
    "print('Test images shape:', test_images.shape)\n",
    "\n",
    "n_features = height*width\n",
    "print(f'N^2 = n_features = h x w = {n_features}')\n",
    "\n",
    "print(70* '-')\n",
    "\n",
    "y = lfw_people.target\n",
    "print('y has shape:', y.shape)\n",
    "\n",
    "y_train = y[:int(m)]\n",
    "print('y_train has shape:', y_train.shape)\n",
    "\n",
    "y_test = y[int(m):]\n",
    "print('y_test has shape:', y_test.shape)\n",
    "\n",
    "target_names = lfw_people.target_names\n",
    "num_people = target_names.shape[0]\n",
    "print('Number of people =', num_people)"
   ]
  },
  {
   "cell_type": "code",
   "execution_count": 133,
   "metadata": {
    "ExecuteTime": {
     "end_time": "2017-12-17T00:05:31.206977Z",
     "start_time": "2017-12-17T00:05:31.193202Z"
    }
   },
   "outputs": [],
   "source": [
    "# dataset_path = 'Dataset/'\n",
    "# dataset_dir  = os.listdir(dataset_path)\n",
    "\n",
    "# width  = 195\n",
    "# height = 231"
   ]
  },
  {
   "cell_type": "code",
   "execution_count": 134,
   "metadata": {
    "ExecuteTime": {
     "end_time": "2017-12-17T00:05:32.917884Z",
     "start_time": "2017-12-17T00:05:31.448288Z"
    },
    "scrolled": false
   },
   "outputs": [
    {
     "name": "stdout",
     "output_type": "stream",
     "text": [
      "Train images shape (1030, 1850)\n",
      "Test images shape (258, 1850)\n"
     ]
    }
   ],
   "source": [
    "# print('Train Images:')\n",
    "# train_image_names = ['subject01.normal.jpg', 'subject02.normal.jpg', 'subject03.normal.jpg', \n",
    "# 'subject07.normal.jpg', 'subject10.normal.jpg', 'subject11.normal.jpg', 'subject14.normal.jpg', \n",
    "# 'subject15.normal.jpg']\n",
    "training_tensor = np.ndarray(shape=(m, height*width), dtype=np.float64)\n",
    "\n",
    "for i in range(m):\n",
    "    img = train_images[i]\n",
    "    training_tensor[i,:] = np.array(img, dtype='float64').flatten()\n",
    "    # plt.subplot(2,4,1+i)\n",
    "    # plt.imshow(img, cmap='gray')\n",
    "    # plt.tick_params(labelleft='off', labelbottom='off', bottom='off',top='off',right='off',left='off', which='both')\n",
    "# plt.show()\n",
    "\n",
    "# print('Test Images:')\n",
    "# test_image_names = dataset_dir#[i for i in dataset_dir if i not in train_image_names]\n",
    "testing_tensor   = np.ndarray(shape=(m_test, height*width), dtype=np.float64)\n",
    "\n",
    "for i in range(m_test):\n",
    "    img = test_images[i]\n",
    "    testing_tensor[i,:] = np.array(img, dtype='float64').flatten()\n",
    "#     plt.subplot(3,6,1+i)\n",
    "#     plt.title(test_image_names[i].split('.')[0][-2:]+test_image_names[i].split('.')[1])\n",
    "#     plt.imshow(img, cmap='gray')\n",
    "#     plt.subplots_adjust(right=1.2, top=1.2)\n",
    "#     plt.tick_params(labelleft='off', labelbottom='off', bottom='off',top='off',right='off',left='off', which='both')\n",
    "# plt.show()\n",
    "\n",
    "print(f'Train images shape {training_tensor.shape}')\n",
    "print(f'Test images shape {testing_tensor.shape}')\n"
   ]
  },
  {
   "cell_type": "markdown",
   "metadata": {},
   "source": [
    "## Mean face"
   ]
  },
  {
   "cell_type": "code",
   "execution_count": 135,
   "metadata": {
    "ExecuteTime": {
     "end_time": "2017-12-17T00:05:33.043474Z",
     "start_time": "2017-12-17T00:05:32.937637Z"
    }
   },
   "outputs": [
    {
     "data": {
      "image/png": "[encoded data removed]",
      "text/plain": [
       "<Figure size 432x288 with 1 Axes>"
      ]
     },
     "metadata": {
      "needs_background": "light"
     },
     "output_type": "display_data"
    }
   ],
   "source": [
    "mean_face = np.zeros((1,height*width))\n",
    "\n",
    "for i in training_tensor:\n",
    "    mean_face = np.add(mean_face,i)\n",
    "\n",
    "mean_face = np.divide(mean_face,float(m)).flatten()\n",
    "\n",
    "plt.imshow(mean_face.reshape(height, width), cmap='gray')\n",
    "plt.tick_params(labelleft='off', labelbottom='off', bottom='off',top='off',right='off',left='off', which='both')\n",
    "plt.show()"
   ]
  },
  {
   "cell_type": "markdown",
   "metadata": {},
   "source": [
    "## Normalised faces"
   ]
  },
  {
   "cell_type": "code",
   "execution_count": 136,
   "metadata": {
    "ExecuteTime": {
     "end_time": "2017-12-17T00:05:33.093368Z",
     "start_time": "2017-12-17T00:05:33.060451Z"
    }
   },
   "outputs": [],
   "source": [
    "normalised_training_tensor = np.ndarray(shape=(m, height*width))\n",
    "\n",
    "for i in range(m):\n",
    "    normalised_training_tensor[i] = np.subtract(training_tensor[i],mean_face)"
   ]
  },
  {
   "cell_type": "markdown",
   "metadata": {},
   "source": [
    "### Display normalised faces"
   ]
  },
  {
   "cell_type": "code",
   "execution_count": 137,
   "metadata": {
    "ExecuteTime": {
     "end_time": "2017-12-17T00:05:33.649076Z",
     "start_time": "2017-12-17T00:05:33.110413Z"
    }
   },
   "outputs": [
    {
     "data": {
      "image/png": "[encoded data removed]",
      "text/plain": [
       "<Figure size 432x288 with 8 Axes>"
      ]
     },
     "metadata": {
      "needs_background": "light"
     },
     "output_type": "display_data"
    }
   ],
   "source": [
    "for i in range(8):\n",
    "    img = normalised_training_tensor[i].reshape(height,width)\n",
    "    plt.subplot(2,4,1+i)\n",
    "    plt.imshow(img, cmap='gray')\n",
    "    plt.tick_params(labelleft='off', labelbottom='off', bottom='off',top='off',right='off',left='off', which='both')\n",
    "plt.show()"
   ]
  },
  {
   "cell_type": "markdown",
   "metadata": {},
   "source": [
    "## Covariance matrix"
   ]
  },
  {
   "cell_type": "code",
   "execution_count": 138,
   "metadata": {
    "ExecuteTime": {
     "end_time": "2017-12-17T00:05:33.742166Z",
     "start_time": "2017-12-17T00:05:33.671722Z"
    }
   },
   "outputs": [
    {
     "name": "stdout",
     "output_type": "stream",
     "text": [
      "Covariance matrix of X: \n",
      "[[ 1.52097064e-03 -5.00132802e-05 -1.61242297e-04 ...  1.51442866e-04\n",
      "   5.48431867e-05  1.33826778e-04]\n",
      " [-5.00132802e-05  2.24026323e-03 -1.43600611e-04 ...  6.41067321e-05\n",
      "  -2.07853217e-04 -1.78730160e-04]\n",
      " [-1.61242297e-04 -1.43600611e-04  1.94943123e-03 ... -5.71644080e-05\n",
      "  -1.00721214e-04 -3.22039867e-05]\n",
      " ...\n",
      " [ 1.51442866e-04  6.41067321e-05 -5.71644080e-05 ...  7.06971028e-04\n",
      "   1.77822437e-04 -5.46775858e-05]\n",
      " [ 5.48431867e-05 -2.07853217e-04 -1.00721214e-04 ...  1.77822437e-04\n",
      "   2.06816808e-03 -1.75990962e-05]\n",
      " [ 1.33826778e-04 -1.78730160e-04 -3.22039867e-05 ... -5.46775858e-05\n",
      "  -1.75990962e-05  1.13381541e-03]]\n"
     ]
    }
   ],
   "source": [
    "cov_matrix = np.cov(normalised_training_tensor)\n",
    "cov_matrix = np.divide(cov_matrix,8.0)\n",
    "print('Covariance matrix of X: \\n%s' %cov_matrix)"
   ]
  },
  {
   "cell_type": "code",
   "execution_count": 139,
   "metadata": {
    "ExecuteTime": {
     "end_time": "2017-12-17T00:05:35.343958Z",
     "start_time": "2017-12-17T00:05:35.117474Z"
    }
   },
   "outputs": [
    {
     "name": "stdout",
     "output_type": "stream",
     "text": [
      "Eigenvectors of Cov(X): \n",
      "[[ 0.00443493 -0.0126636   0.005325   ...  0.00620608  0.00519753\n",
      "   0.00308387]\n",
      " [-0.02210997 -0.01064379  0.01163102 ...  0.03889309  0.0535333\n",
      "  -0.01528604]\n",
      " [-0.01145078  0.01874477  0.0011148  ...  0.00906763 -0.00663315\n",
      "   0.03057359]\n",
      " ...\n",
      " [-0.0016781  -0.01352874 -0.0043435  ... -0.02038666 -0.03169021\n",
      "   0.01452381]\n",
      " [ 0.03304884 -0.04195347 -0.03009544 ... -0.03124085 -0.01166716\n",
      "   0.02969566]\n",
      " [ 0.01689271  0.03106524  0.01397258 ... -0.03259686  0.01223918\n",
      "   0.05113606]]\n",
      "\n",
      "Eigenvalues of Cov(X): \n",
      "[4.10368034e-01 2.02629169e-01 1.64081601e-01 ... 4.93362314e-06\n",
      " 5.22261787e-06 5.23609952e-06]\n"
     ]
    }
   ],
   "source": [
    "eigenvalues, eigenvectors, = np.linalg.eig(cov_matrix)\n",
    "print('Eigenvectors of Cov(X): \\n%s' %eigenvectors)\n",
    "print('\\nEigenvalues of Cov(X): \\n%s' %eigenvalues)"
   ]
  },
  {
   "cell_type": "code",
   "execution_count": 140,
   "metadata": {
    "ExecuteTime": {
     "end_time": "2017-12-17T00:05:35.408349Z",
     "start_time": "2017-12-17T00:05:35.399884Z"
    }
   },
   "outputs": [],
   "source": [
    "eig_pairs = [(eigenvalues[index], eigenvectors[:,index]) for index in range(len(eigenvalues))]\n",
    "\n",
    "# Sort the eigen pairs in descending order:\n",
    "eig_pairs.sort(reverse=True)\n",
    "eigvalues_sort  = [eig_pairs[index][0] for index in range(len(eigenvalues))]\n",
    "eigvectors_sort = [eig_pairs[index][1] for index in range(len(eigenvalues))]"
   ]
  },
  {
   "cell_type": "markdown",
   "metadata": {},
   "source": [
    "## Find cumulative variance of each principle component"
   ]
  },
  {
   "cell_type": "code",
   "execution_count": 141,
   "metadata": {
    "ExecuteTime": {
     "end_time": "2017-12-17T00:05:36.752882Z",
     "start_time": "2017-12-17T00:05:36.598836Z"
    }
   },
   "outputs": [
    {
     "name": "stdout",
     "output_type": "stream",
     "text": [
      "Cumulative proportion of variance explained vector: \n",
      "[0.17932166 0.26786608 0.33956607 ... 0.99999943 1.         1.        ]\n"
     ]
    },
    {
     "data": {
      "image/png": "[encoded data removed]",
      "text/plain": [
       "<Figure size 432x288 with 1 Axes>"
      ]
     },
     "metadata": {
      "needs_background": "light"
     },
     "output_type": "display_data"
    }
   ],
   "source": [
    "var_comp_sum = np.cumsum(eigvalues_sort)/sum(eigvalues_sort)\n",
    "\n",
    "# Show cumulative proportion of varaince with respect to components\n",
    "print(\"Cumulative proportion of variance explained vector: \\n%s\" %var_comp_sum)\n",
    "\n",
    "# x-axis for number of principal components kept\n",
    "num_comp = range(1,len(eigvalues_sort)+1)\n",
    "plt.title('Cum. Prop. Variance Explain and Components Kept')\n",
    "plt.xlabel('Principal Components')\n",
    "plt.ylabel('Cum. Prop. Variance Expalined')\n",
    "\n",
    "plt.scatter(num_comp, var_comp_sum)\n",
    "plt.show()"
   ]
  },
  {
   "cell_type": "markdown",
   "metadata": {},
   "source": [
    "## Choose the necessary no.of principle components:"
   ]
  },
  {
   "cell_type": "code",
   "execution_count": 142,
   "metadata": {
    "ExecuteTime": {
     "end_time": "2017-12-17T00:06:27.171635Z",
     "start_time": "2017-12-17T00:06:27.168424Z"
    }
   },
   "outputs": [],
   "source": [
    "K = m\n",
    "reduced_data = np.array(eigvectors_sort[:K]).transpose()"
   ]
  },
  {
   "cell_type": "markdown",
   "metadata": {},
   "source": [
    "Now we try to find the projected data. This will form the eigen space."
   ]
  },
  {
   "cell_type": "code",
   "execution_count": 143,
   "metadata": {
    "ExecuteTime": {
     "end_time": "2017-12-17T00:06:27.844974Z",
     "start_time": "2017-12-17T00:06:27.832817Z"
    }
   },
   "outputs": [],
   "source": [
    "proj_data = np.dot(training_tensor.transpose(),reduced_data)\n",
    "proj_data = proj_data.transpose()"
   ]
  },
  {
   "cell_type": "markdown",
   "metadata": {},
   "source": [
    "## Finding weights for each traning image"
   ]
  },
  {
   "cell_type": "code",
   "execution_count": 144,
   "metadata": {
    "ExecuteTime": {
     "end_time": "2017-12-17T00:11:02.181762Z",
     "start_time": "2017-12-17T00:11:02.138284Z"
    }
   },
   "outputs": [
    {
     "data": {
      "text/plain": [
       "(1030, 1030)"
      ]
     },
     "execution_count": 144,
     "metadata": {},
     "output_type": "execute_result"
    }
   ],
   "source": [
    "w = np.array([np.dot(proj_data,i) for i in normalised_training_tensor])\n",
    "w.shape"
   ]
  },
  {
   "cell_type": "markdown",
   "metadata": {},
   "source": [
    "## Now we recognise unknown face!"
   ]
  },
  {
   "cell_type": "code",
   "execution_count": 145,
   "metadata": {
    "ExecuteTime": {
     "end_time": "2017-12-17T00:20:31.257175Z",
     "start_time": "2017-12-17T00:20:31.132708Z"
    }
   },
   "outputs": [
    {
     "data": {
      "image/png": "[encoded data removed]",
      "text/plain": [
       "<Figure size 432x288 with 1 Axes>"
      ]
     },
     "metadata": {
      "needs_background": "light"
     },
     "output_type": "display_data"
    }
   ],
   "source": [
    "index = int(random.random() * test_images.shape[0])\n",
    "unknown_face = test_images[index]\n",
    "unknown_face_vector = np.array(unknown_face, dtype='float64').flatten()\n",
    "\n",
    "plt.imshow(unknown_face, cmap='gray')\n",
    "plt.title('Unknown face')\n",
    "plt.tick_params(labelleft='off', labelbottom='off', bottom='off',top='off',right='off',left='off', which='both')\n",
    "plt.show()"
   ]
  },
  {
   "cell_type": "markdown",
   "metadata": {},
   "source": [
    "### Normalise unknown face"
   ]
  },
  {
   "cell_type": "code",
   "execution_count": 146,
   "metadata": {
    "ExecuteTime": {
     "end_time": "2017-12-17T00:20:31.979729Z",
     "start_time": "2017-12-17T00:20:31.862941Z"
    }
   },
   "outputs": [
    {
     "data": {
      "image/png": "[encoded data removed]",
      "text/plain": [
       "<Figure size 432x288 with 1 Axes>"
      ]
     },
     "metadata": {
      "needs_background": "light"
     },
     "output_type": "display_data"
    }
   ],
   "source": [
    "normalised_uface_vector = np.subtract(unknown_face_vector,mean_face)\n",
    "\n",
    "plt.imshow(normalised_uface_vector.reshape(height, width), cmap='gray')\n",
    "plt.title('Normalised unknown face')\n",
    "plt.tick_params(labelleft='off', labelbottom='off', bottom='off',top='off',right='off',left='off', which='both')\n",
    "plt.show()"
   ]
  },
  {
   "cell_type": "markdown",
   "metadata": {},
   "source": [
    "### Wieghts of uknown face"
   ]
  },
  {
   "cell_type": "markdown",
   "metadata": {},
   "source": [
    "Projecting the normalized vector onto the eigenspace, to find out the weights:"
   ]
  },
  {
   "cell_type": "code",
   "execution_count": 147,
   "metadata": {
    "ExecuteTime": {
     "end_time": "2017-12-17T00:20:34.366203Z",
     "start_time": "2017-12-17T00:20:34.359279Z"
    }
   },
   "outputs": [
    {
     "data": {
      "text/plain": [
       "(1030,)"
      ]
     },
     "execution_count": 147,
     "metadata": {},
     "output_type": "execute_result"
    }
   ],
   "source": [
    "w_unknown = np.dot(proj_data, unknown_face_vector)\n",
    "w_unknown.shape"
   ]
  },
  {
   "cell_type": "markdown",
   "metadata": {},
   "source": [
    "Finding the $min|W - W_{unknown}|$"
   ]
  },
  {
   "cell_type": "code",
   "execution_count": 148,
   "metadata": {
    "ExecuteTime": {
     "end_time": "2017-12-17T00:20:35.879147Z",
     "start_time": "2017-12-17T00:20:35.870348Z"
    }
   },
   "outputs": [
    {
     "name": "stdout",
     "output_type": "stream",
     "text": [
      "(1030,)\n"
     ]
    },
    {
     "data": {
      "text/plain": [
       "9401.245456178525"
      ]
     },
     "execution_count": 148,
     "metadata": {},
     "output_type": "execute_result"
    }
   ],
   "source": [
    "diff  = w - w_unknown\n",
    "norms = np.linalg.norm(diff, axis=1)\n",
    "print(norms.shape)\n",
    "min(norms)"
   ]
  },
  {
   "cell_type": "markdown",
   "metadata": {},
   "source": [
    "## Reconizing all test images"
   ]
  },
  {
   "cell_type": "code",
   "execution_count": 151,
   "metadata": {},
   "outputs": [
    {
     "name": "stdout",
     "output_type": "stream",
     "text": [
      "Accuracy: 33.300000000000004%\n"
     ]
    }
   ],
   "source": [
    "# ---------------------------- TESTING ACCURACY ---------------------------- #\n",
    "\n",
    "count = 0\n",
    "trials = 1000\n",
    "for trial in range(trials):\n",
    "    # Get test image index randomly\n",
    "    random_index = int(random.random() * m_test)\n",
    "    \n",
    "    # Get image\n",
    "    test_image = testing_tensor[random_index, :]\n",
    "    normalised_uface_vector = np.subtract(test_image, mean_face)\n",
    "    w_unknown = np.dot(proj_data, normalised_uface_vector)\n",
    "    diff  = w - w_unknown\n",
    "    norms = np.linalg.norm(diff, axis=1)\n",
    "    nearest_person_index = np.argmin(norms)\n",
    "    nearest_person = y_train[nearest_person_index]\n",
    "    if(nearest_person == y_test[random_index]):\n",
    "        count += 1\n",
    "\n",
    "\n",
    "print(f'Accuracy: {count/trials*100}%')"
   ]
  },
  {
   "cell_type": "code",
   "execution_count": null,
   "metadata": {},
   "outputs": [],
   "source": [
    "count        = 0\n",
    "num_images   = 0\n",
    "correct_pred = 0\n",
    "def recogniser(img, train_image_names,proj_data,w):\n",
    "    global count,highest_min,num_images,correct_pred\n",
    "    unknown_face        = plt.imread('Dataset/'+img)\n",
    "    num_images          += 1\n",
    "    unknown_face_vector = np.array(unknown_face, dtype='float64').flatten()\n",
    "    normalised_uface_vector = np.subtract(unknown_face_vector,mean_face)\n",
    "    \n",
    "    plt.subplot(9,4,1+count)\n",
    "    plt.imshow(unknown_face, cmap='gray')\n",
    "    plt.title('Input:'+'.'.join(img.split('.')[:2]))\n",
    "    plt.tick_params(labelleft='off', labelbottom='off', bottom='off',top='off',right='off',left='off', which='both')\n",
    "    count+=1\n",
    "    \n",
    "    w_unknown = np.dot(proj_data, normalised_uface_vector)\n",
    "    diff  = w - w_unknown\n",
    "    norms = np.linalg.norm(diff, axis=1)\n",
    "    index = np.argmin(norms)\n",
    "    \n",
    "    t1 = 100111536\n",
    "    #t1 = 200535910.268 # working with 6 faces\n",
    "    #t0 = 86528212\n",
    "    t0 = 88831687\n",
    "    #t0 = 143559033 # working with 6 faces\n",
    "    \n",
    "    if norms[index] < t1:\n",
    "        plt.subplot(9,4,1+count)\n",
    "        if norms[index] < t0: # It's a face\n",
    "            if img.split('.')[0] == train_image_names[index].split('.')[0]:\n",
    "                plt.title('Matched:'+'.'.join(train_image_names[index].split('.')[:2]), color='g')\n",
    "                plt.imshow(imread('Dataset/'+train_image_names[index]), cmap='gray')\n",
    "                \n",
    "                correct_pred += 1\n",
    "            else:\n",
    "                plt.title('Matched:'+'.'.join(train_image_names[index].split('.')[:2]), color='r')\n",
    "                plt.imshow(imread('Dataset/'+train_image_names[index]), cmap='gray')\n",
    "        else:\n",
    "            if img.split('.')[0] not in [i.split('.')[0] for i in train_image_names] and img.split('.')[0] != 'apple':\n",
    "                plt.title('Unknown face!', color='g')\n",
    "                correct_pred += 1\n",
    "            else:\n",
    "                plt.title('Unknown face!', color='r')\n",
    "        plt.tick_params(labelleft='off', labelbottom='off', bottom='off',top='off',right='off',left='off', which='both')\n",
    "        plt.subplots_adjust(right=1.2, top=2.5)\n",
    "    else:     \n",
    "        plt.subplot(9,4,1+count)\n",
    "        if len(img.split('.')) == 3:\n",
    "            plt.title('Not a face!', color='r')\n",
    "        else:\n",
    "            plt.title('Not a face!', color='g')\n",
    "            correct_pred += 1\n",
    "        plt.tick_params(labelleft='off', labelbottom='off', bottom='off',top='off',right='off',left='off', which='both')\n",
    "    count+=1\n",
    "\n",
    "fig = plt.figure(figsize=(15, 15))\n",
    "for i in range(len(test_image_names)):\n",
    "    recogniser(test_image_names[i], train_image_names,proj_data,w)\n",
    "\n",
    "plt.show()\n",
    "\n",
    "print('Correct predictions: {}/{} = {}%'.format(correct_pred, num_images, correct_pred/num_images*100.00))"
   ]
  }
 ],
 "metadata": {
  "kernelspec": {
   "display_name": "Python 3",
   "language": "python",
   "name": "python3"
  },
  "language_info": {
   "codemirror_mode": {
    "name": "ipython",
    "version": 3
   },
   "file_extension": ".py",
   "mimetype": "text/x-python",
   "name": "python",
   "nbconvert_exporter": "python",
   "pygments_lexer": "ipython3",
   "version": "3.9.5 (tags/v3.9.5:0a7dcbd, May  3 2021, 17:27:52) [MSC v.1928 64 bit (AMD64)]"
  },
  "toc": {
   "nav_menu": {},
   "number_sections": true,
   "sideBar": true,
   "skip_h1_title": false,
   "toc_cell": false,
   "toc_position": {},
   "toc_section_display": "block",
   "toc_window_display": false
  },
  "varInspector": {
   "cols": {
    "lenName": 16,
    "lenType": 16,
    "lenVar": 40
   },
   "kernels_config": {
    "python": {
     "delete_cmd_postfix": "",
     "delete_cmd_prefix": "del ",
     "library": "var_list.py",
     "varRefreshCmd": "print(var_dic_list())"
    },
    "r": {
     "delete_cmd_postfix": ") ",
     "delete_cmd_prefix": "rm(",
     "library": "var_list.r",
     "varRefreshCmd": "cat(var_dic_list()) "
    }
   },
   "types_to_exclude": [
    "module",
    "function",
    "builtin_function_or_method",
    "instance",
    "_Feature"
   ],
   "window_display": false
  },
  "vscode": {
   "interpreter": {
    "hash": "20aebf7f160902ad9dd8cbfe460d54a7c92755b430d8a2756048c9f24f1ce0aa"
   }
  }
 },
 "nbformat": 4,
 "nbformat_minor": 2
}
