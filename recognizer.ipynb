{
 "cells": [
  {
   "cell_type": "code",
   "execution_count": 171,
   "metadata": {},
   "outputs": [],
   "source": [
    "#https://github.com/vutsalsinghal/EigenFace/blob/master/Face%20Recognition.ipynb\n",
    "import numpy as np\n",
    "from sklearn.model_selection import train_test_split\n",
    "from sklearn.model_selection import GridSearchCV\n",
    "from sklearn.datasets import fetch_lfw_people\n",
    "from sklearn.metrics import classification_report\n",
    "from sklearn.metrics import confusion_matrix\n",
    "from sklearn.decomposition import PCA\n",
    "from sklearn.svm import SVC\n",
    "import matplotlib.pyplot as plt\n",
    "import random\n",
    "from heapq import *"
   ]
  },
  {
   "cell_type": "code",
   "execution_count": 172,
   "metadata": {},
   "outputs": [],
   "source": [
    "# this command will download the LFW_people's dataset to hard disk.\n",
    "lfw_people = fetch_lfw_people(data_home='D:\\Senior II\\Image Processing\\Project\\LFW Dataset',\n",
    "min_faces_per_person = 40, resize = 0.4)\n"
   ]
  },
  {
   "cell_type": "code",
   "execution_count": 173,
   "metadata": {},
   "outputs": [
    {
     "name": "stdout",
     "output_type": "stream",
     "text": [
      "Number of Examples:  1867\n",
      "Number of features:  1850\n",
      "Number of Class Labels:  19\n"
     ]
    }
   ],
   "source": [
    "# introspect the images arrays to find the shapes (for plotting)\n",
    "m, h, w = lfw_people.images.shape\n",
    "images = lfw_people.images\n",
    "\n",
    "# Instead of providing 2D data, X has data already in the form of a vector that\n",
    "# is required in this approach.\n",
    "X = lfw_people.data\n",
    "n_features = X.shape[1]\n",
    "\n",
    "# the label to predict is the id of the person\n",
    "y = lfw_people.target\n",
    "target_names = lfw_people.target_names\n",
    "n_classes = target_names.shape[0]\n",
    "\n",
    "# Print Details about dataset\n",
    "print(\"Number of Examples: % d\" % m)\n",
    "print(\"Number of features: % d\" % n_features)\n",
    "print(\"Number of Class Labels: % d\" % n_classes)"
   ]
  },
  {
   "cell_type": "code",
   "execution_count": 174,
   "metadata": {},
   "outputs": [
    {
     "name": "stdout",
     "output_type": "stream",
     "text": [
      "George W Bush\n"
     ]
    },
    {
     "data": {
      "image/png": "[encoded data removed]",
      "text/plain": [
       "<Figure size 432x288 with 1 Axes>"
      ]
     },
     "metadata": {
      "needs_background": "light"
     },
     "output_type": "display_data"
    }
   ],
   "source": [
    "#View an image\n",
    "index = int(random.random() * images.shape[0])\n",
    "# index = 0\n",
    "name = target_names[y[index]]\n",
    "print(name)\n",
    "plt.imshow(images[index,:,:])\n",
    "plt.show()"
   ]
  },
  {
   "cell_type": "code",
   "execution_count": 175,
   "metadata": {},
   "outputs": [
    {
     "name": "stdout",
     "output_type": "stream",
     "text": [
      "Shape after flattening: (1850, 1867)\n"
     ]
    }
   ],
   "source": [
    "#Flatten images array\n",
    "flattened_images = images.reshape(m, -1).T\n",
    "# N^2 * M\n",
    "print(f'Shape after flattening: {flattened_images.shape}')"
   ]
  },
  {
   "cell_type": "code",
   "execution_count": 176,
   "metadata": {},
   "outputs": [
    {
     "name": "stdout",
     "output_type": "stream",
     "text": [
      "(1850, 1867)\n"
     ]
    }
   ],
   "source": [
    "# A is the matrix of averaged images\n",
    "average = np.average(flattened_images, axis = 1, keepdims = True).squeeze()\n",
    "A = (flattened_images - np.average(flattened_images, axis = 1, keepdims = True))\n",
    "# N^2 * M\n",
    "print(A.shape)"
   ]
  },
  {
   "cell_type": "code",
   "execution_count": 177,
   "metadata": {},
   "outputs": [
    {
     "name": "stdout",
     "output_type": "stream",
     "text": [
      "Covariance Matrix Shape: (1867, 1867)\n"
     ]
    }
   ],
   "source": [
    "cov = np.cov(A.T) / m\n",
    "# m*m\n",
    "print(f'Covariance Matrix Shape: {cov.shape}')"
   ]
  },
  {
   "cell_type": "code",
   "execution_count": 178,
   "metadata": {},
   "outputs": [
    {
     "name": "stdout",
     "output_type": "stream",
     "text": [
      "Shape of eigenvalues: (1867,)\n",
      "Shape of eigenvectors: (1867, 1867)\n"
     ]
    }
   ],
   "source": [
    "#eigenvectors are stacked in columns\n",
    "eigenvalues, eigenvectors = np.linalg.eig(cov)\n",
    "print(f'Shape of eigenvalues: {eigenvalues.shape}')\n",
    "print(f'Shape of eigenvectors: {eigenvectors.shape}')"
   ]
  },
  {
   "cell_type": "code",
   "execution_count": 179,
   "metadata": {},
   "outputs": [],
   "source": [
    "eig_pairs = [(eigenvalues[index], eigenvectors[:,index]) for index in range(len(eigenvalues))]\n",
    "eig_pairs.sort(reverse=True)\n",
    "eigvalues_sort  = [eig_pairs[index][0] for index in range(len(eigenvalues))]\n",
    "eigvectors_sort = [eig_pairs[index][1] for index in range(len(eigenvalues))]"
   ]
  },
  {
   "cell_type": "code",
   "execution_count": 180,
   "metadata": {},
   "outputs": [
    {
     "name": "stdout",
     "output_type": "stream",
     "text": [
      "(1867, 900)\n"
     ]
    }
   ],
   "source": [
    "K = 900\n",
    "reduced_data = np.array(eigvectors_sort[:K]).transpose()\n",
    "# N^2 * K\n",
    "print(reduced_data.shape)"
   ]
  },
  {
   "cell_type": "code",
   "execution_count": 181,
   "metadata": {},
   "outputs": [
    {
     "name": "stdout",
     "output_type": "stream",
     "text": [
      "(900, 1850)\n"
     ]
    }
   ],
   "source": [
    "proj_data = np.dot(flattened_images, reduced_data).T\n",
    "# K * m\n",
    "print(proj_data.shape)"
   ]
  },
  {
   "cell_type": "code",
   "execution_count": 182,
   "metadata": {},
   "outputs": [
    {
     "name": "stdout",
     "output_type": "stream",
     "text": [
      "(1867, 900)\n"
     ]
    }
   ],
   "source": [
    "w = np.array([np.dot(proj_data,i) for i in A.T])\n",
    "# N^2 * K\n",
    "print(w.shape)"
   ]
  },
  {
   "cell_type": "code",
   "execution_count": 183,
   "metadata": {},
   "outputs": [],
   "source": [
    "index = int(random.random() * images.shape[0])\n",
    "#take on image from A randomly\n",
    "test_image = A[:, index] - average\n",
    "#flatten test image\n",
    "test_image_flattened = test_image.reshape(-1, 1)"
   ]
  },
  {
   "cell_type": "code",
   "execution_count": 184,
   "metadata": {},
   "outputs": [
    {
     "name": "stdout",
     "output_type": "stream",
     "text": [
      "Accuracy: 2.7%\n"
     ]
    }
   ],
   "source": [
    "#Test in a loop\n",
    "count = 0\n",
    "trials = 1000\n",
    "for i in range(trials):\n",
    "    index = int(random.random() * images.shape[0])\n",
    "    #take on image from A randomly\n",
    "    test_image = A[:, index] - average\n",
    "    #flatten test image\n",
    "    test_image_flattened = test_image.reshape(-1, 1)\n",
    "\n",
    "    w_unknown = np.dot(proj_data, test_image_flattened)\n",
    "    diff  = w.T - w_unknown\n",
    "    norms = np.linalg.norm(diff, axis=1)\n",
    "    predicted_index = np.argmin(norms)\n",
    "    \n",
    "\n",
    "    name = target_names[y[index]]\n",
    "    predicted_name = target_names[y[predicted_index]]\n",
    "\n",
    "    if(name == predicted_name):\n",
    "        count += 1\n",
    "print(f'Accuracy: {(count / trials) * 100}%')"
   ]
  }
 ],
 "metadata": {
  "kernelspec": {
   "display_name": "Python 3",
   "language": "python",
   "name": "python3"
  },
  "language_info": {
   "codemirror_mode": {
    "name": "ipython",
    "version": 3
   },
   "file_extension": ".py",
   "mimetype": "text/x-python",
   "name": "python",
   "nbconvert_exporter": "python",
   "pygments_lexer": "ipython3",
   "version": "3.9.5"
  },
  "orig_nbformat": 4,
  "vscode": {
   "interpreter": {
    "hash": "20aebf7f160902ad9dd8cbfe460d54a7c92755b430d8a2756048c9f24f1ce0aa"
   }
  }
 },
 "nbformat": 4,
 "nbformat_minor": 2
}
