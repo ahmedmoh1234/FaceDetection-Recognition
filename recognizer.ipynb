{
 "cells": [
  {
   "cell_type": "code",
   "execution_count": 207,
   "metadata": {},
   "outputs": [],
   "source": [
    "import numpy as np\n",
    "from sklearn.model_selection import train_test_split\n",
    "from sklearn.model_selection import GridSearchCV\n",
    "from sklearn.datasets import fetch_lfw_people\n",
    "from sklearn.metrics import classification_report\n",
    "from sklearn.metrics import confusion_matrix\n",
    "from sklearn.decomposition import PCA\n",
    "from sklearn.svm import SVC\n",
    "import matplotlib.pyplot as plt\n",
    "import random\n",
    "from heapq import *"
   ]
  },
  {
   "cell_type": "code",
   "execution_count": 208,
   "metadata": {},
   "outputs": [],
   "source": [
    "# this command will download the LFW_people's dataset to hard disk.\n",
    "lfw_people = fetch_lfw_people(data_home='D:\\Senior II\\Image Processing\\Project\\LFW Dataset',\n",
    "min_faces_per_person = 40, resize = 0.4)\n"
   ]
  },
  {
   "cell_type": "code",
   "execution_count": 209,
   "metadata": {},
   "outputs": [
    {
     "name": "stdout",
     "output_type": "stream",
     "text": [
      "Number of Examples:  1867\n",
      "Number of features:  1850\n",
      "Number of Class Labels:  19\n"
     ]
    }
   ],
   "source": [
    "# introspect the images arrays to find the shapes (for plotting)\n",
    "m, h, w = lfw_people.images.shape\n",
    "images = lfw_people.images\n",
    "\n",
    "# Instead of providing 2D data, X has data already in the form of a vector that\n",
    "# is required in this approach.\n",
    "X = lfw_people.data\n",
    "n_features = X.shape[1]\n",
    "\n",
    "# the label to predict is the id of the person\n",
    "y = lfw_people.target\n",
    "target_names = lfw_people.target_names\n",
    "n_classes = target_names.shape[0]\n",
    "\n",
    "# Print Details about dataset\n",
    "print(\"Number of Examples: % d\" % m)\n",
    "print(\"Number of features: % d\" % n_features)\n",
    "print(\"Number of Class Labels: % d\" % n_classes)"
   ]
  },
  {
   "cell_type": "code",
   "execution_count": 210,
   "metadata": {},
   "outputs": [
    {
     "name": "stdout",
     "output_type": "stream",
     "text": [
      "Gerhard Schroeder\n"
     ]
    },
    {
     "data": {
      "image/png": "[encoded data removed]",
      "text/plain": [
       "<Figure size 432x288 with 1 Axes>"
      ]
     },
     "metadata": {
      "needs_background": "light"
     },
     "output_type": "display_data"
    }
   ],
   "source": [
    "#View an image\n",
    "index = int(random.random() * images.shape[0])\n",
    "# index = 0\n",
    "name = target_names[y[index]]\n",
    "print(name)\n",
    "plt.imshow(images[index,:,:])\n",
    "plt.show()"
   ]
  },
  {
   "cell_type": "code",
   "execution_count": 211,
   "metadata": {},
   "outputs": [
    {
     "name": "stdout",
     "output_type": "stream",
     "text": [
      "Shape after flattening: (1850, 1867)\n"
     ]
    }
   ],
   "source": [
    "#Flatten images array\n",
    "flattened_images = images.reshape(m, -1).T\n",
    "# N^2 * M\n",
    "print(f'Shape after flattening: {flattened_images.shape}')"
   ]
  },
  {
   "cell_type": "code",
   "execution_count": 212,
   "metadata": {},
   "outputs": [
    {
     "name": "stdout",
     "output_type": "stream",
     "text": [
      "(1850, 1867)\n"
     ]
    }
   ],
   "source": [
    "# A is the matrix of averaged images\n",
    "average = np.average(flattened_images, axis = 1, keepdims = True).squeeze()\n",
    "A = (flattened_images - np.average(flattened_images, axis = 1, keepdims = True))\n",
    "#n*m\n",
    "print(A.shape)"
   ]
  },
  {
   "cell_type": "code",
   "execution_count": 213,
   "metadata": {},
   "outputs": [
    {
     "name": "stdout",
     "output_type": "stream",
     "text": [
      "Covariance Matrix Shape: (1867, 1867)\n"
     ]
    }
   ],
   "source": [
    "cov = np.matmul(A.T, A)\n",
    "#m*m\n",
    "print(f'Covariance Matrix Shape: {cov.shape}')"
   ]
  },
  {
   "cell_type": "code",
   "execution_count": 214,
   "metadata": {},
   "outputs": [
    {
     "name": "stdout",
     "output_type": "stream",
     "text": [
      "Shape of eigenvalues: (1867,)\n",
      "Shape of eigenvectors: (1867, 1867)\n"
     ]
    }
   ],
   "source": [
    "#eigenvectors are stacked in columns\n",
    "eigenvalues, v = np.linalg.eig(cov)\n",
    "print(f'Shape of eigenvalues: {eigenvalues.shape}')\n",
    "print(f'Shape of eigenvectors: {v.shape}')"
   ]
  },
  {
   "cell_type": "code",
   "execution_count": 215,
   "metadata": {},
   "outputs": [
    {
     "name": "stdout",
     "output_type": "stream",
     "text": [
      "(1850, 1867)\n"
     ]
    }
   ],
   "source": [
    "u = np.matmul(A, v)\n",
    "print(u.shape)"
   ]
  },
  {
   "cell_type": "code",
   "execution_count": 216,
   "metadata": {},
   "outputs": [
    {
     "name": "stdout",
     "output_type": "stream",
     "text": [
      "<class 'numpy.ndarray'>\n"
     ]
    }
   ],
   "source": [
    "#change choice of K\n",
    "K = n_features\n",
    "indices = np.argpartition(eigenvalues, -K)[-K:]\n",
    "# #use indices to get the top K eigenvectors\n",
    "X = u[:, indices]\n",
    "X_inv = np.linalg.inv(X)\n",
    "w = np.zeros((K, m))\n",
    "for j in range(K):\n",
    "    w[:,j] = np.matmul(X_inv, A[:, j])\n",
    "    \n",
    "print(type(w))"
   ]
  },
  {
   "cell_type": "code",
   "execution_count": 217,
   "metadata": {},
   "outputs": [
    {
     "ename": "TypeError",
     "evalue": "only integer scalar arrays can be converted to a scalar index",
     "output_type": "error",
     "traceback": [
      "\u001b[1;31m---------------------------------------------------------------------------\u001b[0m",
      "\u001b[1;31mTypeError\u001b[0m                                 Traceback (most recent call last)",
      "\u001b[1;32md:\\Senior II\\Image Processing\\Project\\FaceDetection-Recognition\\recognizer.ipynb Cell 11\u001b[0m in \u001b[0;36m<cell line: 9>\u001b[1;34m()\u001b[0m\n\u001b[0;32m      <a href='vscode-notebook-cell:/d%3A/Senior%20II/Image%20Processing/Project/FaceDetection-Recognition/recognizer.ipynb#X20sZmlsZQ%3D%3D?line=6'>7</a>\u001b[0m reconstructed_image \u001b[39m=\u001b[39m np\u001b[39m.\u001b[39mmatmul(w, projection) \u001b[39m+\u001b[39m average\n\u001b[0;32m      <a href='vscode-notebook-cell:/d%3A/Senior%20II/Image%20Processing/Project/FaceDetection-Recognition/recognizer.ipynb#X20sZmlsZQ%3D%3D?line=7'>8</a>\u001b[0m \u001b[39m#reshape image\u001b[39;00m\n\u001b[1;32m----> <a href='vscode-notebook-cell:/d%3A/Senior%20II/Image%20Processing/Project/FaceDetection-Recognition/recognizer.ipynb#X20sZmlsZQ%3D%3D?line=8'>9</a>\u001b[0m reconstructed_image \u001b[39m=\u001b[39m reconstructed_image\u001b[39m.\u001b[39;49mreshape(h, w)\n\u001b[0;32m     <a href='vscode-notebook-cell:/d%3A/Senior%20II/Image%20Processing/Project/FaceDetection-Recognition/recognizer.ipynb#X20sZmlsZQ%3D%3D?line=9'>10</a>\u001b[0m \u001b[39m#plot image\u001b[39;00m\n\u001b[0;32m     <a href='vscode-notebook-cell:/d%3A/Senior%20II/Image%20Processing/Project/FaceDetection-Recognition/recognizer.ipynb#X20sZmlsZQ%3D%3D?line=10'>11</a>\u001b[0m plt\u001b[39m.\u001b[39mimshow(reconstructed_image)\n",
      "\u001b[1;31mTypeError\u001b[0m: only integer scalar arrays can be converted to a scalar index"
     ]
    }
   ],
   "source": [
    "index = int(random.random() * images.shape[0])\n",
    "#take on image from A randomly\n",
    "image = A[:, index]\n",
    "#project image onto w\n",
    "projection = np.matmul(w.T, image)\n",
    "#reconstruct image\n",
    "reconstructed_image = np.matmul(w, projection) + average\n",
    "#reshape image\n",
    "reconstructed_image = reconstructed_image.reshape(h, w)\n",
    "#plot image\n",
    "plt.imshow(reconstructed_image)\n",
    "plt.show()"
   ]
  }
 ],
 "metadata": {
  "kernelspec": {
   "display_name": "Python 3",
   "language": "python",
   "name": "python3"
  },
  "language_info": {
   "codemirror_mode": {
    "name": "ipython",
    "version": 3
   },
   "file_extension": ".py",
   "mimetype": "text/x-python",
   "name": "python",
   "nbconvert_exporter": "python",
   "pygments_lexer": "ipython3",
   "version": "3.9.5"
  },
  "orig_nbformat": 4,
  "vscode": {
   "interpreter": {
    "hash": "20aebf7f160902ad9dd8cbfe460d54a7c92755b430d8a2756048c9f24f1ce0aa"
   }
  }
 },
 "nbformat": 4,
 "nbformat_minor": 2
}
