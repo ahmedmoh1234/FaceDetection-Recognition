{
 "cells": [
  {
   "cell_type": "code",
   "execution_count": 124,
   "metadata": {},
   "outputs": [],
   "source": [
    "import numpy as np\n",
    "from sklearn.model_selection import train_test_split\n",
    "from sklearn.model_selection import GridSearchCV\n",
    "from sklearn.datasets import fetch_lfw_people\n",
    "from sklearn.metrics import classification_report\n",
    "from sklearn.metrics import confusion_matrix\n",
    "from sklearn.decomposition import PCA\n",
    "from sklearn.svm import SVC\n",
    "import matplotlib.pyplot as plt\n",
    "import random\n",
    "from heapq import *"
   ]
  },
  {
   "cell_type": "code",
   "execution_count": 125,
   "metadata": {},
   "outputs": [],
   "source": [
    "# this command will download the LFW_people's dataset to hard disk.\n",
    "lfw_people = fetch_lfw_people(data_home='D:\\Senior II\\Image Processing\\Project\\LFW Dataset',\n",
    "min_faces_per_person = 40, resize = 0.4)\n"
   ]
  },
  {
   "cell_type": "code",
   "execution_count": 126,
   "metadata": {},
   "outputs": [
    {
     "name": "stdout",
     "output_type": "stream",
     "text": [
      "Number of Examples:  1867\n",
      "Number of features:  1850\n",
      "Number of Class Labels:  19\n"
     ]
    }
   ],
   "source": [
    "# introspect the images arrays to find the shapes (for plotting)\n",
    "m, h, w = lfw_people.images.shape\n",
    "images = lfw_people.images\n",
    "\n",
    "# Instead of providing 2D data, X has data already in the form of a vector that\n",
    "# is required in this approach.\n",
    "X = lfw_people.data\n",
    "n_features = X.shape[1]\n",
    "\n",
    "# the label to predict is the id of the person\n",
    "y = lfw_people.target\n",
    "target_names = lfw_people.target_names\n",
    "n_classes = target_names.shape[0]\n",
    "\n",
    "# Print Details about dataset\n",
    "print(\"Number of Examples: % d\" % m)\n",
    "print(\"Number of features: % d\" % n_features)\n",
    "print(\"Number of Class Labels: % d\" % n_classes)"
   ]
  },
  {
   "cell_type": "code",
   "execution_count": 127,
   "metadata": {},
   "outputs": [
    {
     "name": "stdout",
     "output_type": "stream",
     "text": [
      "Donald Rumsfeld\n"
     ]
    },
    {
     "data": {
      "image/png": "[encoded data removed]",
      "text/plain": [
       "<Figure size 432x288 with 1 Axes>"
      ]
     },
     "metadata": {
      "needs_background": "light"
     },
     "output_type": "display_data"
    }
   ],
   "source": [
    "#View an image\n",
    "index = int(random.random() * images.shape[0])\n",
    "# index = 0\n",
    "name = target_names[y[index]]\n",
    "print(name)\n",
    "plt.imshow(images[index,:,:])\n",
    "plt.show()"
   ]
  },
  {
   "cell_type": "code",
   "execution_count": 128,
   "metadata": {},
   "outputs": [
    {
     "name": "stdout",
     "output_type": "stream",
     "text": [
      "Shape after flattening: (1850, 1867)\n"
     ]
    }
   ],
   "source": [
    "#Flatten images array\n",
    "flattened_images = images.reshape(m, -1).T\n",
    "# N^2 * M\n",
    "print(f'Shape after flattening: {flattened_images.shape}')"
   ]
  },
  {
   "cell_type": "code",
   "execution_count": 129,
   "metadata": {},
   "outputs": [
    {
     "name": "stdout",
     "output_type": "stream",
     "text": [
      "(1850, 1867)\n"
     ]
    }
   ],
   "source": [
    "# A is the matrix of averaged images\n",
    "average = np.average(flattened_images, axis = 1, keepdims = True).squeeze()\n",
    "A = (flattened_images - np.average(flattened_images, axis = 1, keepdims = True))\n",
    "#n*m\n",
    "print(A.shape)"
   ]
  },
  {
   "cell_type": "code",
   "execution_count": 130,
   "metadata": {},
   "outputs": [
    {
     "name": "stdout",
     "output_type": "stream",
     "text": [
      "Covariance Matrix Shape: (1867, 1867)\n"
     ]
    }
   ],
   "source": [
    "# cov = np.matmul(A.T, A)\n",
    "cov = np.cov(A.T) / n_classes\n",
    "# m*m\n",
    "print(f'Covariance Matrix Shape: {cov.shape}')"
   ]
  },
  {
   "cell_type": "code",
   "execution_count": 131,
   "metadata": {},
   "outputs": [
    {
     "name": "stdout",
     "output_type": "stream",
     "text": [
      "Shape of eigenvalues: (1867,)\n",
      "Shape of eigenvectors: (1867, 1867)\n"
     ]
    }
   ],
   "source": [
    "#eigenvectors are stacked in columns\n",
    "eigenvalues, v = np.linalg.eig(cov)\n",
    "print(f'Shape of eigenvalues: {eigenvalues.shape}')\n",
    "print(f'Shape of eigenvectors: {v.shape}')"
   ]
  },
  {
   "cell_type": "code",
   "execution_count": 132,
   "metadata": {},
   "outputs": [
    {
     "name": "stdout",
     "output_type": "stream",
     "text": [
      "(1850, 1867)\n"
     ]
    }
   ],
   "source": [
    "u = np.matmul(A, v)\n",
    "print(u.shape)"
   ]
  },
  {
   "cell_type": "code",
   "execution_count": 133,
   "metadata": {},
   "outputs": [
    {
     "name": "stderr",
     "output_type": "stream",
     "text": [
      "C:\\Users\\EGYPT\\AppData\\Local\\Temp\\ipykernel_5472\\2365415878.py:9: ComplexWarning: Casting complex values to real discards the imaginary part\n",
      "  w[:,j] = np.matmul(X_inv, A[:, j])\n"
     ]
    },
    {
     "name": "stdout",
     "output_type": "stream",
     "text": [
      "w: (1850, 1867)\n"
     ]
    }
   ],
   "source": [
    "#change choice of K\n",
    "K = n_features\n",
    "indices = np.argpartition(eigenvalues, -K)[-K:]\n",
    "# #use indices to get the top K eigenvectors\n",
    "X = u[:, indices]\n",
    "X_inv = np.linalg.inv(X)\n",
    "w = np.zeros((K, m))\n",
    "for j in range(K):\n",
    "    w[:,j] = np.matmul(X_inv, A[:, j])\n",
    "    \n",
    "print('w:',w.shape)"
   ]
  },
  {
   "cell_type": "code",
   "execution_count": 134,
   "metadata": {},
   "outputs": [],
   "source": [
    "index = int(random.random() * images.shape[0])\n",
    "#take on image from A randomly\n",
    "test_image = A[:, index] - average\n",
    "#flatten test image\n",
    "test_image_flattened = test_image.reshape(-1, 1)\n",
    "# print(test_image_flattened.shape)\n",
    "w_test = np.zeros((K, 1))\n",
    "w_test = np.matmul(X_inv, test_image_flattened)\n",
    "\n",
    "er = np.argmin(np.sum((w_test - w) ** 2, axis = 0))"
   ]
  },
  {
   "cell_type": "code",
   "execution_count": 135,
   "metadata": {},
   "outputs": [
    {
     "name": "stdout",
     "output_type": "stream",
     "text": [
      "Name: Jacques Chirac\n",
      "Predicted: Hugo Chavez\n"
     ]
    }
   ],
   "source": [
    "#show test image\n",
    "name = target_names[y[index]]\n",
    "predicted_name = target_names[y[er]]\n",
    "# plt.imshow(images[index, :, :])\n",
    "# plt.show()\n",
    "# plt.imshow(images[er, :, :])\n",
    "# plt.show()\n",
    "print('Name:', name)\n",
    "print('Predicted:', predicted_name)"
   ]
  },
  {
   "cell_type": "code",
   "execution_count": 138,
   "metadata": {},
   "outputs": [
    {
     "name": "stdout",
     "output_type": "stream",
     "text": [
      "Accuracy: 3.9%\n"
     ]
    }
   ],
   "source": [
    "#Test in a loop\n",
    "count = 0\n",
    "trials = 1000\n",
    "for i in range(trials):\n",
    "    index = int(random.random() * images.shape[0])\n",
    "    #take on image from A randomly\n",
    "    test_image = A[:, index] - average\n",
    "    #flatten test image\n",
    "    test_image_flattened = test_image.reshape(-1, 1)\n",
    "    # print(test_image_flattened.shape)\n",
    "    w_test = np.zeros((K, 1))\n",
    "    w_test = np.matmul(X_inv, test_image_flattened)\n",
    "\n",
    "    er = np.argmin(np.sum((w_test - w) ** 2, axis = 0))\n",
    "\n",
    "    name = target_names[y[index]]\n",
    "    predicted_name = target_names[y[er]]\n",
    "\n",
    "    if(name == predicted_name):\n",
    "        count += 1\n",
    "print(f'Accuracy: {(count / trials) * 100}%')"
   ]
  }
 ],
 "metadata": {
  "kernelspec": {
   "display_name": "Python 3",
   "language": "python",
   "name": "python3"
  },
  "language_info": {
   "codemirror_mode": {
    "name": "ipython",
    "version": 3
   },
   "file_extension": ".py",
   "mimetype": "text/x-python",
   "name": "python",
   "nbconvert_exporter": "python",
   "pygments_lexer": "ipython3",
   "version": "3.9.5"
  },
  "orig_nbformat": 4,
  "vscode": {
   "interpreter": {
    "hash": "20aebf7f160902ad9dd8cbfe460d54a7c92755b430d8a2756048c9f24f1ce0aa"
   }
  }
 },
 "nbformat": 4,
 "nbformat_minor": 2
}
