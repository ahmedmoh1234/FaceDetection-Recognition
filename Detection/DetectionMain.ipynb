{
 "cells": [
  {
   "cell_type": "code",
   "execution_count": 1,
   "metadata": {},
   "outputs": [],
   "source": [
    "import skimage.io as io\n",
    "import skimage as sk\n",
    "from skimage.color import rgb2gray\n",
    "from skimage.transform import resize\n",
    "import time\n",
    "import numpy as np\n",
    "import os\n",
    "\n",
    "\n",
    "from unitTesting import UnitTest\n",
    "import adaboost.adaboost as ab"
   ]
  },
  {
   "attachments": {},
   "cell_type": "markdown",
   "metadata": {},
   "source": [
    "# Testing"
   ]
  },
  {
   "cell_type": "code",
   "execution_count": 2,
   "metadata": {},
   "outputs": [
    {
     "name": "stdout",
     "output_type": "stream",
     "text": [
      "Integral image test PASSED\n",
      "Determine features test PASSED\n",
      "Loading positive dataset...\n",
      "Loading negative dataset...\n",
      "Positive Dataset Shape: (118, 24, 24)\n",
      "Negative Dataset Shape: (11, 24, 24)\n"
     ]
    }
   ],
   "source": [
    "img = io.imread('./test.jpg')\n",
    "img = rgb2gray(img)\n",
    "ut = UnitTest(img)\n",
    "\n",
    "#load positive dataset\n",
    "try:\n",
    "    print(\"Loading positive dataset...\")\n",
    "    positiveDataset = np.load(\"./Dataset/positiveDataset.npy\")\n",
    "except:\n",
    "    print(\"No dataset found, creating new dataset...\")\n",
    "    positiveDataset = np.load(\"./Dataset/olivetti_faces.npy\")\n",
    "    personID = np.load(\"./Dataset/olivetti_faces_target.npy\")\n",
    "\n",
    "\n",
    "    #resize images to 24x24\n",
    "    newPositiveDataset = np.empty(shape=(positiveDataset.shape[0], 24, 24))\n",
    "    for i in range(len(positiveDataset)):\n",
    "        newImg = np.array(positiveDataset[i])\n",
    "        \n",
    "        finalImg = resize(newImg, (24, 24))\n",
    "        newPositiveDataset[i] = finalImg\n",
    "\n",
    "    positiveDataset = newPositiveDataset\n",
    "\n",
    "    # for i in range(10):\n",
    "    #     io.imshow(positiveDataset[i])\n",
    "    #     io.show()\n",
    "\n",
    "    # print(positiveDataset.shape)\n",
    "\n",
    "    \n",
    "\n",
    "    np.save(\"./Dataset/positiveDataset.npy\", positiveDataset)\n",
    "\n",
    "#loading negative dataset\n",
    "try:\n",
    "    print(\"Loading negative dataset...\")\n",
    "    negativeDataset = np.load(\"./Dataset/negativeDataset.npy\")\n",
    "except:\n",
    "    print(\"No dataset found, creating new dataset...\")\n",
    "    directory = \"./Dataset/NegativeSet\"\n",
    "    negativeDataset = np.empty(shape=(len(os.listdir(directory)), 24, 24))\n",
    "    i = 0\n",
    "    for filename in os.listdir(directory):\n",
    "        if filename.endswith(\".jpg\"):\n",
    "            curImg = io.imread(os.path.join(directory, filename), as_gray=True)\n",
    "            newImg = resize(curImg, (24, 24))\n",
    "            negativeDataset[i] = newImg\n",
    "            i += 1\n",
    "    # negativeDataset = negativeDataset.reshape(len(os.listdir(directory)), 64, 64)\n",
    "    # print(negativeDataset.shape)\n",
    "    np.save(\"./Dataset/negativeDataset.npy\", negativeDataset)\n",
    "\n",
    "\n",
    "\n",
    "posDataset, negDataset = ab.preprocessImages(positiveDataset, negativeDataset)\n",
    "\n",
    "print(f\"Positive Dataset Shape: {posDataset.shape}\")\n",
    "print(f\"Negative Dataset Shape: {negDataset.shape}\")\n",
    "\n"
   ]
  },
  {
   "cell_type": "code",
   "execution_count": 3,
   "metadata": {},
   "outputs": [
    {
     "name": "stdout",
     "output_type": "stream",
     "text": [
      "Loading classifiers...\n",
      "No classifiers found, creating new classifiers...\n",
      "Calculating integral images...\n",
      "Done!\n",
      "\n",
      "Creating initial weights and labels...\n",
      "Done!\n",
      "\n",
      "Calculating all possible haar features...\n",
      "Done!\n",
      "\n",
      "Calculating votes of all haar features for all samples...\n",
      "Done!\n",
      "\n",
      "Training 218702 classifiers...\n",
      " Training classifier 1 of 50..."
     ]
    },
    {
     "name": "stderr",
     "output_type": "stream",
     "text": [
      "d:\\University\\Senior 2\\Fall 2022\\Image Processing\\Project\\FaceDetection-Recognition\\Detection\\adaboost\\adaboost.py:245: RuntimeWarning: divide by zero encountered in log\n",
      "  bestFeature.weight = 0.5 * np.log((1-bestError)/bestError)\n",
      "d:\\University\\Senior 2\\Fall 2022\\Image Processing\\Project\\FaceDetection-Recognition\\Detection\\adaboost\\adaboost.py:253: RuntimeWarning: invalid value encountered in divide\n",
      "  weights = weights/np.sum(weights)\n"
     ]
    },
    {
     "name": "stdout",
     "output_type": "stream",
     "text": [
      " Training classifier 50 of 50...Time taken to train the classifier:  290.2776527404785\n",
      "Classifiers loaded successfully\n",
      "Error1: Feature out of bounds\n",
      "Error2: Feature out of bounds\n",
      "x: 0, y: 22, width: 4, height: 2, intImg.shape: (24, 24)\n"
     ]
    },
    {
     "ename": "IndexError",
     "evalue": "index 24 is out of bounds for axis 0 with size 24",
     "output_type": "error",
     "traceback": [
      "\u001b[1;31m---------------------------------------------------------------------------\u001b[0m",
      "\u001b[1;31mIndexError\u001b[0m                                Traceback (most recent call last)",
      "Cell \u001b[1;32mIn [3], line 36\u001b[0m\n\u001b[0;32m     34\u001b[0m correctCount \u001b[39m=\u001b[39m \u001b[39m0\u001b[39m\n\u001b[0;32m     35\u001b[0m \u001b[39mfor\u001b[39;00m test \u001b[39min\u001b[39;00m testDataSet:\n\u001b[1;32m---> 36\u001b[0m     predicted \u001b[39m=\u001b[39m ab\u001b[39m.\u001b[39;49mgetVotes(np\u001b[39m.\u001b[39;49marray(classifiersToBeUsed), test)\n\u001b[0;32m     37\u001b[0m     \u001b[39mif\u001b[39;00m predicted \u001b[39m==\u001b[39m testDataSetTarget[i]:\n\u001b[0;32m     38\u001b[0m         correctCount \u001b[39m+\u001b[39m\u001b[39m=\u001b[39m \u001b[39m1\u001b[39m\n",
      "File \u001b[1;32md:\\University\\Senior 2\\Fall 2022\\Image Processing\\Project\\FaceDetection-Recognition\\Detection\\adaboost\\adaboost.py:266\u001b[0m, in \u001b[0;36mgetVotes\u001b[1;34m(haarFeatures, integralImage)\u001b[0m\n\u001b[0;32m    264\u001b[0m \u001b[39mdef\u001b[39;00m \u001b[39mgetVotes\u001b[39m(haarFeatures ,integralImage):\n\u001b[0;32m    265\u001b[0m     \u001b[39m#Threshold = 0 because each feature votes for 1 or -1\u001b[39;00m\n\u001b[1;32m--> 266\u001b[0m     \u001b[39mreturn\u001b[39;00m \u001b[39m1\u001b[39m \u001b[39mif\u001b[39;00m np\u001b[39m.\u001b[39;49msum(c\u001b[39m.\u001b[39;49mgetVote(integralImage) \u001b[39mfor\u001b[39;49;00m c \u001b[39min\u001b[39;49;00m haarFeatures) \u001b[39m>\u001b[39m\u001b[39m=\u001b[39m \u001b[39m0\u001b[39m \u001b[39melse\u001b[39;00m \u001b[39m0\u001b[39m\n",
      "File \u001b[1;32m<__array_function__ internals>:180\u001b[0m, in \u001b[0;36msum\u001b[1;34m(*args, **kwargs)\u001b[0m\n",
      "File \u001b[1;32mc:\\Users\\Ahmed Ismail\\AppData\\Local\\Programs\\Python\\Python310\\lib\\site-packages\\numpy\\core\\fromnumeric.py:2292\u001b[0m, in \u001b[0;36msum\u001b[1;34m(a, axis, dtype, out, keepdims, initial, where)\u001b[0m\n\u001b[0;32m   2285\u001b[0m \u001b[39mif\u001b[39;00m \u001b[39misinstance\u001b[39m(a, _gentype):\n\u001b[0;32m   2286\u001b[0m     \u001b[39m# 2018-02-25, 1.15.0\u001b[39;00m\n\u001b[0;32m   2287\u001b[0m     warnings\u001b[39m.\u001b[39mwarn(\n\u001b[0;32m   2288\u001b[0m         \u001b[39m\"\u001b[39m\u001b[39mCalling np.sum(generator) is deprecated, and in the future will give a different result. \u001b[39m\u001b[39m\"\u001b[39m\n\u001b[0;32m   2289\u001b[0m         \u001b[39m\"\u001b[39m\u001b[39mUse np.sum(np.fromiter(generator)) or the python sum builtin instead.\u001b[39m\u001b[39m\"\u001b[39m,\n\u001b[0;32m   2290\u001b[0m         \u001b[39mDeprecationWarning\u001b[39;00m, stacklevel\u001b[39m=\u001b[39m\u001b[39m3\u001b[39m)\n\u001b[1;32m-> 2292\u001b[0m     res \u001b[39m=\u001b[39m _sum_(a)\n\u001b[0;32m   2293\u001b[0m     \u001b[39mif\u001b[39;00m out \u001b[39mis\u001b[39;00m \u001b[39mnot\u001b[39;00m \u001b[39mNone\u001b[39;00m:\n\u001b[0;32m   2294\u001b[0m         out[\u001b[39m.\u001b[39m\u001b[39m.\u001b[39m\u001b[39m.\u001b[39m] \u001b[39m=\u001b[39m res\n",
      "File \u001b[1;32md:\\University\\Senior 2\\Fall 2022\\Image Processing\\Project\\FaceDetection-Recognition\\Detection\\adaboost\\adaboost.py:266\u001b[0m, in \u001b[0;36m<genexpr>\u001b[1;34m(.0)\u001b[0m\n\u001b[0;32m    264\u001b[0m \u001b[39mdef\u001b[39;00m \u001b[39mgetVotes\u001b[39m(haarFeatures ,integralImage):\n\u001b[0;32m    265\u001b[0m     \u001b[39m#Threshold = 0 because each feature votes for 1 or -1\u001b[39;00m\n\u001b[1;32m--> 266\u001b[0m     \u001b[39mreturn\u001b[39;00m \u001b[39m1\u001b[39m \u001b[39mif\u001b[39;00m np\u001b[39m.\u001b[39msum(c\u001b[39m.\u001b[39;49mgetVote(integralImage) \u001b[39mfor\u001b[39;00m c \u001b[39min\u001b[39;00m haarFeatures) \u001b[39m>\u001b[39m\u001b[39m=\u001b[39m \u001b[39m0\u001b[39m \u001b[39melse\u001b[39;00m \u001b[39m0\u001b[39m\n",
      "File \u001b[1;32md:\\University\\Senior 2\\Fall 2022\\Image Processing\\Project\\FaceDetection-Recognition\\Detection\\adaboost\\haarlikefeatures.py:112\u001b[0m, in \u001b[0;36mHaarLikeFeature.getVote\u001b[1;34m(self, intImg)\u001b[0m\n\u001b[0;32m    102\u001b[0m \u001b[39mdef\u001b[39;00m \u001b[39mgetVote\u001b[39m(\u001b[39mself\u001b[39m, intImg) :\n\u001b[0;32m    103\u001b[0m     \u001b[39m# intImg : integral image\u001b[39;00m\n\u001b[0;32m    104\u001b[0m     \u001b[39m# haarType : type of haar like feature\u001b[39;00m\n\u001b[1;32m   (...)\u001b[0m\n\u001b[0;32m    110\u001b[0m     \u001b[39m# value : value of the haar like feature\u001b[39;00m\n\u001b[0;32m    111\u001b[0m     \u001b[39m# polarity : polarity of the haar like feature\u001b[39;00m\n\u001b[1;32m--> 112\u001b[0m     value \u001b[39m=\u001b[39m \u001b[39mself\u001b[39;49m\u001b[39m.\u001b[39;49mcalculateFeatureValue(intImg) \u001b[39m*\u001b[39m \u001b[39mself\u001b[39m\u001b[39m.\u001b[39mpolarity\n\u001b[0;32m    113\u001b[0m     threshold \u001b[39m=\u001b[39m \u001b[39mself\u001b[39m\u001b[39m.\u001b[39mthreshold\n\u001b[0;32m    114\u001b[0m     \u001b[39mif\u001b[39;00m value \u001b[39m>\u001b[39m\u001b[39m=\u001b[39m threshold:\n",
      "File \u001b[1;32md:\\University\\Senior 2\\Fall 2022\\Image Processing\\Project\\FaceDetection-Recognition\\Detection\\adaboost\\haarlikefeatures.py:65\u001b[0m, in \u001b[0;36mHaarLikeFeature.calculateFeatureValue\u001b[1;34m(self, intImg)\u001b[0m\n\u001b[0;32m     63\u001b[0m     midHeight \u001b[39m=\u001b[39m math\u001b[39m.\u001b[39mfloor(height\u001b[39m/\u001b[39m\u001b[39m2\u001b[39m)\n\u001b[0;32m     64\u001b[0m     sum1 \u001b[39m=\u001b[39m calculateSum(intImg, x, y            , width, midHeight)\n\u001b[1;32m---> 65\u001b[0m     sum2 \u001b[39m=\u001b[39m calculateSum(intImg, x, y \u001b[39m+\u001b[39;49m midHeight, width, midHeight)\n\u001b[0;32m     66\u001b[0m     value \u001b[39m=\u001b[39m sum1 \u001b[39m-\u001b[39m sum2\n\u001b[0;32m     67\u001b[0m \u001b[39melif\u001b[39;00m haarType \u001b[39m==\u001b[39m HaarLikeFeature\u001b[39m.\u001b[39mHaarType\u001b[39m.\u001b[39mTWO_HORIZONTAL:\n",
      "File \u001b[1;32md:\\University\\Senior 2\\Fall 2022\\Image Processing\\Project\\FaceDetection-Recognition\\Detection\\adaboost\\haarlikefeatures.py:131\u001b[0m, in \u001b[0;36mcalculateSum\u001b[1;34m(intImg, x, y, width, height)\u001b[0m\n\u001b[0;32m    129\u001b[0m     \u001b[39mprint\u001b[39m(\u001b[39m'\u001b[39m\u001b[39mError2: Feature out of bounds\u001b[39m\u001b[39m'\u001b[39m)\n\u001b[0;32m    130\u001b[0m     \u001b[39mprint\u001b[39m(\u001b[39mf\u001b[39m\u001b[39m\"\u001b[39m\u001b[39mx: \u001b[39m\u001b[39m{\u001b[39;00mx\u001b[39m}\u001b[39;00m\u001b[39m, y: \u001b[39m\u001b[39m{\u001b[39;00my\u001b[39m}\u001b[39;00m\u001b[39m, width: \u001b[39m\u001b[39m{\u001b[39;00mwidth\u001b[39m}\u001b[39;00m\u001b[39m, height: \u001b[39m\u001b[39m{\u001b[39;00mheight\u001b[39m}\u001b[39;00m\u001b[39m, intImg.shape: \u001b[39m\u001b[39m{\u001b[39;00mintImg\u001b[39m.\u001b[39mshape\u001b[39m}\u001b[39;00m\u001b[39m\"\u001b[39m)\n\u001b[1;32m--> 131\u001b[0m \u001b[39msum\u001b[39m \u001b[39m=\u001b[39m intImg[y \u001b[39m+\u001b[39;49m height, x \u001b[39m+\u001b[39;49m width] \u001b[39m-\u001b[39m intImg[y \u001b[39m+\u001b[39m height, x] \u001b[39m-\u001b[39m intImg[y, x \u001b[39m+\u001b[39m width] \u001b[39m+\u001b[39m intImg[y, x]\n\u001b[0;32m    132\u001b[0m \u001b[39mreturn\u001b[39;00m \u001b[39msum\u001b[39m\n",
      "\u001b[1;31mIndexError\u001b[0m: index 24 is out of bounds for axis 0 with size 24"
     ]
    }
   ],
   "source": [
    "minFeatureWidth = 4\n",
    "maxFeatureWidth = 20\n",
    "minFeatureHeight = 4\n",
    "maxFeatureHeight = 20\n",
    "\n",
    "classifiersToBeUsed = []\n",
    "try :\n",
    "    print(\"Loading classifiers...\")\n",
    "    classifiersToBeUsed = np.load(\"./classifiers.npy\", allow_pickle=True)\n",
    "except Exception as e:\n",
    "    # print(e)\n",
    "    print(\"No classifiers found, creating new classifiers...\")\n",
    "    classifier = ab.AdaBoost()\n",
    "    nClassifiers = 50\n",
    "    start = time.time()\n",
    "    classifiersToBeUsed = classifier.learn(posDataset, negDataset,0.3,minFeatureWidth,minFeatureHeight,maxFeatureWidth,maxFeatureHeight, nClassifiers)\n",
    "    end = time.time()\n",
    "    classifiersToBeUsed = np.array(classifiersToBeUsed)\n",
    "    np.save(\"./classifiers.npy\", classifiersToBeUsed)\n",
    "    print(\"Time taken to train the classifier: \", end-start)\n",
    "\n",
    "print(\"Classifiers loaded successfully\")\n",
    "\n",
    "testDataSet = np.load(\"./Dataset/testFaces.npy\")\n",
    "testDataSetTarget = np.load(\"./Dataset/testTargets.npy\")\n",
    "#print the first 10 images in the test dataset\n",
    "# for i in range(10):\n",
    "#     io.imshow(testDataSet[i])\n",
    "#     io.show()\n",
    "\n",
    "\n",
    "i = 0\n",
    "correctCount = 0\n",
    "for test in testDataSet:\n",
    "    predicted = ab.getVotes(np.array(classifiersToBeUsed), test)\n",
    "    if predicted == testDataSetTarget[i]:\n",
    "        correctCount += 1\n",
    "    i += 1\n",
    "\n",
    "print(\"Accuracy: \", correctCount/len(testDataSet) * 100, \"%\")\n",
    "\n",
    "\n",
    "\n",
    "\n",
    "\n",
    "\n"
   ]
  }
 ],
 "metadata": {
  "kernelspec": {
   "display_name": "Python 3",
   "language": "python",
   "name": "python3"
  },
  "language_info": {
   "codemirror_mode": {
    "name": "ipython",
    "version": 3
   },
   "file_extension": ".py",
   "mimetype": "text/x-python",
   "name": "python",
   "nbconvert_exporter": "python",
   "pygments_lexer": "ipython3",
   "version": "3.10.6"
  },
  "orig_nbformat": 4,
  "vscode": {
   "interpreter": {
    "hash": "22323b844011101ed249661b7dd2cae934f6b78b31436e3431524c9d958c4c23"
   }
  }
 },
 "nbformat": 4,
 "nbformat_minor": 2
}
