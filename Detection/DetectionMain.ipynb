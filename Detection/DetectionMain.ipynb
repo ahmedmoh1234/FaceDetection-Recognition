{
 "cells": [
  {
   "cell_type": "code",
   "execution_count": 1,
   "metadata": {},
   "outputs": [
    {
     "name": "stderr",
     "output_type": "stream",
     "text": [
      "c:\\Users\\Ahmed Ismail\\AppData\\Local\\Programs\\Python\\Python310\\lib\\site-packages\\tqdm\\auto.py:22: TqdmWarning: IProgress not found. Please update jupyter and ipywidgets. See https://ipywidgets.readthedocs.io/en/stable/user_install.html\n",
      "  from .autonotebook import tqdm as notebook_tqdm\n"
     ]
    }
   ],
   "source": [
    "import skimage.io as io\n",
    "import skimage as sk\n",
    "from skimage.color import rgb2gray\n",
    "from skimage.transform import resize\n",
    "import time\n",
    "import numpy as np\n",
    "import os\n",
    "import copy\n",
    "from tqdm.auto import tqdm\n",
    "\n",
    "from unitTesting import UnitTest\n",
    "import adaboost.adaboost as ab\n",
    "import utilitis as ut"
   ]
  },
  {
   "attachments": {},
   "cell_type": "markdown",
   "metadata": {},
   "source": [
    "# Unit Testing"
   ]
  },
  {
   "cell_type": "code",
   "execution_count": 2,
   "metadata": {},
   "outputs": [
    {
     "name": "stdout",
     "output_type": "stream",
     "text": [
      "Integral image test PASSED\n",
      "Total number of features = 273312\n",
      "Determine features test FAILED. No of features : 273,312\n",
      "Calculate sum test 1 PASSED\n",
      "Calculate sum test 2 PASSED\n",
      "Calculate sum test 3 PASSED\n",
      "Feature value test 1 PASSED\n",
      "Feature value test 2 PASSED\n"
     ]
    }
   ],
   "source": [
    "img = io.imread('./test.jpg')\n",
    "img = rgb2gray(img)\n",
    "unitTesting = UnitTest(img)"
   ]
  },
  {
   "attachments": {},
   "cell_type": "markdown",
   "metadata": {},
   "source": [
    "# Getting Datasets"
   ]
  },
  {
   "cell_type": "code",
   "execution_count": 3,
   "metadata": {},
   "outputs": [
    {
     "name": "stdout",
     "output_type": "stream",
     "text": [
      "Loading positive dataset...\n",
      "Loading negative dataset...\n",
      "Positive Dataset Shape: (834, 24, 24)\n",
      "Negative Dataset Shape: (357, 24, 24)\n"
     ]
    }
   ],
   "source": [
    "\n",
    "\n",
    "#load positive dataset\n",
    "try:\n",
    "    print(\"Loading positive dataset...\")\n",
    "    positiveDataset = np.load(\"./Dataset/posTrain (1).npy\")\n",
    "except:\n",
    "    print(\"No dataset found, creating new dataset...\")\n",
    "    # positiveDataset = np.load(\"./Dataset/olivetti_faces.npy\")\n",
    "    positiveDataset = np.load(\"./testImg/postTrain.npy\")\n",
    "    personID = np.load(\"./Dataset/olivetti_faces_target.npy\")\n",
    "\n",
    "\n",
    "    #resize images to 24x24\n",
    "    newPositiveDataset = np.empty(shape=(positiveDataset.shape[0], 24, 24))\n",
    "    for i in range(len(positiveDataset)):\n",
    "        newImg = np.array(positiveDataset[i])\n",
    "        \n",
    "        finalImg = resize(newImg, (24, 24))\n",
    "        newPositiveDataset[i] = finalImg\n",
    "\n",
    "    positiveDataset = newPositiveDataset\n",
    "\n",
    "    # for i in range(10):\n",
    "    #     io.imshow(positiveDataset[i])\n",
    "    #     io.show()\n",
    "\n",
    "    # print(positiveDataset.shape)\n",
    "\n",
    "    \n",
    "\n",
    "    # np.save(\"./Dataset/positiveDataset.npy\", positiveDataset)\n",
    "    # print(\"Positive Dataset saved\")\n",
    "\n",
    "#loading negative dataset\n",
    "try:\n",
    "    print(\"Loading negative dataset...\")\n",
    "    negativeDataset = np.load(\"./Dataset/negTrain.npy\")\n",
    "except:\n",
    "    print(\"No dataset found, creating new dataset...\")\n",
    "    directory = \"./Dataset/NegativeSet\"\n",
    "    negativeDataset = np.empty(shape=(len(os.listdir(directory)), 24, 24))\n",
    "    i = 0\n",
    "    for filename in os.listdir(directory):\n",
    "        if filename.endswith(\".jpg\"):\n",
    "            curImg = io.imread(os.path.join(directory, filename), as_gray=True)\n",
    "            newImg = resize(curImg, (24, 24))\n",
    "            negativeDataset[i] = newImg\n",
    "            i += 1\n",
    "    # negativeDataset = negativeDataset.reshape(len(os.listdir(directory)), 64, 64)\n",
    "    # print(negativeDataset.shape)\n",
    "    # np.save(\"./Dataset/negativeDataset.npy\", negativeDataset)\n",
    "    # print(\"Negative Dataset saved\")\n",
    "\n",
    "\n",
    "\n",
    "posDataset, negDataset = ut.preprocessImages(positiveDataset, negativeDataset)\n",
    "\n",
    "print(f\"Positive Dataset Shape: {posDataset.shape}\")\n",
    "print(f\"Negative Dataset Shape: {negDataset.shape}\")\n",
    "\n"
   ]
  },
  {
   "attachments": {},
   "cell_type": "markdown",
   "metadata": {},
   "source": [
    "# Training"
   ]
  },
  {
   "cell_type": "code",
   "execution_count": 4,
   "metadata": {},
   "outputs": [
    {
     "name": "stdout",
     "output_type": "stream",
     "text": [
      "Loading classifiers...\n",
      "Classifiers loaded successfully\n"
     ]
    }
   ],
   "source": [
    "minFeatureWidth = 4\n",
    "maxFeatureWidth = 20\n",
    "minFeatureHeight = 4\n",
    "maxFeatureHeight = 20\n",
    "nClassifiers = 5001\n",
    "threshold = 0\n",
    "\n",
    "classifiersToBeUsed = []\n",
    "try :\n",
    "    print(\"Loading classifiers...\")\n",
    "    classifiersToBeUsed = np.load(\"./classifiers5001-0-4-20.npy\", allow_pickle=True)\n",
    "except Exception as e:\n",
    "    # print(e)\n",
    "    print(\"No classifiers found, creating new classifiers...\")\n",
    "    classifier = ab.AdaBoost()\n",
    "    start = time.time()\n",
    "    classifiersToBeUsed = classifier.learn(posDataset, negDataset,threshold,minFeatureWidth,minFeatureHeight,maxFeatureWidth,maxFeatureHeight, nClassifiers)\n",
    "    end = time.time()\n",
    "    classifiersToBeUsed = np.array(classifiersToBeUsed)\n",
    "    np.save(\"./classifiers\"+str(nClassifiers)+\"-\" + str(threshold)+ \"-\"+str(minFeatureWidth)+\"-\" + str(maxFeatureWidth)+ \".npy\", classifiersToBeUsed)\n",
    "    print(\"Time taken to train the classifier: \", end-start)\n",
    "\n",
    "print(\"Classifiers loaded successfully\")\n",
    "\n",
    "\n",
    "\n",
    "\n",
    "\n",
    "\n"
   ]
  },
  {
   "cell_type": "code",
   "execution_count": 5,
   "metadata": {},
   "outputs": [],
   "source": [
    "# start = time.time()\n",
    "# trainFaces = np.load(\"./TestImg/realFaces.npy\")\n",
    "# classifier = ab.AdaBoost()\n",
    "# trainedClassifiersToBeUsed = classifier.train(trainFaces, negDataset, nClassifiers,classifiersToBeUsed)\n",
    "# end = time.time()"
   ]
  },
  {
   "attachments": {},
   "cell_type": "markdown",
   "metadata": {},
   "source": [
    "# Testing"
   ]
  },
  {
   "cell_type": "code",
   "execution_count": 6,
   "metadata": {},
   "outputs": [
    {
     "name": "stdout",
     "output_type": "stream",
     "text": [
      "Test Dataset Shape: (160, 24, 24)\n",
      "Predicted:  0\n",
      "Target:  1\n",
      "Predicted:  0\n",
      "Target:  1\n",
      "Predicted:  0\n",
      "Target:  1\n",
      "Accuracy:  98.125 %\n",
      "Faces detected: 97 / 100 , Accuracy: 97.0%\n",
      "Non Faces detected: 60 / 60 , Accuracy: 100.0%\n"
     ]
    }
   ],
   "source": [
    "testDataSet = np.load(\"./Dataset/testMix.npy\")\n",
    "testDataSetTarget = np.load(\"./Dataset/testTargets.npy\")\n",
    "#convert to int \n",
    "testDataSetTarget = testDataSetTarget.astype(int)\n",
    "\n",
    "print(f\"Test Dataset Shape: {testDataSet.shape}\")\n",
    "\n",
    "#get integral images\n",
    "ii = np.array([ut.integralImage(test) for test in testDataSet])\n",
    "\n",
    "i = 0\n",
    "correctCount = 0\n",
    "firstWrong = 5\n",
    "facesCount = 0\n",
    "correctFacesCount = 0\n",
    "correctNonFacesCount = 0\n",
    "nonFacesCount = 0\n",
    "for test in ii:\n",
    "    predicted = ut.getVotes(np.array(classifiersToBeUsed), test)\n",
    "    if predicted == testDataSetTarget[i]:\n",
    "        correctCount += 1\n",
    "        if predicted == 1:\n",
    "            correctFacesCount += 1\n",
    "        else:\n",
    "            correctNonFacesCount += 1\n",
    "    else:\n",
    "        if firstWrong > 0:\n",
    "            print(\"Predicted: \", predicted)\n",
    "            print(\"Target: \", testDataSetTarget[i])\n",
    "            # io.imshow(testDataSet[i])\n",
    "            # io.show()\n",
    "            firstWrong -= 1\n",
    "    if testDataSetTarget[i] == 1:\n",
    "        facesCount += 1\n",
    "    if testDataSetTarget[i] == 0:\n",
    "        nonFacesCount += 1\n",
    "    \n",
    "    i += 1\n",
    "\n",
    "print(\"Accuracy: \", correctCount/len(testDataSet) * 100, \"%\")\n",
    "print(f\"Faces detected: {correctFacesCount} / {facesCount} , Accuracy: {correctFacesCount/facesCount * 100}%\")\n",
    "print(f\"Non Faces detected: {correctNonFacesCount} / {nonFacesCount} , Accuracy: {correctNonFacesCount/nonFacesCount * 100}%\")"
   ]
  },
  {
   "attachments": {},
   "cell_type": "markdown",
   "metadata": {},
   "source": [
    "# Actual Run"
   ]
  },
  {
   "cell_type": "code",
   "execution_count": 7,
   "metadata": {},
   "outputs": [],
   "source": [
    "def scaleFeatures(features, scale):\n",
    "\n",
    "    \n",
    "    features2 = copy.deepcopy(features)\n",
    "    try:\n",
    "        finalFeatures = np.load(\"./scaledFeatures\"+str(scale)+ \".npy\", allow_pickle=True)\n",
    "        print(f\"Features with scale {scale} loaded successfully\")\n",
    "        return np.array(finalFeatures)\n",
    "    except:\n",
    "        print(\"No features found, creating new features...\")\n",
    "\n",
    "        finalFeatures = []\n",
    "        for f in features2:\n",
    "            if f.x + f.width > 24:\n",
    "                print(f\"x + width > 24, x: {f.x}, width: {f.width}\")\n",
    "\n",
    "            if f.y + f.height > 24:\n",
    "                print(f\"y + height > 24 , y: {f.y}, height: {f.height}\")\n",
    "\n",
    "            f = f * float(scale)\n",
    "            finalFeatures.append(f)\n",
    "        finalFeatures2 = np.array(finalFeatures)\n",
    "        np.save(\"./scaledFeatures\"+str(scale) + \".npy\", finalFeatures2)\n",
    "        print(\"Features saved successfully\")\n",
    "        return finalFeatures2\n"
   ]
  },
  {
   "cell_type": "code",
   "execution_count": 8,
   "metadata": {},
   "outputs": [],
   "source": [
    "def predict(img2, classifiersToBeUsedFn) -> list:\n",
    "    img = np.copy(img2)\n",
    "    img = rgb2gray(img)\n",
    "    img = img/img.max()\n",
    "    img = img / np.var(img)\n",
    "\n",
    "\n",
    "    ii = ut.integralImage(img)\n",
    "    imgHeight, imgWidth = img.shape\n",
    "\n",
    "    if imgHeight < 24 or imgWidth < 24:\n",
    "        return []\n",
    "\n",
    "    #scaling features\n",
    "    maxScaleFactor = min(imgHeight/24, imgWidth/24)\n",
    "\n",
    "\n",
    "    \n",
    "    detectedFaces = []\n",
    "\n",
    "\n",
    "\n",
    "    print(\"Scaling features...\")\n",
    "    scaledFeatures2_5 = scaleFeatures(classifiersToBeUsedFn, 2.5)\n",
    "    scaledFeatures2_5 = scaledFeatures2_5.squeeze()\n",
    "\n",
    "    scaledFeatures3_75 = scaleFeatures(classifiersToBeUsedFn, 3.75)\n",
    "    scaledFeatures3_75 = scaledFeatures3_75.squeeze()\n",
    "\n",
    "    scaledFeatures5 = scaleFeatures(classifiersToBeUsedFn, 5)\n",
    "    scaledFeatures5 = scaledFeatures5.squeeze()\n",
    "\n",
    "    scaledFeatures6_25 = scaleFeatures(classifiersToBeUsedFn, 6.25)\n",
    "    scaledFeatures6_25 = scaledFeatures6_25.squeeze()\n",
    "\n",
    "    scaledFeatures7_5 = scaleFeatures(classifiersToBeUsedFn, 7.5)\n",
    "    scaledFeatures7_5 = scaledFeatures7_5.squeeze()\n",
    "\n",
    "    scaledFeatures8_75 = scaleFeatures(classifiersToBeUsedFn, 8.75)\n",
    "    scaledFeatures8_75 = scaledFeatures8_75.squeeze()\n",
    "\n",
    "    scaledFeatures10 = scaleFeatures(classifiersToBeUsedFn, 10)\n",
    "    scaledFeatures10 = scaledFeatures10.squeeze()\n",
    "\n",
    "    scaledFeatures11_25 = scaleFeatures(classifiersToBeUsedFn, 11.25)\n",
    "    scaledFeatures11_25 = scaledFeatures11_25.squeeze()\n",
    "\n",
    "    scaledFeatures12_5 = scaleFeatures(classifiersToBeUsedFn, 12.5)\n",
    "    scaledFeatures12_5 = scaledFeatures12_5.squeeze()\n",
    "\n",
    "    print(\"Features scaled successfully\\n\")\n",
    "    scaledFeatures = [scaledFeatures2_5, scaledFeatures3_75, scaledFeatures5, scaledFeatures6_25, scaledFeatures7_5, scaledFeatures8_75, scaledFeatures10, scaledFeatures11_25, scaledFeatures12_5]\n",
    "\n",
    "\n",
    "    #print the max x and y in classifiersToBeUsed\n",
    "    # maxX = 0\n",
    "    # maxY = 0\n",
    "    # maxWidth = 0\n",
    "    # maxHeight = 0\n",
    "    # maxTotX = 0\n",
    "    # maxTotY = 0\n",
    "    # for f in scaledFeatures5 :\n",
    "    #     if not isinstance(f.x, int):\n",
    "    #         print(\"x is float\")\n",
    "    #     if not isinstance(f.y, int):\n",
    "    #         print(\"y is float\")\n",
    "    #     if not isinstance(f.width, int):\n",
    "    #         print(\"width is float\")\n",
    "    #     if not isinstance(f.height, int):\n",
    "    #         print(\"height is float\")\n",
    "\n",
    "            \n",
    "    #     if f.x + f.width > maxTotX:\n",
    "    #         maxX = f.x\n",
    "    #         maxWidth = f.width\n",
    "    #         maxTotX = f.x + f.width\n",
    "    #     if f.y + f.height > maxTotY:\n",
    "    #         maxY = f.y\n",
    "    #         maxHeight = f.height\n",
    "    #         maxTotY = f.y + f.height\n",
    "    # print(f\"===========Max x: {maxX} and maxWidth = {maxWidth} with MaxTotX = {maxTotX} and max y: {maxY} and maxHeight = {maxHeight} with MaxTotY = {maxTotY}\")\n",
    "    # print(f\"scale factor: {scaledFeatures5[0].scale} \\n\")\n",
    "    \n",
    "    \n",
    "\n",
    "    # print(f\"shape of scaled features: {scaledFeatures[0].shape}\")\n",
    "    shiftValue = 1\n",
    "    for features in scaledFeatures:\n",
    "        scaleFactor = features[0].scale\n",
    "        print(f\"Scale factor: {scaleFactor} and max scale factor: {maxScaleFactor}\")\n",
    "        if scaleFactor > maxScaleFactor:\n",
    "            print(\"Scale factor greater than max scale factor, breaking\")\n",
    "            break\n",
    "        print(f\"\\nRunning scale factor: {scaleFactor}\")\n",
    "        #print max x and y in features\n",
    "        # maxX = 0\n",
    "        # maxY = 0\n",
    "        # for f in features:\n",
    "        #     if f.x + f.width > maxX:\n",
    "        #         maxX = f.x + f.width\n",
    "        #     if f.y + f.height > maxY:\n",
    "        #         maxY = f.y + f.height\n",
    "        # print(f\"maxX: {maxX}, maxY: {maxY}\")\n",
    "        # print(f\"min x = {0} max x = {int(imgWidth - (24 * scaleFactor))} shift value = {int(np.round(shiftValue * scaleFactor))}\")\n",
    "        for x in tqdm(range(0, int(imgWidth - (24 * scaleFactor)), int(np.round(shiftValue * scaleFactor)))):\n",
    "            scaledFeatures2 = copy.deepcopy(features)\n",
    "            scaledFeatures2 = [sf + (x,0) for sf in scaledFeatures2]\n",
    "            # maxX = 0\n",
    "            # maxY = 0\n",
    "            # for f in scaledFeatures2:\n",
    "            #     if f.x + f.width > maxX:\n",
    "            #         maxX = f.x + f.width\n",
    "            #     if f.y + f.height > maxY:\n",
    "            #         maxY = f.y + f.height\n",
    "            # print(f\"maxX: {maxX}, maxY: {maxY}\")\n",
    "            # print(f\"min y = {0} max y = {int(imgHeight - (24 * scaleFactor))} shift value = {int(np.round(shiftValue * scaleFactor))}\")\n",
    "            for y in range(0, int(imgHeight - (24 * scaleFactor)), int(np.round(shiftValue * scaleFactor))):\n",
    "                # print(f\"scale factor: {scaleFactor}, x: {x}, y: {y}\")\n",
    "                if ut.getVotes(scaledFeatures2, ii) == 1:\n",
    "                    detectedFaces.append([x, y, scaleFactor])\n",
    "                scaledFeatures2 = [sf + (0,int(np.round(shiftValue * scaleFactor))) for sf in scaledFeatures2]\n",
    "        print(\"Finished scale factor: \", scaleFactor)\n",
    "    \n",
    "    return detectedFaces\n",
    "\n",
    "\n"
   ]
  },
  {
   "cell_type": "code",
   "execution_count": 9,
   "metadata": {},
   "outputs": [],
   "source": [
    "def drawRect(img2, x, y, scaleFactor):\n",
    "    img = np.copy(img2)\n",
    "    img = img/img.max()\n",
    "    if len(img.shape) == 3:\n",
    "        img = rgb2gray(img)\n",
    "    # print(img.shape)\n",
    "    imgHeight, imgWidth = img.shape\n",
    "    x = int(x)\n",
    "    y = int(y)\n",
    "    scaleFactor = int(scaleFactor)\n",
    "    for i in range(x, x + (24 * scaleFactor)):\n",
    "        if i < imgWidth and y < imgHeight:\n",
    "            img[y][i] = 1\n",
    "        if i < imgWidth and y + (24 * scaleFactor) < imgHeight:\n",
    "            img[y + (24 * scaleFactor)][i] = 1\n",
    "    for i in range(y, y + (24 * scaleFactor)):\n",
    "        if i < imgHeight and x < imgWidth:\n",
    "            img[i][x] = 1\n",
    "        if i < imgHeight and x + (24 * scaleFactor) < imgWidth:\n",
    "            img[i][x + (24 * scaleFactor)] = 1\n",
    "    return img\n",
    "\n",
    "\n",
    "\n"
   ]
  },
  {
   "cell_type": "code",
   "execution_count": 10,
   "metadata": {},
   "outputs": [
    {
     "name": "stdout",
     "output_type": "stream",
     "text": [
      "Scaling features...\n",
      "Features with scale 2.5 loaded successfully\n",
      "Features with scale 3.75 loaded successfully\n",
      "Features with scale 5 loaded successfully\n",
      "Features with scale 6.25 loaded successfully\n",
      "Features with scale 7.5 loaded successfully\n",
      "Features with scale 8.75 loaded successfully\n",
      "Features with scale 10 loaded successfully\n",
      "Features with scale 11.25 loaded successfully\n",
      "Features with scale 12.5 loaded successfully\n",
      "Features scaled successfully\n",
      "\n",
      "Scale factor: 2.5 and max scale factor: 4.541666666666667\n",
      "\n",
      "Running scale factor: 2.5\n"
     ]
    },
    {
     "name": "stderr",
     "output_type": "stream",
     "text": [
      "100%|██████████| 25/25 [01:04<00:00,  2.58s/it]\n"
     ]
    },
    {
     "name": "stdout",
     "output_type": "stream",
     "text": [
      "Finished scale factor:  2.5\n",
      "Scale factor: 3.75 and max scale factor: 4.541666666666667\n",
      "\n",
      "Running scale factor: 3.75\n"
     ]
    },
    {
     "name": "stderr",
     "output_type": "stream",
     "text": [
      "100%|██████████| 5/5 [00:04<00:00,  1.08it/s]\n"
     ]
    },
    {
     "name": "stdout",
     "output_type": "stream",
     "text": [
      "Finished scale factor:  3.75\n",
      "Scale factor: 5.0 and max scale factor: 4.541666666666667\n",
      "Scale factor greater than max scale factor, breaking\n",
      "==========Face detected==============\n",
      "Scaling features...\n",
      "Features with scale 2.5 loaded successfully\n",
      "Features with scale 3.75 loaded successfully\n",
      "Features with scale 5 loaded successfully\n",
      "Features with scale 6.25 loaded successfully\n",
      "Features with scale 7.5 loaded successfully\n",
      "Features with scale 8.75 loaded successfully\n",
      "Features with scale 10 loaded successfully\n",
      "Features with scale 11.25 loaded successfully\n",
      "Features with scale 12.5 loaded successfully\n",
      "Features scaled successfully\n",
      "\n",
      "Scale factor: 2.5 and max scale factor: 6.25\n",
      "\n",
      "Running scale factor: 2.5\n"
     ]
    },
    {
     "name": "stderr",
     "output_type": "stream",
     "text": [
      "100%|██████████| 45/45 [02:28<00:00,  3.30s/it]\n"
     ]
    },
    {
     "name": "stdout",
     "output_type": "stream",
     "text": [
      "Finished scale factor:  2.5\n",
      "Scale factor: 3.75 and max scale factor: 6.25\n",
      "\n",
      "Running scale factor: 3.75\n"
     ]
    },
    {
     "name": "stderr",
     "output_type": "stream",
     "text": [
      "100%|██████████| 15/15 [00:18<00:00,  1.26s/it]\n"
     ]
    },
    {
     "name": "stdout",
     "output_type": "stream",
     "text": [
      "Finished scale factor:  3.75\n",
      "Scale factor: 5.0 and max scale factor: 6.25\n",
      "\n",
      "Running scale factor: 5.0\n"
     ]
    },
    {
     "name": "stderr",
     "output_type": "stream",
     "text": [
      "100%|██████████| 6/6 [00:03<00:00,  1.55it/s]\n"
     ]
    },
    {
     "name": "stdout",
     "output_type": "stream",
     "text": [
      "Finished scale factor:  5.0\n",
      "Scale factor: 6.25 and max scale factor: 6.25\n",
      "\n",
      "Running scale factor: 6.25\n"
     ]
    },
    {
     "name": "stderr",
     "output_type": "stream",
     "text": [
      "0it [00:00, ?it/s]"
     ]
    },
    {
     "name": "stdout",
     "output_type": "stream",
     "text": [
      "Finished scale factor:  6.25\n",
      "Scale factor: 7.5 and max scale factor: 6.25\n",
      "Scale factor greater than max scale factor, breaking\n",
      "================No faces detected================\n"
     ]
    },
    {
     "name": "stderr",
     "output_type": "stream",
     "text": [
      "\n"
     ]
    }
   ],
   "source": [
    "def detectFaces(img, classifiersToBeUsedFn, threshold = 0):\n",
    "    if img.shape[0] > 150 or img.shape[1] > 150:\n",
    "        img = resize(img, (150, 150))\n",
    "    detectedFaces = predict(img, classifiersToBeUsedFn)\n",
    "\n",
    "    if len(detectedFaces) > threshold:\n",
    "        print(f\"==========Face detected==============\")\n",
    "        for face in detectedFaces:\n",
    "            img = drawRect(img, face[0], face[1], face[2])\n",
    "        return img\n",
    "    else:\n",
    "        print(\"================No faces detected================\")\n",
    "        return None\n",
    "\n",
    "threshold = 30\n",
    "img = io.imread(\"./TestImg/Lopez.jpg\")\n",
    "detectedFace = detectFaces(img, classifiersToBeUsed,threshold)\n",
    "\n",
    "img = io.imread(\"./TestImg/Apple.jpg\")\n",
    "detectedFace = detectFaces(img, classifiersToBeUsed,threshold)\n",
    "\n",
    "\n"
   ]
  }
 ],
 "metadata": {
  "kernelspec": {
   "display_name": "Python 3",
   "language": "python",
   "name": "python3"
  },
  "language_info": {
   "codemirror_mode": {
    "name": "ipython",
    "version": 3
   },
   "file_extension": ".py",
   "mimetype": "text/x-python",
   "name": "python",
   "nbconvert_exporter": "python",
   "pygments_lexer": "ipython3",
   "version": "3.10.6"
  },
  "orig_nbformat": 4,
  "vscode": {
   "interpreter": {
    "hash": "22323b844011101ed249661b7dd2cae934f6b78b31436e3431524c9d958c4c23"
   }
  }
 },
 "nbformat": 4,
 "nbformat_minor": 2
}
