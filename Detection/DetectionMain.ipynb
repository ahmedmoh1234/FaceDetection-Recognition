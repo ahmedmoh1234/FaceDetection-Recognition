{
 "cells": [
  {
   "cell_type": "code",
   "execution_count": 1,
   "metadata": {},
   "outputs": [],
   "source": [
    "import skimage.io as io\n",
    "import skimage as sk\n",
    "from skimage.color import rgb2gray\n",
    "from skimage.transform import resize\n",
    "import time\n",
    "import numpy as np\n",
    "import os\n",
    "\n",
    "\n",
    "from unitTesting import UnitTest\n",
    "import adaboost.adaboost as ab"
   ]
  },
  {
   "attachments": {},
   "cell_type": "markdown",
   "metadata": {},
   "source": [
    "# Testing"
   ]
  },
  {
   "cell_type": "code",
   "execution_count": 2,
   "metadata": {},
   "outputs": [
    {
     "name": "stdout",
     "output_type": "stream",
     "text": [
      "Integral image test PASSED\n",
      "Determine features test PASSED\n",
      "(400, 24, 24)\n",
      "(59, 24, 24)\n"
     ]
    }
   ],
   "source": [
    "img = io.imread('./test.jpg')\n",
    "img = rgb2gray(img)\n",
    "ut = UnitTest(img)\n",
    "\n",
    "positiveDataset = np.load(\"./olivetti_faces.npy\")\n",
    "personID = np.load(\"./olivetti_faces_target.npy\")\n",
    "\n",
    "\n",
    "newPositiveDataset = np.empty(shape=(positiveDataset.shape[0], 24, 24))\n",
    "#resize images to 24x24\n",
    "for i in range(len(positiveDataset)):\n",
    "    newImg = np.array(positiveDataset[i])\n",
    "    \n",
    "    finalImg = resize(newImg, (24, 24))\n",
    "    newPositiveDataset[i] = finalImg\n",
    "\n",
    "positiveDataset = newPositiveDataset\n",
    "\n",
    "# for i in range(10):\n",
    "#     io.imshow(positiveDataset[i])\n",
    "#     io.show()\n",
    "\n",
    "# print(positiveDataset.shape)\n",
    "\n",
    "directory = \"./dataset/NegativeSet\"\n",
    "negativeDataset = np.empty(shape=(len(os.listdir(directory)), 24, 24))\n",
    "i = 0\n",
    "for filename in os.listdir(directory):\n",
    "    if filename.endswith(\".jpg\"):\n",
    "        curImg = io.imread(os.path.join(directory, filename), as_gray=True)\n",
    "        newImg = resize(curImg, (24, 24))\n",
    "        negativeDataset[i] = newImg\n",
    "        i += 1\n",
    "# negativeDataset = negativeDataset.reshape(len(os.listdir(directory)), 64, 64)\n",
    "# print(negativeDataset.shape)\n",
    "\n",
    "\n",
    "# for i in range(10):\n",
    "#     io.imshow(negativeDataset[i])\n",
    "#     io.show()\n",
    "\n",
    "\n",
    "\n",
    "\n",
    "posDataset, negDataset = ab.preprocessImages(positiveDataset, negativeDataset)\n",
    "print(posDataset.shape)\n",
    "print(negDataset.shape)\n",
    "\n"
   ]
  },
  {
   "cell_type": "code",
   "execution_count": null,
   "metadata": {},
   "outputs": [],
   "source": [
    "#Now we have the positive and negative datasets with size 24x24\n",
    "print(\"Starting to train the classifier\")\n",
    "start = time.time()\n",
    "classifier = ab.AdaBoost()\n",
    "classifiersToBeUsed = classifier.learn(posDataset, negDataset,0.3,24,24)\n",
    "end = time.time()\n",
    "print(\"Time taken to train the classifier: \", end-start)"
   ]
  }
 ],
 "metadata": {
  "kernelspec": {
   "display_name": "Python 3",
   "language": "python",
   "name": "python3"
  },
  "language_info": {
   "codemirror_mode": {
    "name": "ipython",
    "version": 3
   },
   "file_extension": ".py",
   "mimetype": "text/x-python",
   "name": "python",
   "nbconvert_exporter": "python",
   "pygments_lexer": "ipython3",
   "version": "3.10.6"
  },
  "orig_nbformat": 4,
  "vscode": {
   "interpreter": {
    "hash": "22323b844011101ed249661b7dd2cae934f6b78b31436e3431524c9d958c4c23"
   }
  }
 },
 "nbformat": 4,
 "nbformat_minor": 2
}
